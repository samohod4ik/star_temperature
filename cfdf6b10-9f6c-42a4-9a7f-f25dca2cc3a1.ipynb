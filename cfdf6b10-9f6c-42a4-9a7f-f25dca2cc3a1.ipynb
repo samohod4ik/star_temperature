{
 "cells": [
  {
   "cell_type": "markdown",
   "id": "corresponding-armstrong",
   "metadata": {
    "ExecuteTime": {
     "end_time": "2022-05-05T04:58:05.692448Z",
     "start_time": "2022-05-05T04:58:05.688565Z"
    }
   },
   "source": [
    "## Загрузка данных"
   ]
  },
  {
   "cell_type": "markdown",
   "id": "4eb9d950",
   "metadata": {},
   "source": [
    "Задача от обсерватории «Небо на ладони»: придумать, как с помощью нейросети определять температуру на поверхности обнаруженных звёзд. Обычно для расчёта температуры учёные пользуются следующими методами:\n",
    "Закон смещения Вина.\n",
    "Закон Стефана-Больцмана.\n",
    "Спектральный анализ.\n",
    "Каждый из них имеет плюсы и минусы. Обсерватория хочет внедрить технологии машинного обучения для предсказания температуры звёзд, надеясь, что этот метод будет наиболее точным и удобным.\n",
    "В базе обсерватории есть характеристики уже изученных 240 звёзд."
   ]
  },
  {
   "cell_type": "code",
   "execution_count": 139,
   "id": "f2bef991",
   "metadata": {},
   "outputs": [
    {
     "name": "stdout",
     "output_type": "stream",
     "text": [
      "Requirement already satisfied: phik in /opt/conda/lib/python3.9/site-packages (0.12.3)\n",
      "Requirement already satisfied: matplotlib>=2.2.3 in /opt/conda/lib/python3.9/site-packages (from phik) (3.3.4)\n",
      "Requirement already satisfied: numpy>=1.18.0 in /opt/conda/lib/python3.9/site-packages (from phik) (1.21.1)\n",
      "Requirement already satisfied: joblib>=0.14.1 in /opt/conda/lib/python3.9/site-packages (from phik) (1.1.0)\n",
      "Requirement already satisfied: pandas>=0.25.1 in /opt/conda/lib/python3.9/site-packages (from phik) (1.2.4)\n",
      "Requirement already satisfied: scipy>=1.5.2 in /opt/conda/lib/python3.9/site-packages (from phik) (1.9.1)\n",
      "Requirement already satisfied: python-dateutil>=2.1 in /opt/conda/lib/python3.9/site-packages (from matplotlib>=2.2.3->phik) (2.8.1)\n",
      "Requirement already satisfied: pyparsing!=2.0.4,!=2.1.2,!=2.1.6,>=2.0.3 in /opt/conda/lib/python3.9/site-packages (from matplotlib>=2.2.3->phik) (2.4.7)\n",
      "Requirement already satisfied: kiwisolver>=1.0.1 in /opt/conda/lib/python3.9/site-packages (from matplotlib>=2.2.3->phik) (1.4.4)\n",
      "Requirement already satisfied: pillow>=6.2.0 in /opt/conda/lib/python3.9/site-packages (from matplotlib>=2.2.3->phik) (8.4.0)\n",
      "Requirement already satisfied: cycler>=0.10 in /opt/conda/lib/python3.9/site-packages (from matplotlib>=2.2.3->phik) (0.11.0)\n",
      "Requirement already satisfied: pytz>=2017.3 in /opt/conda/lib/python3.9/site-packages (from pandas>=0.25.1->phik) (2021.1)\n",
      "Requirement already satisfied: six>=1.5 in /opt/conda/lib/python3.9/site-packages (from python-dateutil>=2.1->matplotlib>=2.2.3->phik) (1.16.0)\n"
     ]
    }
   ],
   "source": [
    "!pip install phik"
   ]
  },
  {
   "cell_type": "code",
   "execution_count": 140,
   "id": "spectacular-folder",
   "metadata": {},
   "outputs": [],
   "source": [
    "import matplotlib.pyplot as plt\n",
    "import pandas as pd\n",
    "import phik\n",
    "import torch\n",
    "import torch.nn as nn\n",
    "\n",
    "from phik import report\n",
    "from phik.report import plot_correlation_matrix\n",
    "from sklearn.model_selection import train_test_split\n",
    "from sklearn.preprocessing import OneHotEncoder, StandardScaler"
   ]
  },
  {
   "cell_type": "code",
   "execution_count": 141,
   "id": "754c78a3",
   "metadata": {},
   "outputs": [],
   "source": [
    "RANDOM_STATE = 222222"
   ]
  },
  {
   "cell_type": "code",
   "execution_count": 142,
   "id": "4e7cff9f",
   "metadata": {},
   "outputs": [],
   "source": [
    "df = pd.read_csv(\"/datasets/6_class.csv\", index_col=0)"
   ]
  },
  {
   "cell_type": "code",
   "execution_count": 143,
   "id": "7a6714c0",
   "metadata": {},
   "outputs": [
    {
     "data": {
      "text/html": [
       "<div>\n",
       "<style scoped>\n",
       "    .dataframe tbody tr th:only-of-type {\n",
       "        vertical-align: middle;\n",
       "    }\n",
       "\n",
       "    .dataframe tbody tr th {\n",
       "        vertical-align: top;\n",
       "    }\n",
       "\n",
       "    .dataframe thead th {\n",
       "        text-align: right;\n",
       "    }\n",
       "</style>\n",
       "<table border=\"1\" class=\"dataframe\">\n",
       "  <thead>\n",
       "    <tr style=\"text-align: right;\">\n",
       "      <th></th>\n",
       "      <th>Temperature (K)</th>\n",
       "      <th>Luminosity(L/Lo)</th>\n",
       "      <th>Radius(R/Ro)</th>\n",
       "      <th>Absolute magnitude(Mv)</th>\n",
       "      <th>Star type</th>\n",
       "      <th>Star color</th>\n",
       "    </tr>\n",
       "  </thead>\n",
       "  <tbody>\n",
       "    <tr>\n",
       "      <th>0</th>\n",
       "      <td>3068</td>\n",
       "      <td>0.002400</td>\n",
       "      <td>0.1700</td>\n",
       "      <td>16.12</td>\n",
       "      <td>0</td>\n",
       "      <td>Red</td>\n",
       "    </tr>\n",
       "    <tr>\n",
       "      <th>1</th>\n",
       "      <td>3042</td>\n",
       "      <td>0.000500</td>\n",
       "      <td>0.1542</td>\n",
       "      <td>16.60</td>\n",
       "      <td>0</td>\n",
       "      <td>Red</td>\n",
       "    </tr>\n",
       "    <tr>\n",
       "      <th>2</th>\n",
       "      <td>2600</td>\n",
       "      <td>0.000300</td>\n",
       "      <td>0.1020</td>\n",
       "      <td>18.70</td>\n",
       "      <td>0</td>\n",
       "      <td>Red</td>\n",
       "    </tr>\n",
       "    <tr>\n",
       "      <th>3</th>\n",
       "      <td>2800</td>\n",
       "      <td>0.000200</td>\n",
       "      <td>0.1600</td>\n",
       "      <td>16.65</td>\n",
       "      <td>0</td>\n",
       "      <td>Red</td>\n",
       "    </tr>\n",
       "    <tr>\n",
       "      <th>4</th>\n",
       "      <td>1939</td>\n",
       "      <td>0.000138</td>\n",
       "      <td>0.1030</td>\n",
       "      <td>20.06</td>\n",
       "      <td>0</td>\n",
       "      <td>Red</td>\n",
       "    </tr>\n",
       "    <tr>\n",
       "      <th>5</th>\n",
       "      <td>2840</td>\n",
       "      <td>0.000650</td>\n",
       "      <td>0.1100</td>\n",
       "      <td>16.98</td>\n",
       "      <td>0</td>\n",
       "      <td>Red</td>\n",
       "    </tr>\n",
       "    <tr>\n",
       "      <th>6</th>\n",
       "      <td>2637</td>\n",
       "      <td>0.000730</td>\n",
       "      <td>0.1270</td>\n",
       "      <td>17.22</td>\n",
       "      <td>0</td>\n",
       "      <td>Red</td>\n",
       "    </tr>\n",
       "    <tr>\n",
       "      <th>7</th>\n",
       "      <td>2600</td>\n",
       "      <td>0.000400</td>\n",
       "      <td>0.0960</td>\n",
       "      <td>17.40</td>\n",
       "      <td>0</td>\n",
       "      <td>Red</td>\n",
       "    </tr>\n",
       "    <tr>\n",
       "      <th>8</th>\n",
       "      <td>2650</td>\n",
       "      <td>0.000690</td>\n",
       "      <td>0.1100</td>\n",
       "      <td>17.45</td>\n",
       "      <td>0</td>\n",
       "      <td>Red</td>\n",
       "    </tr>\n",
       "    <tr>\n",
       "      <th>9</th>\n",
       "      <td>2700</td>\n",
       "      <td>0.000180</td>\n",
       "      <td>0.1300</td>\n",
       "      <td>16.05</td>\n",
       "      <td>0</td>\n",
       "      <td>Red</td>\n",
       "    </tr>\n",
       "  </tbody>\n",
       "</table>\n",
       "</div>"
      ],
      "text/plain": [
       "   Temperature (K)  Luminosity(L/Lo)  Radius(R/Ro)  Absolute magnitude(Mv)  \\\n",
       "0             3068          0.002400        0.1700                   16.12   \n",
       "1             3042          0.000500        0.1542                   16.60   \n",
       "2             2600          0.000300        0.1020                   18.70   \n",
       "3             2800          0.000200        0.1600                   16.65   \n",
       "4             1939          0.000138        0.1030                   20.06   \n",
       "5             2840          0.000650        0.1100                   16.98   \n",
       "6             2637          0.000730        0.1270                   17.22   \n",
       "7             2600          0.000400        0.0960                   17.40   \n",
       "8             2650          0.000690        0.1100                   17.45   \n",
       "9             2700          0.000180        0.1300                   16.05   \n",
       "\n",
       "   Star type Star color  \n",
       "0          0        Red  \n",
       "1          0        Red  \n",
       "2          0        Red  \n",
       "3          0        Red  \n",
       "4          0        Red  \n",
       "5          0        Red  \n",
       "6          0        Red  \n",
       "7          0        Red  \n",
       "8          0        Red  \n",
       "9          0        Red  "
      ]
     },
     "execution_count": 143,
     "metadata": {},
     "output_type": "execute_result"
    }
   ],
   "source": [
    "df.head(10)"
   ]
  },
  {
   "cell_type": "code",
   "execution_count": 144,
   "id": "1d3de7ff",
   "metadata": {},
   "outputs": [
    {
     "data": {
      "text/html": [
       "<div>\n",
       "<style scoped>\n",
       "    .dataframe tbody tr th:only-of-type {\n",
       "        vertical-align: middle;\n",
       "    }\n",
       "\n",
       "    .dataframe tbody tr th {\n",
       "        vertical-align: top;\n",
       "    }\n",
       "\n",
       "    .dataframe thead th {\n",
       "        text-align: right;\n",
       "    }\n",
       "</style>\n",
       "<table border=\"1\" class=\"dataframe\">\n",
       "  <thead>\n",
       "    <tr style=\"text-align: right;\">\n",
       "      <th></th>\n",
       "      <th>count</th>\n",
       "      <th>mean</th>\n",
       "      <th>std</th>\n",
       "      <th>min</th>\n",
       "      <th>50%</th>\n",
       "      <th>max</th>\n",
       "    </tr>\n",
       "  </thead>\n",
       "  <tbody>\n",
       "    <tr>\n",
       "      <th>Temperature (K)</th>\n",
       "      <td>240.0</td>\n",
       "      <td>10497.462500</td>\n",
       "      <td>9552.425037</td>\n",
       "      <td>1939.00000</td>\n",
       "      <td>5776.0000</td>\n",
       "      <td>40000.00</td>\n",
       "    </tr>\n",
       "    <tr>\n",
       "      <th>Luminosity(L/Lo)</th>\n",
       "      <td>240.0</td>\n",
       "      <td>107188.361635</td>\n",
       "      <td>179432.244940</td>\n",
       "      <td>0.00008</td>\n",
       "      <td>0.0705</td>\n",
       "      <td>849420.00</td>\n",
       "    </tr>\n",
       "    <tr>\n",
       "      <th>Radius(R/Ro)</th>\n",
       "      <td>240.0</td>\n",
       "      <td>237.157781</td>\n",
       "      <td>517.155763</td>\n",
       "      <td>0.00840</td>\n",
       "      <td>0.7625</td>\n",
       "      <td>1948.50</td>\n",
       "    </tr>\n",
       "    <tr>\n",
       "      <th>Absolute magnitude(Mv)</th>\n",
       "      <td>240.0</td>\n",
       "      <td>4.382396</td>\n",
       "      <td>10.532512</td>\n",
       "      <td>-11.92000</td>\n",
       "      <td>8.3130</td>\n",
       "      <td>20.06</td>\n",
       "    </tr>\n",
       "    <tr>\n",
       "      <th>Star type</th>\n",
       "      <td>240.0</td>\n",
       "      <td>2.500000</td>\n",
       "      <td>1.711394</td>\n",
       "      <td>0.00000</td>\n",
       "      <td>2.5000</td>\n",
       "      <td>5.00</td>\n",
       "    </tr>\n",
       "  </tbody>\n",
       "</table>\n",
       "</div>"
      ],
      "text/plain": [
       "                        count           mean            std         min  \\\n",
       "Temperature (K)         240.0   10497.462500    9552.425037  1939.00000   \n",
       "Luminosity(L/Lo)        240.0  107188.361635  179432.244940     0.00008   \n",
       "Radius(R/Ro)            240.0     237.157781     517.155763     0.00840   \n",
       "Absolute magnitude(Mv)  240.0       4.382396      10.532512   -11.92000   \n",
       "Star type               240.0       2.500000       1.711394     0.00000   \n",
       "\n",
       "                              50%        max  \n",
       "Temperature (K)         5776.0000   40000.00  \n",
       "Luminosity(L/Lo)           0.0705  849420.00  \n",
       "Radius(R/Ro)               0.7625    1948.50  \n",
       "Absolute magnitude(Mv)     8.3130      20.06  \n",
       "Star type                  2.5000       5.00  "
      ]
     },
     "execution_count": 144,
     "metadata": {},
     "output_type": "execute_result"
    }
   ],
   "source": [
    "df.describe(percentiles=[.5]).T"
   ]
  },
  {
   "cell_type": "code",
   "execution_count": 145,
   "id": "c12241fc",
   "metadata": {},
   "outputs": [
    {
     "name": "stdout",
     "output_type": "stream",
     "text": [
      "<class 'pandas.core.frame.DataFrame'>\n",
      "Int64Index: 240 entries, 0 to 239\n",
      "Data columns (total 6 columns):\n",
      " #   Column                  Non-Null Count  Dtype  \n",
      "---  ------                  --------------  -----  \n",
      " 0   Temperature (K)         240 non-null    int64  \n",
      " 1   Luminosity(L/Lo)        240 non-null    float64\n",
      " 2   Radius(R/Ro)            240 non-null    float64\n",
      " 3   Absolute magnitude(Mv)  240 non-null    float64\n",
      " 4   Star type               240 non-null    int64  \n",
      " 5   Star color              240 non-null    object \n",
      "dtypes: float64(3), int64(2), object(1)\n",
      "memory usage: 13.1+ KB\n"
     ]
    }
   ],
   "source": [
    "df.info()"
   ]
  },
  {
   "cell_type": "code",
   "execution_count": 146,
   "id": "ea81f74e",
   "metadata": {},
   "outputs": [
    {
     "data": {
      "text/plain": [
       "'Количество дублированных строк: 0'"
      ]
     },
     "metadata": {},
     "output_type": "display_data"
    }
   ],
   "source": [
    "display(f\"Количество дублированных строк: {df.duplicated().sum()}\")"
   ]
  },
  {
   "cell_type": "markdown",
   "id": "98a77d2a",
   "metadata": {},
   "source": [
    "## Предобработка и анализ данных"
   ]
  },
  {
   "cell_type": "markdown",
   "id": "6523a78f",
   "metadata": {},
   "source": [
    "### Анализ первоначальных данных"
   ]
  },
  {
   "cell_type": "code",
   "execution_count": 147,
   "id": "8129abf2",
   "metadata": {},
   "outputs": [
    {
     "data": {
      "image/png": "[encoded data removed]",
      "text/plain": [
       "<Figure size 1008x576 with 1 Axes>"
      ]
     },
     "metadata": {
      "needs_background": "light"
     },
     "output_type": "display_data"
    }
   ],
   "source": [
    "# Создаем график\n",
    "plt.figure(figsize=(14, 8)) # Задаем размер графика\n",
    "\n",
    "# Строим график с помощью функции plot\n",
    "plt.plot(df['Temperature (K)']) # Замените 'column_name' на название вашего столбца\n",
    "\n",
    "# Добавляем заголовок и метки осей\n",
    "plt.title('График по столбцу dataframe')\n",
    "plt.xlabel('star id')\n",
    "plt.ylabel('Temperature (K)')\n",
    "\n",
    "# Отображаем график\n",
    "plt.show()"
   ]
  },
  {
   "cell_type": "markdown",
   "id": "2b12dff1",
   "metadata": {},
   "source": [
    "Звёзды делятся на разные классы и виды по температуре. Вот эти классы и виды:\n",
    "\n",
    "Звёзды класса A — имеют небольшую температуру в 7 500–10 000 Кельвинов. Светятся белым светом.\n",
    "Звёзды класса B — имеют температуру в 10 000 — 30 000 К. Светятся бело-голубым светом.\n",
    "Звёзды класса F — имеют температуру в 6 000 — 7 500 К. Истинный цвет — жёлто-белый.\n",
    "Звёзды класса G — имеют температуру в 5 000 — 6 000 К. Светятся жёлтым светом, как и в небе.\n",
    "Звёзды класса K — имеют температуру в 3 500 — 5 000 К. Светятся оранжевым. В небе видны как жёлтовато-оранжевые.\n",
    "Звёзды класса M — имеют низкую температуру в 2 000–3 500 К. Светятся красным, в небе можно увидеть их как оранжево-красные.\n",
    "Звёзды класса O — имеют высокую температуру в 30 000 — 60 000 К. Светятся голубым светом, как и в небе."
   ]
  },
  {
   "cell_type": "code",
   "execution_count": 148,
   "id": "cdd36803",
   "metadata": {},
   "outputs": [
    {
     "data": {
      "image/png": "[encoded data removed]",
      "text/plain": [
       "<Figure size 1008x576 with 1 Axes>"
      ]
     },
     "metadata": {
      "needs_background": "light"
     },
     "output_type": "display_data"
    }
   ],
   "source": [
    "# Создаем график\n",
    "plt.figure(figsize=(14, 8)) # Задаем размер графика\n",
    "\n",
    "# Строим график с помощью функции plot\n",
    "plt.plot(df['Luminosity(L/Lo)']) # Замените 'column_name' на название вашего столбца\n",
    "\n",
    "# Добавляем заголовок и метки осей\n",
    "plt.title('График по столбцу dataframe')\n",
    "plt.xlabel('star id')\n",
    "plt.ylabel('Luminosity(L/Lo)')\n",
    "\n",
    "# Отображаем график\n",
    "plt.show()"
   ]
  },
  {
   "cell_type": "markdown",
   "id": "3f7ac84f",
   "metadata": {},
   "source": [
    "Тут делим по светимости на солнцеподобные и те, что выше солнца. Очень низкая, низкая, средняя, высокая, очень высокая"
   ]
  },
  {
   "cell_type": "code",
   "execution_count": 149,
   "id": "acb0f4b1",
   "metadata": {},
   "outputs": [
    {
     "data": {
      "image/png": "[encoded data removed]",
      "text/plain": [
       "<Figure size 1008x576 with 1 Axes>"
      ]
     },
     "metadata": {
      "needs_background": "light"
     },
     "output_type": "display_data"
    }
   ],
   "source": [
    "# Создаем график\n",
    "plt.figure(figsize=(14, 8)) # Задаем размер графика\n",
    "\n",
    "# Строим график с помощью функции plot\n",
    "plt.plot(df['Radius(R/Ro)']) # Замените 'column_name' на название вашего столбца\n",
    "\n",
    "# Добавляем заголовок и метки осей\n",
    "plt.title('График по столбцу dataframe')\n",
    "plt.xlabel('star id')\n",
    "plt.ylabel('Radius(R/Ro)')\n",
    "\n",
    "# Отображаем график\n",
    "plt.show()"
   ]
  },
  {
   "cell_type": "markdown",
   "id": "f276f658",
   "metadata": {},
   "source": [
    "По радиусу очень маленькие, маленькие, средние, большие, очень большие "
   ]
  },
  {
   "cell_type": "code",
   "execution_count": 150,
   "id": "04674de5",
   "metadata": {},
   "outputs": [
    {
     "data": {
      "image/png": "[encoded data removed]",
      "text/plain": [
       "<Figure size 1008x576 with 1 Axes>"
      ]
     },
     "metadata": {
      "needs_background": "light"
     },
     "output_type": "display_data"
    }
   ],
   "source": [
    "# Создаем график\n",
    "plt.figure(figsize=(14, 8)) # Задаем размер графика\n",
    "\n",
    "# Строим график с помощью функции plot\n",
    "plt.plot(df['Absolute magnitude(Mv)']) # Замените 'column_name' на название вашего столбца\n",
    "\n",
    "# Добавляем заголовок и метки осей\n",
    "plt.title('График по столбцу dataframe')\n",
    "plt.xlabel('star id')\n",
    "plt.ylabel('Absolute magnitude(Mv)')\n",
    "\n",
    "# Отображаем график\n",
    "plt.show()"
   ]
  },
  {
   "cell_type": "markdown",
   "id": "113d482c",
   "metadata": {},
   "source": [
    "По магнитуде, маленькие, средние, большие, очень большие "
   ]
  },
  {
   "cell_type": "code",
   "execution_count": 151,
   "id": "99115f78",
   "metadata": {},
   "outputs": [
    {
     "data": {
      "text/plain": [
       "<AxesSubplot:>"
      ]
     },
     "execution_count": 151,
     "metadata": {},
     "output_type": "execute_result"
    },
    {
     "data": {
      "image/png": "[encoded data removed]",
      "text/plain": [
       "<Figure size 432x288 with 1 Axes>"
      ]
     },
     "metadata": {
      "needs_background": "light"
     },
     "output_type": "display_data"
    }
   ],
   "source": [
    "df['Star type'].hist(bins=12, legend=True)"
   ]
  },
  {
   "cell_type": "code",
   "execution_count": 152,
   "id": "4d4db867",
   "metadata": {},
   "outputs": [],
   "source": [
    "def print_pie(grouped):\n",
    "    sizes = grouped\n",
    "    labels = grouped.index\n",
    "\n",
    "    fig1, ax1 = plt.subplots(figsize=(6, 5))\n",
    "    fig1.subplots_adjust(0.3,0,1.5,1)\n",
    "\n",
    "\n",
    "    theme = plt.get_cmap('bwr')\n",
    "    ax1.set_prop_cycle(\"color\", [theme(1.3 * i / len(sizes)) for i in range(len(sizes))])\n",
    "\n",
    "    ax1.pie(sizes, startangle=90)\n",
    "\n",
    "    ax1.axis('equal')\n",
    "\n",
    "    total = sum(sizes)\n",
    "    plt.legend(\n",
    "        loc='upper left',\n",
    "        labels=['%s, %1.1f%%' % (\n",
    "            l, (float(s) / total) * 100) for l, s in zip(labels, sizes)],\n",
    "        prop={'size': 11},\n",
    "        bbox_to_anchor=(0.0, 1),\n",
    "        bbox_transform=fig1.transFigure\n",
    "    )\n",
    "\n",
    "    plt.show()"
   ]
  },
  {
   "cell_type": "code",
   "execution_count": 153,
   "id": "c6484201",
   "metadata": {},
   "outputs": [
    {
     "data": {
      "image/png": "[encoded data removed]",
      "text/plain": [
       "<Figure size 432x360 with 1 Axes>"
      ]
     },
     "metadata": {},
     "output_type": "display_data"
    }
   ],
   "source": [
    "grouped = df.groupby('Star color').size()\n",
    "print_pie(grouped)"
   ]
  },
  {
   "cell_type": "markdown",
   "id": "627302dd",
   "metadata": {},
   "source": [
    "Вывод: В категориальной переменной \"Star color\" много неявных дубликатов. В остальном ни выбывающихся значений, ни пропусков, ни явных дубликатов не наблюдается. Остаётся только исправиить значения колонки \"Star color\", построить хитмап корреляции параметров и упростить названия колонок для дальнейшей работы."
   ]
  },
  {
   "cell_type": "markdown",
   "id": "4d7ae604",
   "metadata": {},
   "source": [
    "### Предобработка данных"
   ]
  },
  {
   "cell_type": "code",
   "execution_count": 154,
   "id": "68e54baf",
   "metadata": {},
   "outputs": [],
   "source": [
    "# Изменим имеющиеся названия столбцов путем упрощения\n",
    "df.columns = ['temp', 'luminosity', 'radius', 'magnitude', 'type', 'color']"
   ]
  },
  {
   "cell_type": "code",
   "execution_count": 155,
   "id": "66647487",
   "metadata": {},
   "outputs": [],
   "source": [
    "# Blue\n",
    "df.loc[\n",
    "    df['color'] == 'Blue ',\n",
    "    'color'\n",
    "] = 'Blue'\n",
    "\n",
    "# Blue and white\n",
    "df.loc[\n",
    "    (df['color'] == 'Blue white') | \n",
    "    (df['color'] == 'Blue-white') |\n",
    "    (df['color'] == 'Blue-White') |\n",
    "    (df['color'] == 'Blue white '), \n",
    "    'color'\n",
    "] = 'Blue White'\n",
    "\n",
    "# White\n",
    "df.loc[\n",
    "    (df['color'] == 'white') |\n",
    "    (df['color'] == 'Whitish') |\n",
    "    (df['color'] == 'whitish'),\n",
    "    'color'\n",
    "] = 'White'\n",
    "\n",
    "# Yellow\n",
    "df.loc[\n",
    "    (df['color'] == 'Yellowish White') |\n",
    "    (df['color'] == 'yellow-white') | \n",
    "    (df['color'] == 'White-Yellow') |\n",
    "    (df['color'] == 'Yellow White') |\n",
    "    (df['color'] == 'yellowish') |\n",
    "    (df['color'] == 'Yellowish') |\n",
    "    (df['color'] == 'Pale yellow orange'),\n",
    "    'color'\n",
    "] = 'Yellow'\n",
    "\n",
    "# Orange and red\n",
    "df.loc[\n",
    "    (df['color'] == 'Orange-Red') |\n",
    "    (df['color'] == 'Orange Red'),\n",
    "    'color'\n",
    "] = 'Orange'"
   ]
  },
  {
   "cell_type": "code",
   "execution_count": 156,
   "id": "16a486ec",
   "metadata": {},
   "outputs": [
    {
     "data": {
      "image/png": "[encoded data removed]",
      "text/plain": [
       "<Figure size 432x360 with 1 Axes>"
      ]
     },
     "metadata": {},
     "output_type": "display_data"
    }
   ],
   "source": [
    "grouped = df.groupby('color').size()\n",
    "print_pie(grouped)"
   ]
  },
  {
   "cell_type": "code",
   "execution_count": 157,
   "id": "3c504be4",
   "metadata": {},
   "outputs": [
    {
     "name": "stdout",
     "output_type": "stream",
     "text": [
      "interval columns not set, guessing: ['temp', 'luminosity', 'radius', 'magnitude', 'type']\n"
     ]
    },
    {
     "data": {
      "image/png": "[encoded data removed]",
      "text/plain": [
       "<Figure size 504x360 with 2 Axes>"
      ]
     },
     "metadata": {
      "needs_background": "light"
     },
     "output_type": "display_data"
    }
   ],
   "source": [
    "phik_overview = df.phik_matrix()\n",
    "phik_overview.round(2)\n",
    "\n",
    "plot_correlation_matrix(\n",
    "    phik_overview.values,\n",
    "    x_labels=phik_overview.columns,\n",
    "    y_labels=phik_overview.index,\n",
    "    vmin=0,\n",
    "    vmax=1\n",
    ")"
   ]
  },
  {
   "cell_type": "markdown",
   "id": "abdba06f",
   "metadata": {},
   "source": [
    "Вывод: Была проделана комплексная работа по анализу и предобработке данных. В ходе которой были выявлены и устранены неявные дубликаты в колонке с цветом звезды, также была построена матрица корреляции. Из данной матрицы следует, что все значения мультиколлинеарны - следовательно стоит использовать методы регуляризации параметров или исключение некоторых признаков.\n",
    "Целевая переменная Temperature в основном завит от цвета звезды и её магнитуды, а меньше всего опирается на размер и светимость звезды."
   ]
  },
  {
   "cell_type": "markdown",
   "id": "funded-electric",
   "metadata": {},
   "source": [
    "## Построение базовой нейронной сети"
   ]
  },
  {
   "cell_type": "code",
   "execution_count": 158,
   "id": "forced-concentrate",
   "metadata": {},
   "outputs": [
    {
     "data": {
      "text/html": [
       "<div>\n",
       "<style scoped>\n",
       "    .dataframe tbody tr th:only-of-type {\n",
       "        vertical-align: middle;\n",
       "    }\n",
       "\n",
       "    .dataframe tbody tr th {\n",
       "        vertical-align: top;\n",
       "    }\n",
       "\n",
       "    .dataframe thead th {\n",
       "        text-align: right;\n",
       "    }\n",
       "</style>\n",
       "<table border=\"1\" class=\"dataframe\">\n",
       "  <thead>\n",
       "    <tr style=\"text-align: right;\">\n",
       "      <th></th>\n",
       "      <th>luminosity</th>\n",
       "      <th>radius</th>\n",
       "      <th>magnitude</th>\n",
       "      <th>type</th>\n",
       "      <th>color</th>\n",
       "    </tr>\n",
       "  </thead>\n",
       "  <tbody>\n",
       "    <tr>\n",
       "      <th>0</th>\n",
       "      <td>0.002400</td>\n",
       "      <td>0.1700</td>\n",
       "      <td>16.12</td>\n",
       "      <td>0</td>\n",
       "      <td>Red</td>\n",
       "    </tr>\n",
       "    <tr>\n",
       "      <th>1</th>\n",
       "      <td>0.000500</td>\n",
       "      <td>0.1542</td>\n",
       "      <td>16.60</td>\n",
       "      <td>0</td>\n",
       "      <td>Red</td>\n",
       "    </tr>\n",
       "    <tr>\n",
       "      <th>2</th>\n",
       "      <td>0.000300</td>\n",
       "      <td>0.1020</td>\n",
       "      <td>18.70</td>\n",
       "      <td>0</td>\n",
       "      <td>Red</td>\n",
       "    </tr>\n",
       "    <tr>\n",
       "      <th>3</th>\n",
       "      <td>0.000200</td>\n",
       "      <td>0.1600</td>\n",
       "      <td>16.65</td>\n",
       "      <td>0</td>\n",
       "      <td>Red</td>\n",
       "    </tr>\n",
       "    <tr>\n",
       "      <th>4</th>\n",
       "      <td>0.000138</td>\n",
       "      <td>0.1030</td>\n",
       "      <td>20.06</td>\n",
       "      <td>0</td>\n",
       "      <td>Red</td>\n",
       "    </tr>\n",
       "    <tr>\n",
       "      <th>...</th>\n",
       "      <td>...</td>\n",
       "      <td>...</td>\n",
       "      <td>...</td>\n",
       "      <td>...</td>\n",
       "      <td>...</td>\n",
       "    </tr>\n",
       "    <tr>\n",
       "      <th>235</th>\n",
       "      <td>374830.000000</td>\n",
       "      <td>1356.0000</td>\n",
       "      <td>-9.93</td>\n",
       "      <td>5</td>\n",
       "      <td>Blue</td>\n",
       "    </tr>\n",
       "    <tr>\n",
       "      <th>236</th>\n",
       "      <td>834042.000000</td>\n",
       "      <td>1194.0000</td>\n",
       "      <td>-10.63</td>\n",
       "      <td>5</td>\n",
       "      <td>Blue</td>\n",
       "    </tr>\n",
       "    <tr>\n",
       "      <th>237</th>\n",
       "      <td>537493.000000</td>\n",
       "      <td>1423.0000</td>\n",
       "      <td>-10.73</td>\n",
       "      <td>5</td>\n",
       "      <td>White</td>\n",
       "    </tr>\n",
       "    <tr>\n",
       "      <th>238</th>\n",
       "      <td>404940.000000</td>\n",
       "      <td>1112.0000</td>\n",
       "      <td>-11.23</td>\n",
       "      <td>5</td>\n",
       "      <td>White</td>\n",
       "    </tr>\n",
       "    <tr>\n",
       "      <th>239</th>\n",
       "      <td>294903.000000</td>\n",
       "      <td>1783.0000</td>\n",
       "      <td>-7.80</td>\n",
       "      <td>5</td>\n",
       "      <td>Blue</td>\n",
       "    </tr>\n",
       "  </tbody>\n",
       "</table>\n",
       "<p>240 rows × 5 columns</p>\n",
       "</div>"
      ],
      "text/plain": [
       "        luminosity     radius  magnitude  type  color\n",
       "0         0.002400     0.1700      16.12     0    Red\n",
       "1         0.000500     0.1542      16.60     0    Red\n",
       "2         0.000300     0.1020      18.70     0    Red\n",
       "3         0.000200     0.1600      16.65     0    Red\n",
       "4         0.000138     0.1030      20.06     0    Red\n",
       "..             ...        ...        ...   ...    ...\n",
       "235  374830.000000  1356.0000      -9.93     5   Blue\n",
       "236  834042.000000  1194.0000     -10.63     5   Blue\n",
       "237  537493.000000  1423.0000     -10.73     5  White\n",
       "238  404940.000000  1112.0000     -11.23     5  White\n",
       "239  294903.000000  1783.0000      -7.80     5   Blue\n",
       "\n",
       "[240 rows x 5 columns]"
      ]
     },
     "execution_count": 158,
     "metadata": {},
     "output_type": "execute_result"
    }
   ],
   "source": [
    "train = df.drop('temp', axis=1)\n",
    "test = df['temp']\n",
    "train"
   ]
  },
  {
   "cell_type": "code",
   "execution_count": 159,
   "id": "75020ac4",
   "metadata": {},
   "outputs": [
    {
     "data": {
      "text/plain": [
       "0       3068\n",
       "1       3042\n",
       "2       2600\n",
       "3       2800\n",
       "4       1939\n",
       "       ...  \n",
       "235    38940\n",
       "236    30839\n",
       "237     8829\n",
       "238     9235\n",
       "239    37882\n",
       "Name: temp, Length: 240, dtype: int64"
      ]
     },
     "execution_count": 159,
     "metadata": {},
     "output_type": "execute_result"
    }
   ],
   "source": [
    "test"
   ]
  },
  {
   "cell_type": "code",
   "execution_count": 160,
   "id": "3cb268bf",
   "metadata": {},
   "outputs": [],
   "source": [
    "categorial_columns = ['type', 'color']\n",
    "numeric_columns = ['luminosity', 'radius', 'magnitude']"
   ]
  },
  {
   "cell_type": "code",
   "execution_count": 161,
   "id": "7d1cdffd",
   "metadata": {},
   "outputs": [],
   "source": [
    "X_train, X_test, y_train, y_test = train_test_split(train, test, random_state=RANDOM_STATE)"
   ]
  },
  {
   "cell_type": "code",
   "execution_count": 162,
   "id": "8abbfa63",
   "metadata": {},
   "outputs": [],
   "source": [
    "encoder = OneHotEncoder(handle_unknown='ignore')\n",
    "scaler = StandardScaler()"
   ]
  },
  {
   "cell_type": "code",
   "execution_count": 163,
   "id": "ff698aec",
   "metadata": {},
   "outputs": [
    {
     "data": {
      "text/plain": [
       "OneHotEncoder(handle_unknown='ignore')"
      ]
     },
     "execution_count": 163,
     "metadata": {},
     "output_type": "execute_result"
    }
   ],
   "source": [
    "encoder.fit(X_train[categorial_columns])"
   ]
  },
  {
   "cell_type": "code",
   "execution_count": 164,
   "id": "9cf9651b",
   "metadata": {},
   "outputs": [],
   "source": [
    "X_train_encoded = pd.DataFrame(\n",
    "    encoder.transform(X_train[categorial_columns]).toarray(),\n",
    "    columns=encoder.get_feature_names(categorial_columns),\n",
    "    index=X_train.index\n",
    ")\n",
    "X_train_encoded = pd.concat((X_train[numeric_columns], X_train_encoded), axis=1)"
   ]
  },
  {
   "cell_type": "code",
   "execution_count": 165,
   "id": "2daf2291",
   "metadata": {},
   "outputs": [],
   "source": [
    "X_test_encoded = pd.DataFrame(\n",
    "    encoder.transform(X_test[categorial_columns]).toarray(),\n",
    "    columns=encoder.get_feature_names(categorial_columns),\n",
    "    index=X_test.index\n",
    ")\n",
    "X_test_encoded = pd.concat((X_test[numeric_columns], X_test_encoded), axis=1)"
   ]
  },
  {
   "cell_type": "code",
   "execution_count": 167,
   "id": "efe14b4e",
   "metadata": {},
   "outputs": [
    {
     "data": {
      "text/plain": [
       "(180, 15)"
      ]
     },
     "execution_count": 167,
     "metadata": {},
     "output_type": "execute_result"
    }
   ],
   "source": [
    "X_train_encoded.shape"
   ]
  },
  {
   "cell_type": "code",
   "execution_count": 173,
   "id": "249e781d",
   "metadata": {},
   "outputs": [
    {
     "data": {
      "text/plain": [
       "StandardScaler()"
      ]
     },
     "execution_count": 173,
     "metadata": {},
     "output_type": "execute_result"
    }
   ],
   "source": [
    "scaler.fit(X_train_encoded)"
   ]
  },
  {
   "cell_type": "code",
   "execution_count": 174,
   "id": "8080cbf4",
   "metadata": {},
   "outputs": [],
   "source": [
    "X_train_scaled = scaler.transform(X_train_encoded)\n",
    "X_test_scaled = scaler.transform(X_test_encoded)"
   ]
  },
  {
   "cell_type": "code",
   "execution_count": 189,
   "id": "44f2cec4",
   "metadata": {},
   "outputs": [],
   "source": [
    "n_in_neurons = X_train_encoded.shape[1]\n",
    "n_hidden_neurons_1 = 8\n",
    "n_hidden_neurons_2 = 4\n",
    "n_out_neurons = 1 \n",
    "\n",
    "net = nn.Sequential(\n",
    "    nn.Linear(n_in_neurons, n_hidden_neurons_1),\n",
    "    nn.ReLU(),\n",
    "    nn.Linear(n_hidden_neurons_1, n_hidden_neurons_2),\n",
    "    nn.ReLU(),\n",
    "    nn.Linear(n_hidden_neurons_2, n_out_neurons), \n",
    "    nn.ReLU()\n",
    ")"
   ]
  },
  {
   "cell_type": "code",
   "execution_count": 190,
   "id": "1d8d16e7",
   "metadata": {},
   "outputs": [],
   "source": [
    "optimizer = torch.optim.Adam(net.parameters(), lr=1e-3)\n",
    "\n",
    "loss = nn.MSELoss()\n",
    "\n",
    "num_epochs = 8001"
   ]
  },
  {
   "cell_type": "code",
   "execution_count": 176,
   "id": "cb5a47ad",
   "metadata": {},
   "outputs": [],
   "source": [
    "X_train = torch.FloatTensor(X_train_scaled)\n",
    "X_test = torch.FloatTensor(X_test_scaled)\n",
    "y_train = torch.FloatTensor(y_train.values)\n",
    "y_test = torch.FloatTensor(y_test.values)"
   ]
  },
  {
   "cell_type": "code",
   "execution_count": 191,
   "id": "7e3fa7c4",
   "metadata": {},
   "outputs": [
    {
     "name": "stdout",
     "output_type": "stream",
     "text": [
      "Epoch #: 0\n",
      "RMSE = 12184.96875 \n",
      "\n",
      "Epoch #: 1000\n",
      "RMSE = 11551.7919921875 \n",
      "\n",
      "Epoch #: 2000\n",
      "RMSE = 8517.37890625 \n",
      "\n",
      "Epoch #: 3000\n",
      "RMSE = 5701.435546875 \n",
      "\n",
      "Epoch #: 4000\n",
      "RMSE = 5029.07861328125 \n",
      "\n",
      "Epoch #: 5000\n",
      "RMSE = 5022.25146484375 \n",
      "\n",
      "Epoch #: 6000\n",
      "RMSE = 5038.64990234375 \n",
      "\n",
      "Epoch #: 7000\n",
      "RMSE = 5021.49853515625 \n",
      "\n",
      "Epoch #: 8000\n",
      "RMSE = 4992.7197265625 \n",
      "\n"
     ]
    }
   ],
   "source": [
    "for epoch in range(num_epochs):\n",
    "    optimizer.zero_grad()\n",
    "    \n",
    "    preds = net.forward(X_train).flatten()\n",
    "\n",
    "    loss_value = loss(preds, y_train)\n",
    "\n",
    "    loss_value.backward()\n",
    "\n",
    "    optimizer.step()\n",
    "\n",
    "    if epoch % 1000 == 0 or epoch == num_epochs - 1:\n",
    "        net.eval()\n",
    "        test_preds = net.forward(X_test).flatten()\n",
    "        print('Epoch #:', epoch)\n",
    "        print('RMSE =', torch.sqrt(loss(test_preds, y_test)).item(), '\\n')"
   ]
  },
  {
   "cell_type": "markdown",
   "id": "growing-supply",
   "metadata": {},
   "source": [
    "## Улучшение нейронной сети"
   ]
  },
  {
   "cell_type": "code",
   "execution_count": null,
   "id": "acceptable-forwarding",
   "metadata": {},
   "outputs": [],
   "source": []
  },
  {
   "cell_type": "markdown",
   "id": "accurate-infrastructure",
   "metadata": {},
   "source": [
    "## Выводы"
   ]
  }
 ],
 "metadata": {
  "ExecuteTimeLog": [
   {
    "duration": 391,
    "start_time": "2023-10-12T16:51:51.536Z"
   },
   {
    "duration": 75,
    "start_time": "2023-10-12T16:51:52.512Z"
   },
   {
    "duration": 16,
    "start_time": "2023-10-12T16:52:01.829Z"
   },
   {
    "duration": 9,
    "start_time": "2023-10-12T16:52:16.887Z"
   },
   {
    "duration": 32,
    "start_time": "2023-10-12T16:52:28.507Z"
   },
   {
    "duration": 70,
    "start_time": "2023-10-12T16:58:54.211Z"
   },
   {
    "duration": 424,
    "start_time": "2023-10-12T16:58:58.498Z"
   },
   {
    "duration": 186,
    "start_time": "2023-10-12T16:59:00.227Z"
   },
   {
    "duration": 169,
    "start_time": "2023-10-12T17:00:40.907Z"
   },
   {
    "duration": 165,
    "start_time": "2023-10-12T17:01:08.093Z"
   },
   {
    "duration": 147,
    "start_time": "2023-10-12T17:02:18.086Z"
   },
   {
    "duration": 245,
    "start_time": "2023-10-12T17:02:30.999Z"
   },
   {
    "duration": 224,
    "start_time": "2023-10-12T17:02:56.270Z"
   },
   {
    "duration": 113,
    "start_time": "2023-10-12T17:21:13.231Z"
   },
   {
    "duration": 46,
    "start_time": "2023-10-13T09:20:06.128Z"
   },
   {
    "duration": 832,
    "start_time": "2023-10-13T09:20:10.233Z"
   },
   {
    "duration": 96,
    "start_time": "2023-10-13T09:20:11.319Z"
   },
   {
    "duration": 14,
    "start_time": "2023-10-13T09:20:12.875Z"
   },
   {
    "duration": 25,
    "start_time": "2023-10-13T09:20:14.354Z"
   },
   {
    "duration": 12,
    "start_time": "2023-10-13T09:20:15.683Z"
   },
   {
    "duration": 5,
    "start_time": "2023-10-13T09:23:01.219Z"
   },
   {
    "duration": 205,
    "start_time": "2023-10-13T09:23:06.224Z"
   },
   {
    "duration": 190,
    "start_time": "2023-10-13T09:23:39.949Z"
   },
   {
    "duration": 156,
    "start_time": "2023-10-13T09:28:12.833Z"
   },
   {
    "duration": 127,
    "start_time": "2023-10-13T09:28:18.256Z"
   },
   {
    "duration": 198,
    "start_time": "2023-10-13T09:28:25.589Z"
   },
   {
    "duration": 155,
    "start_time": "2023-10-13T09:28:32.463Z"
   },
   {
    "duration": 142,
    "start_time": "2023-10-13T09:28:36.519Z"
   },
   {
    "duration": 126,
    "start_time": "2023-10-13T09:28:41.365Z"
   },
   {
    "duration": 172,
    "start_time": "2023-10-13T10:44:03.175Z"
   },
   {
    "duration": 217,
    "start_time": "2023-10-13T10:44:23.890Z"
   },
   {
    "duration": 1368,
    "start_time": "2023-10-13T10:44:29.876Z"
   },
   {
    "duration": 1353,
    "start_time": "2023-10-13T10:44:39.652Z"
   },
   {
    "duration": 98,
    "start_time": "2023-10-13T10:48:42.139Z"
   },
   {
    "duration": 218,
    "start_time": "2023-10-13T10:49:40.385Z"
   },
   {
    "duration": 221,
    "start_time": "2023-10-13T10:53:41.415Z"
   },
   {
    "duration": 206,
    "start_time": "2023-10-13T10:53:47.775Z"
   },
   {
    "duration": 138,
    "start_time": "2023-10-13T10:54:06.260Z"
   },
   {
    "duration": 228,
    "start_time": "2023-10-13T10:54:17.095Z"
   },
   {
    "duration": 190,
    "start_time": "2023-10-13T10:59:35.257Z"
   },
   {
    "duration": 105,
    "start_time": "2023-10-13T11:00:13.889Z"
   },
   {
    "duration": 300,
    "start_time": "2023-10-13T11:01:22.730Z"
   },
   {
    "duration": 309,
    "start_time": "2023-10-13T11:02:06.257Z"
   },
   {
    "duration": 275,
    "start_time": "2023-10-13T11:02:14.127Z"
   },
   {
    "duration": 278,
    "start_time": "2023-10-13T11:02:38.403Z"
   },
   {
    "duration": 308,
    "start_time": "2023-10-13T11:02:44.022Z"
   },
   {
    "duration": 286,
    "start_time": "2023-10-13T11:02:47.258Z"
   },
   {
    "duration": 146,
    "start_time": "2023-10-13T11:04:47.072Z"
   },
   {
    "duration": 171,
    "start_time": "2023-10-13T11:05:30.551Z"
   },
   {
    "duration": 281,
    "start_time": "2023-10-13T14:04:11.916Z"
   },
   {
    "duration": 8,
    "start_time": "2023-10-16T07:27:28.507Z"
   },
   {
    "duration": 193,
    "start_time": "2023-10-16T07:42:07.130Z"
   },
   {
    "duration": 2,
    "start_time": "2023-10-16T07:44:04.191Z"
   },
   {
    "duration": 3,
    "start_time": "2023-10-16T07:47:09.403Z"
   },
   {
    "duration": 100,
    "start_time": "2023-10-16T07:47:09.408Z"
   },
   {
    "duration": 32,
    "start_time": "2023-10-16T07:47:09.510Z"
   },
   {
    "duration": 49,
    "start_time": "2023-10-16T07:47:09.544Z"
   },
   {
    "duration": 98,
    "start_time": "2023-10-16T07:47:09.596Z"
   },
   {
    "duration": 41,
    "start_time": "2023-10-16T07:47:09.695Z"
   },
   {
    "duration": 271,
    "start_time": "2023-10-16T07:47:09.737Z"
   },
   {
    "duration": 162,
    "start_time": "2023-10-16T07:47:10.009Z"
   },
   {
    "duration": 212,
    "start_time": "2023-10-16T07:47:10.173Z"
   },
   {
    "duration": 81,
    "start_time": "2023-10-16T07:47:10.387Z"
   },
   {
    "duration": 0,
    "start_time": "2023-10-16T07:47:10.470Z"
   },
   {
    "duration": 0,
    "start_time": "2023-10-16T07:47:10.471Z"
   },
   {
    "duration": 0,
    "start_time": "2023-10-16T07:47:10.473Z"
   },
   {
    "duration": 0,
    "start_time": "2023-10-16T07:47:10.474Z"
   },
   {
    "duration": 167,
    "start_time": "2023-10-16T07:47:24.833Z"
   },
   {
    "duration": 92,
    "start_time": "2023-10-16T07:47:25.002Z"
   },
   {
    "duration": 0,
    "start_time": "2023-10-16T07:47:25.096Z"
   },
   {
    "duration": 0,
    "start_time": "2023-10-16T07:47:25.097Z"
   },
   {
    "duration": 0,
    "start_time": "2023-10-16T07:47:25.098Z"
   },
   {
    "duration": 155,
    "start_time": "2023-10-16T07:47:34.229Z"
   },
   {
    "duration": 10,
    "start_time": "2023-10-16T07:47:34.386Z"
   },
   {
    "duration": 0,
    "start_time": "2023-10-16T07:47:34.397Z"
   },
   {
    "duration": 10,
    "start_time": "2023-10-16T07:48:16.090Z"
   },
   {
    "duration": 289,
    "start_time": "2023-10-16T07:48:19.321Z"
   },
   {
    "duration": 5,
    "start_time": "2023-10-16T07:48:48.924Z"
   },
   {
    "duration": 10,
    "start_time": "2023-10-16T07:51:51.025Z"
   },
   {
    "duration": 275,
    "start_time": "2023-10-16T07:52:25.032Z"
   },
   {
    "duration": 1400,
    "start_time": "2023-10-16T07:52:39.263Z"
   },
   {
    "duration": 5,
    "start_time": "2023-10-16T07:53:44.511Z"
   },
   {
    "duration": 281,
    "start_time": "2023-10-16T07:53:52.067Z"
   },
   {
    "duration": 7,
    "start_time": "2023-10-16T07:54:17.508Z"
   },
   {
    "duration": 505,
    "start_time": "2023-10-16T07:54:21.299Z"
   },
   {
    "duration": 3,
    "start_time": "2023-10-16T07:55:29.401Z"
   },
   {
    "duration": 71,
    "start_time": "2023-10-16T07:55:29.405Z"
   },
   {
    "duration": 62,
    "start_time": "2023-10-16T07:55:29.478Z"
   },
   {
    "duration": 49,
    "start_time": "2023-10-16T07:55:29.542Z"
   },
   {
    "duration": 27,
    "start_time": "2023-10-16T07:55:29.594Z"
   },
   {
    "duration": 36,
    "start_time": "2023-10-16T07:55:29.623Z"
   },
   {
    "duration": 213,
    "start_time": "2023-10-16T07:55:29.660Z"
   },
   {
    "duration": 177,
    "start_time": "2023-10-16T07:55:29.875Z"
   },
   {
    "duration": 191,
    "start_time": "2023-10-16T07:55:30.054Z"
   },
   {
    "duration": 307,
    "start_time": "2023-10-16T07:55:30.247Z"
   },
   {
    "duration": 191,
    "start_time": "2023-10-16T07:55:30.556Z"
   },
   {
    "duration": 5,
    "start_time": "2023-10-16T07:55:30.750Z"
   },
   {
    "duration": 411,
    "start_time": "2023-10-16T07:55:30.758Z"
   },
   {
    "duration": 4,
    "start_time": "2023-10-16T07:55:31.171Z"
   },
   {
    "duration": 42,
    "start_time": "2023-10-16T07:55:31.177Z"
   },
   {
    "duration": 100,
    "start_time": "2023-10-16T07:55:31.221Z"
   },
   {
    "duration": 198,
    "start_time": "2023-10-16T07:55:38.442Z"
   },
   {
    "duration": 3,
    "start_time": "2023-10-16T07:59:42.068Z"
   },
   {
    "duration": 85,
    "start_time": "2023-10-16T07:59:42.073Z"
   },
   {
    "duration": 52,
    "start_time": "2023-10-16T07:59:42.160Z"
   },
   {
    "duration": 36,
    "start_time": "2023-10-16T07:59:42.213Z"
   },
   {
    "duration": 11,
    "start_time": "2023-10-16T07:59:42.251Z"
   },
   {
    "duration": 49,
    "start_time": "2023-10-16T07:59:42.264Z"
   },
   {
    "duration": 187,
    "start_time": "2023-10-16T07:59:42.315Z"
   },
   {
    "duration": 160,
    "start_time": "2023-10-16T07:59:42.504Z"
   },
   {
    "duration": 165,
    "start_time": "2023-10-16T07:59:42.666Z"
   },
   {
    "duration": 168,
    "start_time": "2023-10-16T07:59:42.833Z"
   },
   {
    "duration": 164,
    "start_time": "2023-10-16T07:59:43.003Z"
   },
   {
    "duration": 5,
    "start_time": "2023-10-16T07:59:43.168Z"
   },
   {
    "duration": 327,
    "start_time": "2023-10-16T07:59:43.175Z"
   },
   {
    "duration": 2,
    "start_time": "2023-10-16T07:59:43.504Z"
   },
   {
    "duration": 524,
    "start_time": "2023-10-16T07:59:43.508Z"
   },
   {
    "duration": 1,
    "start_time": "2023-10-16T07:59:44.033Z"
   },
   {
    "duration": 10,
    "start_time": "2023-10-16T08:00:29.556Z"
   },
   {
    "duration": 157,
    "start_time": "2023-10-16T08:00:31.607Z"
   },
   {
    "duration": 100,
    "start_time": "2023-10-16T08:01:13.168Z"
   },
   {
    "duration": 143,
    "start_time": "2023-10-16T08:01:14.558Z"
   },
   {
    "duration": 22,
    "start_time": "2023-10-16T08:01:35.919Z"
   },
   {
    "duration": 150,
    "start_time": "2023-10-16T08:01:37.513Z"
   },
   {
    "duration": 8,
    "start_time": "2023-10-16T08:02:03.305Z"
   },
   {
    "duration": 7,
    "start_time": "2023-10-16T08:02:27.273Z"
   },
   {
    "duration": 3378,
    "start_time": "2023-10-16T08:02:39.421Z"
   },
   {
    "duration": 498,
    "start_time": "2023-10-16T08:02:45.894Z"
   },
   {
    "duration": 42,
    "start_time": "2023-10-16T08:02:50.817Z"
   },
   {
    "duration": 698,
    "start_time": "2023-10-16T08:02:56.907Z"
   },
   {
    "duration": 13,
    "start_time": "2023-10-16T09:42:00.437Z"
   },
   {
    "duration": 5,
    "start_time": "2023-10-16T09:51:42.645Z"
   },
   {
    "duration": 625,
    "start_time": "2023-10-16T10:07:34.359Z"
   },
   {
    "duration": 14,
    "start_time": "2023-10-16T10:07:34.986Z"
   },
   {
    "duration": 108,
    "start_time": "2023-10-16T10:07:35.001Z"
   },
   {
    "duration": 282,
    "start_time": "2023-10-16T10:07:35.111Z"
   },
   {
    "duration": 162,
    "start_time": "2023-10-16T10:07:35.395Z"
   },
   {
    "duration": 0,
    "start_time": "2023-10-16T10:07:35.558Z"
   },
   {
    "duration": 0,
    "start_time": "2023-10-16T10:07:35.560Z"
   },
   {
    "duration": 0,
    "start_time": "2023-10-16T10:07:35.561Z"
   },
   {
    "duration": 0,
    "start_time": "2023-10-16T10:07:35.562Z"
   },
   {
    "duration": 0,
    "start_time": "2023-10-16T10:07:35.563Z"
   },
   {
    "duration": 0,
    "start_time": "2023-10-16T10:07:35.564Z"
   },
   {
    "duration": 0,
    "start_time": "2023-10-16T10:07:35.565Z"
   },
   {
    "duration": 0,
    "start_time": "2023-10-16T10:07:35.566Z"
   },
   {
    "duration": 325,
    "start_time": "2023-10-16T10:09:37.862Z"
   },
   {
    "duration": 4,
    "start_time": "2023-10-16T10:09:42.620Z"
   },
   {
    "duration": 488,
    "start_time": "2023-10-16T10:11:35.641Z"
   },
   {
    "duration": 3,
    "start_time": "2023-10-16T10:11:44.980Z"
   },
   {
    "duration": 46,
    "start_time": "2023-10-16T10:11:44.986Z"
   },
   {
    "duration": 0,
    "start_time": "2023-10-16T10:11:45.034Z"
   },
   {
    "duration": 0,
    "start_time": "2023-10-16T10:11:45.035Z"
   },
   {
    "duration": 0,
    "start_time": "2023-10-16T10:11:45.037Z"
   },
   {
    "duration": 0,
    "start_time": "2023-10-16T10:11:45.038Z"
   },
   {
    "duration": 0,
    "start_time": "2023-10-16T10:11:45.040Z"
   },
   {
    "duration": 0,
    "start_time": "2023-10-16T10:11:45.041Z"
   },
   {
    "duration": 0,
    "start_time": "2023-10-16T10:11:45.042Z"
   },
   {
    "duration": 0,
    "start_time": "2023-10-16T10:11:45.043Z"
   },
   {
    "duration": 3,
    "start_time": "2023-10-16T10:11:55.656Z"
   },
   {
    "duration": 4,
    "start_time": "2023-10-16T10:12:00.552Z"
   },
   {
    "duration": 6,
    "start_time": "2023-10-16T10:12:03.287Z"
   },
   {
    "duration": 13,
    "start_time": "2023-10-16T10:12:03.296Z"
   },
   {
    "duration": 0,
    "start_time": "2023-10-16T10:12:03.311Z"
   },
   {
    "duration": 0,
    "start_time": "2023-10-16T10:12:03.313Z"
   },
   {
    "duration": 0,
    "start_time": "2023-10-16T10:12:03.315Z"
   },
   {
    "duration": 0,
    "start_time": "2023-10-16T10:12:03.317Z"
   },
   {
    "duration": 0,
    "start_time": "2023-10-16T10:12:03.318Z"
   },
   {
    "duration": 0,
    "start_time": "2023-10-16T10:12:03.320Z"
   },
   {
    "duration": 0,
    "start_time": "2023-10-16T10:12:03.322Z"
   },
   {
    "duration": 5,
    "start_time": "2023-10-16T10:12:12.240Z"
   },
   {
    "duration": 19,
    "start_time": "2023-10-16T10:12:12.247Z"
   },
   {
    "duration": 31,
    "start_time": "2023-10-16T10:12:12.269Z"
   },
   {
    "duration": 0,
    "start_time": "2023-10-16T10:12:12.302Z"
   },
   {
    "duration": 0,
    "start_time": "2023-10-16T10:12:12.303Z"
   },
   {
    "duration": 0,
    "start_time": "2023-10-16T10:12:12.304Z"
   },
   {
    "duration": 0,
    "start_time": "2023-10-16T10:12:12.305Z"
   },
   {
    "duration": 0,
    "start_time": "2023-10-16T10:12:12.306Z"
   },
   {
    "duration": 0,
    "start_time": "2023-10-16T10:12:12.307Z"
   },
   {
    "duration": 3,
    "start_time": "2023-10-16T10:12:19.827Z"
   },
   {
    "duration": 10,
    "start_time": "2023-10-16T10:12:21.657Z"
   },
   {
    "duration": 14,
    "start_time": "2023-10-16T10:12:37.107Z"
   },
   {
    "duration": 3,
    "start_time": "2023-10-16T10:12:47.508Z"
   },
   {
    "duration": 7,
    "start_time": "2023-10-16T10:12:49.928Z"
   },
   {
    "duration": 6,
    "start_time": "2023-10-16T10:12:54.635Z"
   },
   {
    "duration": 38,
    "start_time": "2023-10-16T10:12:54.643Z"
   },
   {
    "duration": 0,
    "start_time": "2023-10-16T10:12:54.682Z"
   },
   {
    "duration": 0,
    "start_time": "2023-10-16T10:12:54.684Z"
   },
   {
    "duration": 0,
    "start_time": "2023-10-16T10:12:54.685Z"
   },
   {
    "duration": 0,
    "start_time": "2023-10-16T10:12:54.686Z"
   },
   {
    "duration": 0,
    "start_time": "2023-10-16T10:12:54.687Z"
   },
   {
    "duration": 5,
    "start_time": "2023-10-16T10:13:06.381Z"
   },
   {
    "duration": 56,
    "start_time": "2023-10-16T10:13:06.388Z"
   },
   {
    "duration": 0,
    "start_time": "2023-10-16T10:13:06.445Z"
   },
   {
    "duration": 0,
    "start_time": "2023-10-16T10:13:06.446Z"
   },
   {
    "duration": 0,
    "start_time": "2023-10-16T10:13:06.447Z"
   },
   {
    "duration": 0,
    "start_time": "2023-10-16T10:13:06.448Z"
   },
   {
    "duration": 0,
    "start_time": "2023-10-16T10:13:06.449Z"
   },
   {
    "duration": 7,
    "start_time": "2023-10-16T10:13:14.441Z"
   },
   {
    "duration": 7,
    "start_time": "2023-10-16T10:13:21.144Z"
   },
   {
    "duration": 84,
    "start_time": "2023-10-16T10:13:21.152Z"
   },
   {
    "duration": 0,
    "start_time": "2023-10-16T10:13:21.238Z"
   },
   {
    "duration": 0,
    "start_time": "2023-10-16T10:13:21.239Z"
   },
   {
    "duration": 0,
    "start_time": "2023-10-16T10:13:21.240Z"
   },
   {
    "duration": 0,
    "start_time": "2023-10-16T10:13:21.241Z"
   },
   {
    "duration": 2451,
    "start_time": "2023-10-16T10:14:44.568Z"
   },
   {
    "duration": 4,
    "start_time": "2023-10-16T10:14:47.021Z"
   },
   {
    "duration": 58,
    "start_time": "2023-10-16T10:14:47.026Z"
   },
   {
    "duration": 71,
    "start_time": "2023-10-16T10:14:47.085Z"
   },
   {
    "duration": 11,
    "start_time": "2023-10-16T10:14:47.158Z"
   },
   {
    "duration": 28,
    "start_time": "2023-10-16T10:14:47.170Z"
   },
   {
    "duration": 11,
    "start_time": "2023-10-16T10:14:47.200Z"
   },
   {
    "duration": 63,
    "start_time": "2023-10-16T10:14:47.213Z"
   },
   {
    "duration": 207,
    "start_time": "2023-10-16T10:14:47.278Z"
   },
   {
    "duration": 269,
    "start_time": "2023-10-16T10:14:47.487Z"
   },
   {
    "duration": 172,
    "start_time": "2023-10-16T10:14:47.758Z"
   },
   {
    "duration": 176,
    "start_time": "2023-10-16T10:14:47.932Z"
   },
   {
    "duration": 165,
    "start_time": "2023-10-16T10:14:48.110Z"
   },
   {
    "duration": 5,
    "start_time": "2023-10-16T10:14:48.279Z"
   },
   {
    "duration": 294,
    "start_time": "2023-10-16T10:14:48.286Z"
   },
   {
    "duration": 2,
    "start_time": "2023-10-16T10:14:48.582Z"
   },
   {
    "duration": 15,
    "start_time": "2023-10-16T10:14:48.586Z"
   },
   {
    "duration": 154,
    "start_time": "2023-10-16T10:14:48.603Z"
   },
   {
    "duration": 723,
    "start_time": "2023-10-16T10:14:48.759Z"
   },
   {
    "duration": 14,
    "start_time": "2023-10-16T10:14:49.484Z"
   },
   {
    "duration": 75,
    "start_time": "2023-10-16T10:14:49.499Z"
   },
   {
    "duration": 31,
    "start_time": "2023-10-16T10:14:49.576Z"
   },
   {
    "duration": 28,
    "start_time": "2023-10-16T10:14:49.608Z"
   },
   {
    "duration": 38,
    "start_time": "2023-10-16T10:14:49.637Z"
   },
   {
    "duration": 117,
    "start_time": "2023-10-16T10:14:49.677Z"
   },
   {
    "duration": 93,
    "start_time": "2023-10-16T10:14:49.796Z"
   },
   {
    "duration": 85,
    "start_time": "2023-10-16T10:14:49.890Z"
   },
   {
    "duration": 213,
    "start_time": "2023-10-16T10:14:49.976Z"
   },
   {
    "duration": 0,
    "start_time": "2023-10-16T10:14:50.191Z"
   },
   {
    "duration": 0,
    "start_time": "2023-10-16T10:14:50.193Z"
   },
   {
    "duration": 0,
    "start_time": "2023-10-16T10:14:50.195Z"
   },
   {
    "duration": 3,
    "start_time": "2023-10-16T10:14:59.008Z"
   },
   {
    "duration": 5,
    "start_time": "2023-10-16T10:15:12.252Z"
   },
   {
    "duration": 4,
    "start_time": "2023-10-16T10:15:14.650Z"
   },
   {
    "duration": 22,
    "start_time": "2023-10-16T10:15:16.133Z"
   },
   {
    "duration": 11,
    "start_time": "2023-10-16T10:15:37.230Z"
   },
   {
    "duration": 16,
    "start_time": "2023-10-16T10:16:59.432Z"
   },
   {
    "duration": 7,
    "start_time": "2023-10-16T10:17:12.442Z"
   },
   {
    "duration": 10,
    "start_time": "2023-10-16T10:17:15.246Z"
   },
   {
    "duration": 10,
    "start_time": "2023-10-16T10:17:29.063Z"
   },
   {
    "duration": 3,
    "start_time": "2023-10-16T10:17:42.409Z"
   },
   {
    "duration": 321,
    "start_time": "2023-10-16T10:17:44.619Z"
   },
   {
    "duration": 11,
    "start_time": "2023-10-16T10:23:31.303Z"
   },
   {
    "duration": 3,
    "start_time": "2023-10-16T10:23:34.453Z"
   },
   {
    "duration": 12,
    "start_time": "2023-10-16T10:23:38.426Z"
   },
   {
    "duration": 382,
    "start_time": "2023-10-16T10:24:56.851Z"
   },
   {
    "duration": 4,
    "start_time": "2023-10-16T10:25:10.750Z"
   },
   {
    "duration": 3249,
    "start_time": "2023-10-16T10:25:12.080Z"
   },
   {
    "duration": 3,
    "start_time": "2023-10-16T10:25:23.736Z"
   },
   {
    "duration": 33584,
    "start_time": "2023-10-16T10:25:25.046Z"
   },
   {
    "duration": 4,
    "start_time": "2023-10-16T10:26:23.233Z"
   },
   {
    "duration": 3,
    "start_time": "2023-10-16T10:26:25.073Z"
   },
   {
    "duration": 27442,
    "start_time": "2023-10-16T10:26:26.999Z"
   },
   {
    "duration": 4,
    "start_time": "2023-10-16T10:27:14.260Z"
   },
   {
    "duration": 3,
    "start_time": "2023-10-16T10:27:15.390Z"
   },
   {
    "duration": 27754,
    "start_time": "2023-10-16T10:27:17.080Z"
   }
  ],
  "kernelspec": {
   "display_name": "Python 3 (ipykernel)",
   "language": "python",
   "name": "python3"
  },
  "language_info": {
   "codemirror_mode": {
    "name": "ipython",
    "version": 3
   },
   "file_extension": ".py",
   "mimetype": "text/x-python",
   "name": "python",
   "nbconvert_exporter": "python",
   "pygments_lexer": "ipython3",
   "version": "3.9.5"
  },
  "toc": {
   "base_numbering": 1,
   "nav_menu": {},
   "number_sections": false,
   "sideBar": true,
   "skip_h1_title": false,
   "title_cell": "Table of Contents",
   "title_sidebar": "Contents",
   "toc_cell": false,
   "toc_position": {},
   "toc_section_display": true,
   "toc_window_display": false
  },
  "varInspector": {
   "cols": {
    "lenName": 16,
    "lenType": 16,
    "lenVar": 40
   },
   "kernels_config": {
    "python": {
     "delete_cmd_postfix": "",
     "delete_cmd_prefix": "del ",
     "library": "var_list.py",
     "varRefreshCmd": "print(var_dic_list())"
    },
    "r": {
     "delete_cmd_postfix": ") ",
     "delete_cmd_prefix": "rm(",
     "library": "var_list.r",
     "varRefreshCmd": "cat(var_dic_list()) "
    }
   },
   "types_to_exclude": [
    "module",
    "function",
    "builtin_function_or_method",
    "instance",
    "_Feature"
   ],
   "window_display": false
  }
 },
 "nbformat": 4,
 "nbformat_minor": 5
}
