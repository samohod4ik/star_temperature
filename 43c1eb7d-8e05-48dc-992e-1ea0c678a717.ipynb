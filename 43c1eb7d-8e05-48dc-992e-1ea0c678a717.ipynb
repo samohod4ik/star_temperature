{
 "cells": [
  {
   "cell_type": "markdown",
   "id": "corresponding-armstrong",
   "metadata": {
    "ExecuteTime": {
     "end_time": "2022-05-05T04:58:05.692448Z",
     "start_time": "2022-05-05T04:58:05.688565Z"
    }
   },
   "source": [
    "## Загрузка данных"
   ]
  },
  {
   "cell_type": "markdown",
   "id": "4eb9d950",
   "metadata": {},
   "source": [
    "Задача от обсерватории «Небо на ладони»: придумать, как с помощью нейросети определять температуру на поверхности обнаруженных звёзд. Обычно для расчёта температуры учёные пользуются следующими методами:\n",
    "Закон смещения Вина.\n",
    "Закон Стефана-Больцмана.\n",
    "Спектральный анализ.\n",
    "Каждый из них имеет плюсы и минусы. Обсерватория хочет внедрить технологии машинного обучения для предсказания температуры звёзд, надеясь, что этот метод будет наиболее точным и удобным.\n",
    "В базе обсерватории есть характеристики уже изученных 240 звёзд."
   ]
  },
  {
   "cell_type": "code",
   "execution_count": 1,
   "id": "f2bef991",
   "metadata": {},
   "outputs": [
    {
     "name": "stdout",
     "output_type": "stream",
     "text": [
      "Requirement already satisfied: phik in /opt/conda/lib/python3.9/site-packages (0.12.4)\n",
      "Requirement already satisfied: pandas>=0.25.1 in /opt/conda/lib/python3.9/site-packages (from phik) (1.2.4)\n",
      "Requirement already satisfied: matplotlib>=2.2.3 in /opt/conda/lib/python3.9/site-packages (from phik) (3.3.4)\n",
      "Requirement already satisfied: scipy>=1.5.2 in /opt/conda/lib/python3.9/site-packages (from phik) (1.9.1)\n",
      "Requirement already satisfied: joblib>=0.14.1 in /opt/conda/lib/python3.9/site-packages (from phik) (1.1.0)\n",
      "Requirement already satisfied: numpy>=1.18.0 in /opt/conda/lib/python3.9/site-packages (from phik) (1.21.1)\n",
      "Requirement already satisfied: cycler>=0.10 in /opt/conda/lib/python3.9/site-packages (from matplotlib>=2.2.3->phik) (0.11.0)\n",
      "Requirement already satisfied: kiwisolver>=1.0.1 in /opt/conda/lib/python3.9/site-packages (from matplotlib>=2.2.3->phik) (1.4.4)\n",
      "Requirement already satisfied: python-dateutil>=2.1 in /opt/conda/lib/python3.9/site-packages (from matplotlib>=2.2.3->phik) (2.8.1)\n",
      "Requirement already satisfied: pyparsing!=2.0.4,!=2.1.2,!=2.1.6,>=2.0.3 in /opt/conda/lib/python3.9/site-packages (from matplotlib>=2.2.3->phik) (2.4.7)\n",
      "Requirement already satisfied: pillow>=6.2.0 in /opt/conda/lib/python3.9/site-packages (from matplotlib>=2.2.3->phik) (8.4.0)\n",
      "Requirement already satisfied: pytz>=2017.3 in /opt/conda/lib/python3.9/site-packages (from pandas>=0.25.1->phik) (2021.1)\n",
      "Requirement already satisfied: six>=1.5 in /opt/conda/lib/python3.9/site-packages (from python-dateutil>=2.1->matplotlib>=2.2.3->phik) (1.16.0)\n"
     ]
    }
   ],
   "source": [
    "!pip install phik"
   ]
  },
  {
   "cell_type": "code",
   "execution_count": 2,
   "id": "spectacular-folder",
   "metadata": {},
   "outputs": [],
   "source": [
    "import matplotlib.pyplot as plt\n",
    "import pandas as pd\n",
    "import phik\n",
    "import torch\n",
    "import torch.nn as nn\n",
    "\n",
    "from phik import report\n",
    "from phik.report import plot_correlation_matrix\n",
    "from sklearn.model_selection import train_test_split\n",
    "from sklearn.preprocessing import OneHotEncoder, StandardScaler"
   ]
  },
  {
   "cell_type": "code",
   "execution_count": 3,
   "id": "754c78a3",
   "metadata": {},
   "outputs": [],
   "source": [
    "RANDOM_STATE = 222222"
   ]
  },
  {
   "cell_type": "code",
   "execution_count": 4,
   "id": "4e7cff9f",
   "metadata": {},
   "outputs": [],
   "source": [
    "df = pd.read_csv(\"/datasets/6_class.csv\", index_col=0)"
   ]
  },
  {
   "cell_type": "code",
   "execution_count": 5,
   "id": "7a6714c0",
   "metadata": {},
   "outputs": [
    {
     "data": {
      "text/html": [
       "<div>\n",
       "<style scoped>\n",
       "    .dataframe tbody tr th:only-of-type {\n",
       "        vertical-align: middle;\n",
       "    }\n",
       "\n",
       "    .dataframe tbody tr th {\n",
       "        vertical-align: top;\n",
       "    }\n",
       "\n",
       "    .dataframe thead th {\n",
       "        text-align: right;\n",
       "    }\n",
       "</style>\n",
       "<table border=\"1\" class=\"dataframe\">\n",
       "  <thead>\n",
       "    <tr style=\"text-align: right;\">\n",
       "      <th></th>\n",
       "      <th>Temperature (K)</th>\n",
       "      <th>Luminosity(L/Lo)</th>\n",
       "      <th>Radius(R/Ro)</th>\n",
       "      <th>Absolute magnitude(Mv)</th>\n",
       "      <th>Star type</th>\n",
       "      <th>Star color</th>\n",
       "    </tr>\n",
       "  </thead>\n",
       "  <tbody>\n",
       "    <tr>\n",
       "      <th>0</th>\n",
       "      <td>3068</td>\n",
       "      <td>0.002400</td>\n",
       "      <td>0.1700</td>\n",
       "      <td>16.12</td>\n",
       "      <td>0</td>\n",
       "      <td>Red</td>\n",
       "    </tr>\n",
       "    <tr>\n",
       "      <th>1</th>\n",
       "      <td>3042</td>\n",
       "      <td>0.000500</td>\n",
       "      <td>0.1542</td>\n",
       "      <td>16.60</td>\n",
       "      <td>0</td>\n",
       "      <td>Red</td>\n",
       "    </tr>\n",
       "    <tr>\n",
       "      <th>2</th>\n",
       "      <td>2600</td>\n",
       "      <td>0.000300</td>\n",
       "      <td>0.1020</td>\n",
       "      <td>18.70</td>\n",
       "      <td>0</td>\n",
       "      <td>Red</td>\n",
       "    </tr>\n",
       "    <tr>\n",
       "      <th>3</th>\n",
       "      <td>2800</td>\n",
       "      <td>0.000200</td>\n",
       "      <td>0.1600</td>\n",
       "      <td>16.65</td>\n",
       "      <td>0</td>\n",
       "      <td>Red</td>\n",
       "    </tr>\n",
       "    <tr>\n",
       "      <th>4</th>\n",
       "      <td>1939</td>\n",
       "      <td>0.000138</td>\n",
       "      <td>0.1030</td>\n",
       "      <td>20.06</td>\n",
       "      <td>0</td>\n",
       "      <td>Red</td>\n",
       "    </tr>\n",
       "    <tr>\n",
       "      <th>5</th>\n",
       "      <td>2840</td>\n",
       "      <td>0.000650</td>\n",
       "      <td>0.1100</td>\n",
       "      <td>16.98</td>\n",
       "      <td>0</td>\n",
       "      <td>Red</td>\n",
       "    </tr>\n",
       "    <tr>\n",
       "      <th>6</th>\n",
       "      <td>2637</td>\n",
       "      <td>0.000730</td>\n",
       "      <td>0.1270</td>\n",
       "      <td>17.22</td>\n",
       "      <td>0</td>\n",
       "      <td>Red</td>\n",
       "    </tr>\n",
       "    <tr>\n",
       "      <th>7</th>\n",
       "      <td>2600</td>\n",
       "      <td>0.000400</td>\n",
       "      <td>0.0960</td>\n",
       "      <td>17.40</td>\n",
       "      <td>0</td>\n",
       "      <td>Red</td>\n",
       "    </tr>\n",
       "    <tr>\n",
       "      <th>8</th>\n",
       "      <td>2650</td>\n",
       "      <td>0.000690</td>\n",
       "      <td>0.1100</td>\n",
       "      <td>17.45</td>\n",
       "      <td>0</td>\n",
       "      <td>Red</td>\n",
       "    </tr>\n",
       "    <tr>\n",
       "      <th>9</th>\n",
       "      <td>2700</td>\n",
       "      <td>0.000180</td>\n",
       "      <td>0.1300</td>\n",
       "      <td>16.05</td>\n",
       "      <td>0</td>\n",
       "      <td>Red</td>\n",
       "    </tr>\n",
       "  </tbody>\n",
       "</table>\n",
       "</div>"
      ],
      "text/plain": [
       "   Temperature (K)  Luminosity(L/Lo)  Radius(R/Ro)  Absolute magnitude(Mv)  \\\n",
       "0             3068          0.002400        0.1700                   16.12   \n",
       "1             3042          0.000500        0.1542                   16.60   \n",
       "2             2600          0.000300        0.1020                   18.70   \n",
       "3             2800          0.000200        0.1600                   16.65   \n",
       "4             1939          0.000138        0.1030                   20.06   \n",
       "5             2840          0.000650        0.1100                   16.98   \n",
       "6             2637          0.000730        0.1270                   17.22   \n",
       "7             2600          0.000400        0.0960                   17.40   \n",
       "8             2650          0.000690        0.1100                   17.45   \n",
       "9             2700          0.000180        0.1300                   16.05   \n",
       "\n",
       "   Star type Star color  \n",
       "0          0        Red  \n",
       "1          0        Red  \n",
       "2          0        Red  \n",
       "3          0        Red  \n",
       "4          0        Red  \n",
       "5          0        Red  \n",
       "6          0        Red  \n",
       "7          0        Red  \n",
       "8          0        Red  \n",
       "9          0        Red  "
      ]
     },
     "execution_count": 5,
     "metadata": {},
     "output_type": "execute_result"
    }
   ],
   "source": [
    "df.head(10)"
   ]
  },
  {
   "cell_type": "code",
   "execution_count": 6,
   "id": "1d3de7ff",
   "metadata": {},
   "outputs": [
    {
     "data": {
      "text/html": [
       "<div>\n",
       "<style scoped>\n",
       "    .dataframe tbody tr th:only-of-type {\n",
       "        vertical-align: middle;\n",
       "    }\n",
       "\n",
       "    .dataframe tbody tr th {\n",
       "        vertical-align: top;\n",
       "    }\n",
       "\n",
       "    .dataframe thead th {\n",
       "        text-align: right;\n",
       "    }\n",
       "</style>\n",
       "<table border=\"1\" class=\"dataframe\">\n",
       "  <thead>\n",
       "    <tr style=\"text-align: right;\">\n",
       "      <th></th>\n",
       "      <th>count</th>\n",
       "      <th>mean</th>\n",
       "      <th>std</th>\n",
       "      <th>min</th>\n",
       "      <th>50%</th>\n",
       "      <th>max</th>\n",
       "    </tr>\n",
       "  </thead>\n",
       "  <tbody>\n",
       "    <tr>\n",
       "      <th>Temperature (K)</th>\n",
       "      <td>240.0</td>\n",
       "      <td>10497.462500</td>\n",
       "      <td>9552.425037</td>\n",
       "      <td>1939.00000</td>\n",
       "      <td>5776.0000</td>\n",
       "      <td>40000.00</td>\n",
       "    </tr>\n",
       "    <tr>\n",
       "      <th>Luminosity(L/Lo)</th>\n",
       "      <td>240.0</td>\n",
       "      <td>107188.361635</td>\n",
       "      <td>179432.244940</td>\n",
       "      <td>0.00008</td>\n",
       "      <td>0.0705</td>\n",
       "      <td>849420.00</td>\n",
       "    </tr>\n",
       "    <tr>\n",
       "      <th>Radius(R/Ro)</th>\n",
       "      <td>240.0</td>\n",
       "      <td>237.157781</td>\n",
       "      <td>517.155763</td>\n",
       "      <td>0.00840</td>\n",
       "      <td>0.7625</td>\n",
       "      <td>1948.50</td>\n",
       "    </tr>\n",
       "    <tr>\n",
       "      <th>Absolute magnitude(Mv)</th>\n",
       "      <td>240.0</td>\n",
       "      <td>4.382396</td>\n",
       "      <td>10.532512</td>\n",
       "      <td>-11.92000</td>\n",
       "      <td>8.3130</td>\n",
       "      <td>20.06</td>\n",
       "    </tr>\n",
       "    <tr>\n",
       "      <th>Star type</th>\n",
       "      <td>240.0</td>\n",
       "      <td>2.500000</td>\n",
       "      <td>1.711394</td>\n",
       "      <td>0.00000</td>\n",
       "      <td>2.5000</td>\n",
       "      <td>5.00</td>\n",
       "    </tr>\n",
       "  </tbody>\n",
       "</table>\n",
       "</div>"
      ],
      "text/plain": [
       "                        count           mean            std         min  \\\n",
       "Temperature (K)         240.0   10497.462500    9552.425037  1939.00000   \n",
       "Luminosity(L/Lo)        240.0  107188.361635  179432.244940     0.00008   \n",
       "Radius(R/Ro)            240.0     237.157781     517.155763     0.00840   \n",
       "Absolute magnitude(Mv)  240.0       4.382396      10.532512   -11.92000   \n",
       "Star type               240.0       2.500000       1.711394     0.00000   \n",
       "\n",
       "                              50%        max  \n",
       "Temperature (K)         5776.0000   40000.00  \n",
       "Luminosity(L/Lo)           0.0705  849420.00  \n",
       "Radius(R/Ro)               0.7625    1948.50  \n",
       "Absolute magnitude(Mv)     8.3130      20.06  \n",
       "Star type                  2.5000       5.00  "
      ]
     },
     "execution_count": 6,
     "metadata": {},
     "output_type": "execute_result"
    }
   ],
   "source": [
    "df.describe(percentiles=[.5]).T"
   ]
  },
  {
   "cell_type": "code",
   "execution_count": 7,
   "id": "c12241fc",
   "metadata": {},
   "outputs": [
    {
     "name": "stdout",
     "output_type": "stream",
     "text": [
      "<class 'pandas.core.frame.DataFrame'>\n",
      "Int64Index: 240 entries, 0 to 239\n",
      "Data columns (total 6 columns):\n",
      " #   Column                  Non-Null Count  Dtype  \n",
      "---  ------                  --------------  -----  \n",
      " 0   Temperature (K)         240 non-null    int64  \n",
      " 1   Luminosity(L/Lo)        240 non-null    float64\n",
      " 2   Radius(R/Ro)            240 non-null    float64\n",
      " 3   Absolute magnitude(Mv)  240 non-null    float64\n",
      " 4   Star type               240 non-null    int64  \n",
      " 5   Star color              240 non-null    object \n",
      "dtypes: float64(3), int64(2), object(1)\n",
      "memory usage: 13.1+ KB\n"
     ]
    }
   ],
   "source": [
    "df.info()"
   ]
  },
  {
   "cell_type": "code",
   "execution_count": 8,
   "id": "ea81f74e",
   "metadata": {},
   "outputs": [
    {
     "data": {
      "text/plain": [
       "'Количество дублированных строк: 0'"
      ]
     },
     "metadata": {},
     "output_type": "display_data"
    }
   ],
   "source": [
    "display(f\"Количество дублированных строк: {df.duplicated().sum()}\")"
   ]
  },
  {
   "cell_type": "markdown",
   "id": "98a77d2a",
   "metadata": {},
   "source": [
    "## Предобработка и анализ данных"
   ]
  },
  {
   "cell_type": "markdown",
   "id": "6523a78f",
   "metadata": {},
   "source": [
    "### Анализ первоначальных данных"
   ]
  },
  {
   "cell_type": "code",
   "execution_count": 9,
   "id": "8129abf2",
   "metadata": {},
   "outputs": [
    {
     "data": {
      "image/png": "[encoded data removed]",
      "text/plain": [
       "<Figure size 1008x576 with 1 Axes>"
      ]
     },
     "metadata": {
      "needs_background": "light"
     },
     "output_type": "display_data"
    }
   ],
   "source": [
    "# Создаем график\n",
    "plt.figure(figsize=(14, 8)) # Задаем размер графика\n",
    "\n",
    "# Строим график с помощью функции plot\n",
    "plt.plot(df['Temperature (K)']) # Замените 'column_name' на название вашего столбца\n",
    "\n",
    "# Добавляем заголовок и метки осей\n",
    "plt.title('График по столбцу dataframe')\n",
    "plt.xlabel('star id')\n",
    "plt.ylabel('Temperature (K)')\n",
    "\n",
    "# Отображаем график\n",
    "plt.show()"
   ]
  },
  {
   "cell_type": "markdown",
   "id": "2b12dff1",
   "metadata": {},
   "source": [
    "Звёзды делятся на разные классы и виды по температуре. Вот эти классы и виды:\n",
    "\n",
    "Звёзды класса A — имеют небольшую температуру в 7 500–10 000 Кельвинов. Светятся белым светом.\n",
    "Звёзды класса B — имеют температуру в 10 000 — 30 000 К. Светятся бело-голубым светом.\n",
    "Звёзды класса F — имеют температуру в 6 000 — 7 500 К. Истинный цвет — жёлто-белый.\n",
    "Звёзды класса G — имеют температуру в 5 000 — 6 000 К. Светятся жёлтым светом, как и в небе.\n",
    "Звёзды класса K — имеют температуру в 3 500 — 5 000 К. Светятся оранжевым. В небе видны как жёлтовато-оранжевые.\n",
    "Звёзды класса M — имеют низкую температуру в 2 000–3 500 К. Светятся красным, в небе можно увидеть их как оранжево-красные.\n",
    "Звёзды класса O — имеют высокую температуру в 30 000 — 60 000 К. Светятся голубым светом, как и в небе."
   ]
  },
  {
   "cell_type": "code",
   "execution_count": 10,
   "id": "cdd36803",
   "metadata": {},
   "outputs": [
    {
     "data": {
      "image/png": "[encoded data removed]",
      "text/plain": [
       "<Figure size 1008x576 with 1 Axes>"
      ]
     },
     "metadata": {
      "needs_background": "light"
     },
     "output_type": "display_data"
    }
   ],
   "source": [
    "# Создаем график\n",
    "plt.figure(figsize=(14, 8)) # Задаем размер графика\n",
    "\n",
    "# Строим график с помощью функции plot\n",
    "plt.plot(df['Luminosity(L/Lo)']) # Замените 'column_name' на название вашего столбца\n",
    "\n",
    "# Добавляем заголовок и метки осей\n",
    "plt.title('График по столбцу dataframe')\n",
    "plt.xlabel('star id')\n",
    "plt.ylabel('Luminosity(L/Lo)')\n",
    "\n",
    "# Отображаем график\n",
    "plt.show()"
   ]
  },
  {
   "cell_type": "markdown",
   "id": "3f7ac84f",
   "metadata": {},
   "source": [
    "Тут делим по светимости на солнцеподобные и те, что выше солнца. Очень низкая, низкая, средняя, высокая, очень высокая"
   ]
  },
  {
   "cell_type": "code",
   "execution_count": 11,
   "id": "acb0f4b1",
   "metadata": {},
   "outputs": [
    {
     "data": {
      "image/png": "[encoded data removed]",
      "text/plain": [
       "<Figure size 1008x576 with 1 Axes>"
      ]
     },
     "metadata": {
      "needs_background": "light"
     },
     "output_type": "display_data"
    }
   ],
   "source": [
    "# Создаем график\n",
    "plt.figure(figsize=(14, 8)) # Задаем размер графика\n",
    "\n",
    "# Строим график с помощью функции plot\n",
    "plt.plot(df['Radius(R/Ro)']) # Замените 'column_name' на название вашего столбца\n",
    "\n",
    "# Добавляем заголовок и метки осей\n",
    "plt.title('График по столбцу dataframe')\n",
    "plt.xlabel('star id')\n",
    "plt.ylabel('Radius(R/Ro)')\n",
    "\n",
    "# Отображаем график\n",
    "plt.show()"
   ]
  },
  {
   "cell_type": "markdown",
   "id": "f276f658",
   "metadata": {},
   "source": [
    "По радиусу очень маленькие, маленькие, средние, большие, очень большие "
   ]
  },
  {
   "cell_type": "code",
   "execution_count": 12,
   "id": "04674de5",
   "metadata": {},
   "outputs": [
    {
     "data": {
      "image/png": "[encoded data removed]",
      "text/plain": [
       "<Figure size 1008x576 with 1 Axes>"
      ]
     },
     "metadata": {
      "needs_background": "light"
     },
     "output_type": "display_data"
    }
   ],
   "source": [
    "# Создаем график\n",
    "plt.figure(figsize=(14, 8)) # Задаем размер графика\n",
    "\n",
    "# Строим график с помощью функции plot\n",
    "plt.plot(df['Absolute magnitude(Mv)']) # Замените 'column_name' на название вашего столбца\n",
    "\n",
    "# Добавляем заголовок и метки осей\n",
    "plt.title('График по столбцу dataframe')\n",
    "plt.xlabel('star id')\n",
    "plt.ylabel('Absolute magnitude(Mv)')\n",
    "\n",
    "# Отображаем график\n",
    "plt.show()"
   ]
  },
  {
   "cell_type": "markdown",
   "id": "113d482c",
   "metadata": {},
   "source": [
    "По магнитуде, маленькие, средние, большие, очень большие "
   ]
  },
  {
   "cell_type": "code",
   "execution_count": 13,
   "id": "99115f78",
   "metadata": {},
   "outputs": [
    {
     "data": {
      "text/plain": [
       "<AxesSubplot:>"
      ]
     },
     "execution_count": 13,
     "metadata": {},
     "output_type": "execute_result"
    },
    {
     "data": {
      "image/png": "[encoded data removed]",
      "text/plain": [
       "<Figure size 432x288 with 1 Axes>"
      ]
     },
     "metadata": {
      "needs_background": "light"
     },
     "output_type": "display_data"
    }
   ],
   "source": [
    "df['Star type'].hist(bins=12, legend=True)"
   ]
  },
  {
   "cell_type": "code",
   "execution_count": 14,
   "id": "4d4db867",
   "metadata": {},
   "outputs": [],
   "source": [
    "def print_pie(grouped):\n",
    "    sizes = grouped\n",
    "    labels = grouped.index\n",
    "\n",
    "    fig1, ax1 = plt.subplots(figsize=(6, 5))\n",
    "    fig1.subplots_adjust(0.3,0,1.5,1)\n",
    "\n",
    "\n",
    "    theme = plt.get_cmap('bwr')\n",
    "    ax1.set_prop_cycle(\"color\", [theme(1.3 * i / len(sizes)) for i in range(len(sizes))])\n",
    "\n",
    "    ax1.pie(sizes, startangle=90)\n",
    "\n",
    "    ax1.axis('equal')\n",
    "\n",
    "    total = sum(sizes)\n",
    "    plt.legend(\n",
    "        loc='upper left',\n",
    "        labels=['%s, %1.1f%%' % (\n",
    "            l, (float(s) / total) * 100) for l, s in zip(labels, sizes)],\n",
    "        prop={'size': 11},\n",
    "        bbox_to_anchor=(0.0, 1),\n",
    "        bbox_transform=fig1.transFigure\n",
    "    )\n",
    "\n",
    "    plt.show()"
   ]
  },
  {
   "cell_type": "code",
   "execution_count": 15,
   "id": "c6484201",
   "metadata": {},
   "outputs": [
    {
     "data": {
      "image/png": "[encoded data removed]",
      "text/plain": [
       "<Figure size 432x360 with 1 Axes>"
      ]
     },
     "metadata": {},
     "output_type": "display_data"
    }
   ],
   "source": [
    "grouped = df.groupby('Star color').size()\n",
    "print_pie(grouped)"
   ]
  },
  {
   "cell_type": "markdown",
   "id": "627302dd",
   "metadata": {},
   "source": [
    "Вывод: В категориальной переменной \"Star color\" много неявных дубликатов. В остальном ни выбывающихся значений, ни пропусков, ни явных дубликатов не наблюдается. Остаётся только исправиить значения колонки \"Star color\", построить хитмап корреляции параметров и упростить названия колонок для дальнейшей работы."
   ]
  },
  {
   "cell_type": "markdown",
   "id": "4d7ae604",
   "metadata": {},
   "source": [
    "### Предобработка данных"
   ]
  },
  {
   "cell_type": "code",
   "execution_count": 16,
   "id": "68e54baf",
   "metadata": {},
   "outputs": [],
   "source": [
    "# Изменим имеющиеся названия столбцов путем упрощения\n",
    "df.columns = ['temp', 'luminosity', 'radius', 'magnitude', 'type', 'color']"
   ]
  },
  {
   "cell_type": "code",
   "execution_count": 17,
   "id": "0c475f35",
   "metadata": {},
   "outputs": [],
   "source": [
    "def star_color(temp):\n",
    "    if x > 30000:\n",
    "        return 'Blue'\n",
    "    elif 30000 >= temp > 10000:\n",
    "        return 'Blue_white'\n",
    "    elif 10000 >= temp > 7400:\n",
    "        return 'White'\n",
    "    elif 7400 >= temp > 6000:\n",
    "        return 'Yellow_white'\n",
    "    elif 6000 >= temp > 5000:\n",
    "        return 'Yellow'\n",
    "    elif 5000 >= temp > 3800:\n",
    "        return 'Orange'\n",
    "    else:\n",
    "        return 'Red'"
   ]
  },
  {
   "cell_type": "code",
   "execution_count": 18,
   "id": "2883f5f4",
   "metadata": {},
   "outputs": [],
   "source": [
    "df['color'] = df['color'].str.lower()\n",
    "df['color'] = df['color'].str.strip()\n",
    "df['color'] = df['color'].str.replace('-', ' ').replace('  ', ' ')"
   ]
  },
  {
   "cell_type": "code",
   "execution_count": 19,
   "id": "ae9c3cfb",
   "metadata": {},
   "outputs": [
    {
     "data": {
      "image/png": "[encoded data removed]",
      "text/plain": [
       "<Figure size 432x360 with 1 Axes>"
      ]
     },
     "metadata": {},
     "output_type": "display_data"
    }
   ],
   "source": [
    "grouped = df.query('temp > 30000').groupby('color').size()\n",
    "print_pie(grouped)"
   ]
  },
  {
   "cell_type": "code",
   "execution_count": 20,
   "id": "06cb7406",
   "metadata": {},
   "outputs": [
    {
     "data": {
      "image/png": "[encoded data removed]",
      "text/plain": [
       "<Figure size 432x360 with 1 Axes>"
      ]
     },
     "metadata": {},
     "output_type": "display_data"
    }
   ],
   "source": [
    "grouped = df.query('30000 >= temp > 10000').groupby('color').size()\n",
    "print_pie(grouped)"
   ]
  },
  {
   "cell_type": "code",
   "execution_count": 21,
   "id": "3169f71b",
   "metadata": {},
   "outputs": [
    {
     "data": {
      "image/png": "[encoded data removed]",
      "text/plain": [
       "<Figure size 432x360 with 1 Axes>"
      ]
     },
     "metadata": {},
     "output_type": "display_data"
    }
   ],
   "source": [
    "grouped = df.query('10000 >= temp > 7400').groupby('color').size()\n",
    "print_pie(grouped)"
   ]
  },
  {
   "cell_type": "code",
   "execution_count": 22,
   "id": "c021a8b6",
   "metadata": {},
   "outputs": [
    {
     "data": {
      "image/png": "[encoded data removed]",
      "text/plain": [
       "<Figure size 432x360 with 1 Axes>"
      ]
     },
     "metadata": {},
     "output_type": "display_data"
    }
   ],
   "source": [
    "grouped = df.query('7400 >= temp > 6000').groupby('color').size()\n",
    "print_pie(grouped)"
   ]
  },
  {
   "cell_type": "code",
   "execution_count": 23,
   "id": "7acb48b5",
   "metadata": {},
   "outputs": [
    {
     "data": {
      "image/png": "[encoded data removed]",
      "text/plain": [
       "<Figure size 432x360 with 1 Axes>"
      ]
     },
     "metadata": {},
     "output_type": "display_data"
    }
   ],
   "source": [
    "grouped = df.query('6000 >= temp > 5000').groupby('color').size()\n",
    "print_pie(grouped)"
   ]
  },
  {
   "cell_type": "code",
   "execution_count": 24,
   "id": "838e26b0",
   "metadata": {},
   "outputs": [
    {
     "data": {
      "image/png": "[encoded data removed]",
      "text/plain": [
       "<Figure size 432x360 with 1 Axes>"
      ]
     },
     "metadata": {},
     "output_type": "display_data"
    }
   ],
   "source": [
    "grouped = df.query('5000 >= temp > 3800').groupby('color').size()\n",
    "print_pie(grouped)"
   ]
  },
  {
   "cell_type": "code",
   "execution_count": 25,
   "id": "dbad5c04",
   "metadata": {},
   "outputs": [
    {
     "data": {
      "image/png": "[encoded data removed]",
      "text/plain": [
       "<Figure size 432x360 with 1 Axes>"
      ]
     },
     "metadata": {},
     "output_type": "display_data"
    }
   ],
   "source": [
    "grouped = df.query('temp <= 3800').groupby('color').size()\n",
    "print_pie(grouped)"
   ]
  },
  {
   "cell_type": "code",
   "execution_count": 26,
   "id": "00adb4b1",
   "metadata": {},
   "outputs": [],
   "source": [
    "df.loc[df['color'] == 'yellowish' , 'color'] = 'orange'\n",
    "df.loc[df['color'] == 'pale yellow orange', 'color'] = 'white yellow'\n",
    "df.loc[(df['color'] == 'whitish')| (df['color'] == 'yellowish white'), 'color'] = 'white'"
   ]
  },
  {
   "cell_type": "code",
   "execution_count": 27,
   "id": "66647487",
   "metadata": {},
   "outputs": [],
   "source": [
    "# df.loc[\n",
    "#     df['color'] == 'Blue ',\n",
    "#     'color'\n",
    "# ] = 'Blue'\n",
    "\n",
    "# # Blue and white\n",
    "# df.loc[\n",
    "#     (df['color'] == 'Blue white') | \n",
    "#     (df['color'] == 'Blue-white') |\n",
    "#     (df['color'] == 'Blue-White') |\n",
    "#     (df['color'] == 'Blue white '), \n",
    "#     'color'\n",
    "# ] = 'Blue White'\n",
    "\n",
    "# # White\n",
    "# df.loc[\n",
    "#     (df['color'] == 'white') |\n",
    "#     (df['color'] == 'Whitish') |\n",
    "#     (df['color'] == 'whitish'),\n",
    "#     'color'\n",
    "# ] = 'White'\n",
    "\n",
    "# # Yellow\n",
    "# df.loc[\n",
    "#     (df['color'] == 'Yellowish White') |\n",
    "#     (df['color'] == 'yellow-white') | \n",
    "#     (df['color'] == 'White-Yellow') |\n",
    "#     (df['color'] == 'Yellow White') |\n",
    "#     (df['color'] == 'yellowish') |\n",
    "#     (df['color'] == 'Yellowish') |\n",
    "#     (df['color'] == 'Pale yellow orange'),\n",
    "#     'color'\n",
    "# ] = 'Yellow'\n",
    "\n",
    "# # Orange and red\n",
    "# df.loc[\n",
    "#     (df['color'] == 'Orange-Red') |\n",
    "#     (df['color'] == 'Orange Red'),\n",
    "#     'color'\n",
    "# ] = 'Orange'\n",
    "# df['color'] = df['temp'].apply(star_color)"
   ]
  },
  {
   "cell_type": "code",
   "execution_count": 28,
   "id": "16a486ec",
   "metadata": {},
   "outputs": [
    {
     "data": {
      "image/png": "[encoded data removed]",
      "text/plain": [
       "<Figure size 432x360 with 1 Axes>"
      ]
     },
     "metadata": {},
     "output_type": "display_data"
    }
   ],
   "source": [
    "grouped = df.groupby('color').size()\n",
    "print_pie(grouped)"
   ]
  },
  {
   "cell_type": "code",
   "execution_count": 29,
   "id": "3c504be4",
   "metadata": {},
   "outputs": [
    {
     "name": "stdout",
     "output_type": "stream",
     "text": [
      "interval columns not set, guessing: ['temp', 'luminosity', 'radius', 'magnitude', 'type']\n"
     ]
    },
    {
     "data": {
      "image/png": "[encoded data removed]",
      "text/plain": [
       "<Figure size 504x360 with 2 Axes>"
      ]
     },
     "metadata": {
      "needs_background": "light"
     },
     "output_type": "display_data"
    }
   ],
   "source": [
    "phik_overview = df.phik_matrix()\n",
    "phik_overview.round(2)\n",
    "\n",
    "plot_correlation_matrix(\n",
    "    phik_overview.values,\n",
    "    x_labels=phik_overview.columns,\n",
    "    y_labels=phik_overview.index,\n",
    "    vmin=0,\n",
    "    vmax=1\n",
    ")"
   ]
  },
  {
   "cell_type": "markdown",
   "id": "abdba06f",
   "metadata": {},
   "source": [
    "Вывод: Была проделана комплексная работа по анализу и предобработке данных. В ходе которой были выявлены и устранены неявные дубликаты в колонке с цветом звезды, также была построена матрица корреляции. Из данной матрицы следует, что все значения мультиколлинеарны - следовательно стоит использовать методы регуляризации параметров или исключение некоторых признаков.\n",
    "Целевая переменная Temperature в основном завит от цвета звезды и её магнитуды, а меньше всего опирается на размер и светимость звезды."
   ]
  },
  {
   "cell_type": "markdown",
   "id": "funded-electric",
   "metadata": {},
   "source": [
    "## Построение базовой нейронной сети"
   ]
  },
  {
   "cell_type": "code",
   "execution_count": 30,
   "id": "forced-concentrate",
   "metadata": {},
   "outputs": [
    {
     "data": {
      "text/html": [
       "<div>\n",
       "<style scoped>\n",
       "    .dataframe tbody tr th:only-of-type {\n",
       "        vertical-align: middle;\n",
       "    }\n",
       "\n",
       "    .dataframe tbody tr th {\n",
       "        vertical-align: top;\n",
       "    }\n",
       "\n",
       "    .dataframe thead th {\n",
       "        text-align: right;\n",
       "    }\n",
       "</style>\n",
       "<table border=\"1\" class=\"dataframe\">\n",
       "  <thead>\n",
       "    <tr style=\"text-align: right;\">\n",
       "      <th></th>\n",
       "      <th>luminosity</th>\n",
       "      <th>radius</th>\n",
       "      <th>magnitude</th>\n",
       "      <th>type</th>\n",
       "      <th>color</th>\n",
       "    </tr>\n",
       "  </thead>\n",
       "  <tbody>\n",
       "    <tr>\n",
       "      <th>0</th>\n",
       "      <td>0.002400</td>\n",
       "      <td>0.1700</td>\n",
       "      <td>16.12</td>\n",
       "      <td>0</td>\n",
       "      <td>red</td>\n",
       "    </tr>\n",
       "    <tr>\n",
       "      <th>1</th>\n",
       "      <td>0.000500</td>\n",
       "      <td>0.1542</td>\n",
       "      <td>16.60</td>\n",
       "      <td>0</td>\n",
       "      <td>red</td>\n",
       "    </tr>\n",
       "    <tr>\n",
       "      <th>2</th>\n",
       "      <td>0.000300</td>\n",
       "      <td>0.1020</td>\n",
       "      <td>18.70</td>\n",
       "      <td>0</td>\n",
       "      <td>red</td>\n",
       "    </tr>\n",
       "    <tr>\n",
       "      <th>3</th>\n",
       "      <td>0.000200</td>\n",
       "      <td>0.1600</td>\n",
       "      <td>16.65</td>\n",
       "      <td>0</td>\n",
       "      <td>red</td>\n",
       "    </tr>\n",
       "    <tr>\n",
       "      <th>4</th>\n",
       "      <td>0.000138</td>\n",
       "      <td>0.1030</td>\n",
       "      <td>20.06</td>\n",
       "      <td>0</td>\n",
       "      <td>red</td>\n",
       "    </tr>\n",
       "    <tr>\n",
       "      <th>...</th>\n",
       "      <td>...</td>\n",
       "      <td>...</td>\n",
       "      <td>...</td>\n",
       "      <td>...</td>\n",
       "      <td>...</td>\n",
       "    </tr>\n",
       "    <tr>\n",
       "      <th>235</th>\n",
       "      <td>374830.000000</td>\n",
       "      <td>1356.0000</td>\n",
       "      <td>-9.93</td>\n",
       "      <td>5</td>\n",
       "      <td>blue</td>\n",
       "    </tr>\n",
       "    <tr>\n",
       "      <th>236</th>\n",
       "      <td>834042.000000</td>\n",
       "      <td>1194.0000</td>\n",
       "      <td>-10.63</td>\n",
       "      <td>5</td>\n",
       "      <td>blue</td>\n",
       "    </tr>\n",
       "    <tr>\n",
       "      <th>237</th>\n",
       "      <td>537493.000000</td>\n",
       "      <td>1423.0000</td>\n",
       "      <td>-10.73</td>\n",
       "      <td>5</td>\n",
       "      <td>white</td>\n",
       "    </tr>\n",
       "    <tr>\n",
       "      <th>238</th>\n",
       "      <td>404940.000000</td>\n",
       "      <td>1112.0000</td>\n",
       "      <td>-11.23</td>\n",
       "      <td>5</td>\n",
       "      <td>white</td>\n",
       "    </tr>\n",
       "    <tr>\n",
       "      <th>239</th>\n",
       "      <td>294903.000000</td>\n",
       "      <td>1783.0000</td>\n",
       "      <td>-7.80</td>\n",
       "      <td>5</td>\n",
       "      <td>blue</td>\n",
       "    </tr>\n",
       "  </tbody>\n",
       "</table>\n",
       "<p>240 rows × 5 columns</p>\n",
       "</div>"
      ],
      "text/plain": [
       "        luminosity     radius  magnitude  type  color\n",
       "0         0.002400     0.1700      16.12     0    red\n",
       "1         0.000500     0.1542      16.60     0    red\n",
       "2         0.000300     0.1020      18.70     0    red\n",
       "3         0.000200     0.1600      16.65     0    red\n",
       "4         0.000138     0.1030      20.06     0    red\n",
       "..             ...        ...        ...   ...    ...\n",
       "235  374830.000000  1356.0000      -9.93     5   blue\n",
       "236  834042.000000  1194.0000     -10.63     5   blue\n",
       "237  537493.000000  1423.0000     -10.73     5  white\n",
       "238  404940.000000  1112.0000     -11.23     5  white\n",
       "239  294903.000000  1783.0000      -7.80     5   blue\n",
       "\n",
       "[240 rows x 5 columns]"
      ]
     },
     "execution_count": 30,
     "metadata": {},
     "output_type": "execute_result"
    }
   ],
   "source": [
    "train = df.drop('temp', axis=1)\n",
    "test = df['temp']\n",
    "train"
   ]
  },
  {
   "cell_type": "code",
   "execution_count": 31,
   "id": "75020ac4",
   "metadata": {},
   "outputs": [
    {
     "data": {
      "text/plain": [
       "0       3068\n",
       "1       3042\n",
       "2       2600\n",
       "3       2800\n",
       "4       1939\n",
       "       ...  \n",
       "235    38940\n",
       "236    30839\n",
       "237     8829\n",
       "238     9235\n",
       "239    37882\n",
       "Name: temp, Length: 240, dtype: int64"
      ]
     },
     "execution_count": 31,
     "metadata": {},
     "output_type": "execute_result"
    }
   ],
   "source": [
    "test"
   ]
  },
  {
   "cell_type": "code",
   "execution_count": 32,
   "id": "3cb268bf",
   "metadata": {},
   "outputs": [],
   "source": [
    "categorial_columns = ['type', 'color']\n",
    "numeric_columns = ['luminosity', 'radius', 'magnitude']"
   ]
  },
  {
   "cell_type": "code",
   "execution_count": 33,
   "id": "7d1cdffd",
   "metadata": {},
   "outputs": [],
   "source": [
    "X_train, X_test, y_train, y_test = train_test_split(train, test, random_state=RANDOM_STATE)"
   ]
  },
  {
   "cell_type": "code",
   "execution_count": 34,
   "id": "8abbfa63",
   "metadata": {},
   "outputs": [],
   "source": [
    "encoder = OneHotEncoder(handle_unknown='ignore')\n",
    "scaler = StandardScaler()"
   ]
  },
  {
   "cell_type": "code",
   "execution_count": 35,
   "id": "ff698aec",
   "metadata": {},
   "outputs": [
    {
     "data": {
      "text/plain": [
       "OneHotEncoder(handle_unknown='ignore')"
      ]
     },
     "execution_count": 35,
     "metadata": {},
     "output_type": "execute_result"
    }
   ],
   "source": [
    "encoder.fit(X_train[categorial_columns])"
   ]
  },
  {
   "cell_type": "code",
   "execution_count": 36,
   "id": "9cf9651b",
   "metadata": {},
   "outputs": [],
   "source": [
    "X_train_encoded = pd.DataFrame(\n",
    "    encoder.transform(X_train[categorial_columns]).toarray(),\n",
    "    columns=encoder.get_feature_names(categorial_columns),\n",
    "    index=X_train.index\n",
    ")\n",
    "X_train_encoded = pd.concat((X_train[numeric_columns], X_train_encoded), axis=1)"
   ]
  },
  {
   "cell_type": "code",
   "execution_count": 37,
   "id": "2daf2291",
   "metadata": {},
   "outputs": [],
   "source": [
    "X_test_encoded = pd.DataFrame(\n",
    "    encoder.transform(X_test[categorial_columns]).toarray(),\n",
    "    columns=encoder.get_feature_names(categorial_columns),\n",
    "    index=X_test.index\n",
    ")\n",
    "X_test_encoded = pd.concat((X_test[numeric_columns], X_test_encoded), axis=1)"
   ]
  },
  {
   "cell_type": "code",
   "execution_count": 38,
   "id": "efe14b4e",
   "metadata": {},
   "outputs": [
    {
     "data": {
      "text/plain": [
       "(180, 17)"
      ]
     },
     "execution_count": 38,
     "metadata": {},
     "output_type": "execute_result"
    }
   ],
   "source": [
    "X_train_encoded.shape"
   ]
  },
  {
   "cell_type": "code",
   "execution_count": 39,
   "id": "249e781d",
   "metadata": {},
   "outputs": [
    {
     "data": {
      "text/plain": [
       "StandardScaler()"
      ]
     },
     "execution_count": 39,
     "metadata": {},
     "output_type": "execute_result"
    }
   ],
   "source": [
    "scaler.fit(X_train_encoded)"
   ]
  },
  {
   "cell_type": "code",
   "execution_count": 40,
   "id": "8080cbf4",
   "metadata": {},
   "outputs": [],
   "source": [
    "X_train_scaled = scaler.transform(X_train_encoded)\n",
    "X_test_scaled = scaler.transform(X_test_encoded)"
   ]
  },
  {
   "cell_type": "code",
   "execution_count": 41,
   "id": "1d8d16e7",
   "metadata": {},
   "outputs": [],
   "source": [
    "n_in_neurons, n_out_neurons, num_epochs = X_train_encoded.shape[1], 1, 12001"
   ]
  },
  {
   "cell_type": "code",
   "execution_count": 42,
   "id": "cb5a47ad",
   "metadata": {},
   "outputs": [],
   "source": [
    "X_train = torch.FloatTensor(X_train_scaled)\n",
    "X_test = torch.FloatTensor(X_test_scaled)\n",
    "y_train = torch.FloatTensor(y_train.values)\n",
    "y_test = torch.FloatTensor(y_test.values)"
   ]
  },
  {
   "cell_type": "code",
   "execution_count": 43,
   "id": "1870d959",
   "metadata": {},
   "outputs": [],
   "source": [
    "# loss = nn.MSELoss()\n",
    "# Функция для инициализации весов\n",
    "def init_weights(layer):\n",
    "    if type(layer) == nn.Linear:\n",
    "        nn.init.kaiming_uniform_(\n",
    "            layer.weight,\n",
    "            mode='fan_in',\n",
    "            nonlinearity='relu'\n",
    "        )\n",
    "\n",
    "def net_testing(hid1, hid2, out, n_in_neurons, n_hidden_neurons_1, n_hidden_neurons_2, n_out_neurons, num_epochs):\n",
    "    # optimizer = torch.optim.Adam(net.parameters(), lr=1e-3)\n",
    "\n",
    "    loss = nn.MSELoss()\n",
    "    net = nn.Sequential(\n",
    "        nn.Linear(n_in_neurons, n_hidden_neurons_1),\n",
    "        hid1,\n",
    "        nn.Linear(n_hidden_neurons_1, n_hidden_neurons_2),\n",
    "        hid2,\n",
    "        nn.Linear(n_hidden_neurons_2, n_out_neurons), \n",
    "        out)\n",
    "    # Инициализация весов нейросети\n",
    "    # net.apply(init_weights)\n",
    "\n",
    "    optimizer = torch.optim.Adam(net.parameters(), lr=1e-3)\n",
    "    for epoch in range(num_epochs):\n",
    "        optimizer.zero_grad()\n",
    "\n",
    "        preds = net.forward(X_train).flatten()\n",
    "        \n",
    "        loss_value = loss(preds, y_train)\n",
    "#         l1_lambda = 0.0005\n",
    "#         l1_norm = sum(p.abs().sum() for p in net.parameters())\n",
    "#         l2_lambda = 0.001\n",
    "#         l2_norm = sum(p.pow(2.0).sum() for p in net.parameters())\n",
    "#         loss_value = loss_value + l1_lambda * l1_norm + l2_lambda * l2_norm\n",
    "\n",
    "        loss_value.backward()\n",
    "\n",
    "        optimizer.step()\n",
    "        if epoch % 200 == 0 or epoch == num_epochs - 1:\n",
    "            net.eval()\n",
    "    test_preds = net.forward(X_test).flatten()\n",
    "    print(f'1-й слой: {hid1}, 2-й слой {hid2}, выход {out}')\n",
    "    print(f'1-й слой: {n_hidden_neurons_1} нейронов, 2-й слой {n_hidden_neurons_2} нейронов')\n",
    "    result = torch.sqrt(loss(test_preds, y_test)).item()\n",
    "    print('RMSE =', result, '\\n')\n",
    "    return result, test_preds"
   ]
  },
  {
   "cell_type": "code",
   "execution_count": null,
   "id": "7e3fa7c4",
   "metadata": {},
   "outputs": [
    {
     "name": "stdout",
     "output_type": "stream",
     "text": [
      "1-й слой: ReLU(), 2-й слой ReLU(), выход ReLU()\n",
      "1-й слой: 6 нейронов, 2-й слой 3 нейронов\n",
      "RMSE = 12185.00390625 \n",
      "\n",
      "1-й слой: ReLU(), 2-й слой ReLU(), выход ReLU()\n",
      "1-й слой: 6 нейронов, 2-й слой 4 нейронов\n",
      "RMSE = 12185.00390625 \n",
      "\n",
      "1-й слой: ReLU(), 2-й слой ReLU(), выход ReLU()\n",
      "1-й слой: 6 нейронов, 2-й слой 5 нейронов\n",
      "RMSE = 12185.00390625 \n",
      "\n",
      "1-й слой: ReLU(), 2-й слой ReLU(), выход ReLU()\n",
      "1-й слой: 6 нейронов, 2-й слой 6 нейронов\n",
      "RMSE = 12185.00390625 \n",
      "\n",
      "1-й слой: ReLU(), 2-й слой ReLU(), выход ReLU()\n",
      "1-й слой: 7 нейронов, 2-й слой 3 нейронов\n",
      "RMSE = 4991.74462890625 \n",
      "\n",
      "1-й слой: ReLU(), 2-й слой ReLU(), выход ReLU()\n",
      "1-й слой: 7 нейронов, 2-й слой 4 нейронов\n",
      "RMSE = 5020.181640625 \n",
      "\n"
     ]
    }
   ],
   "source": [
    "results = []\n",
    "for hid1, hid2, out in (\n",
    "    (nn.ReLU(), nn.ReLU(), nn.ReLU()), \n",
    "    (nn.LeakyReLU(), nn.LeakyReLU(), nn.LeakyReLU()), \n",
    "    (nn.ELU(), nn.ELU(), nn.ELU()), \n",
    "    (nn.ReLU(), nn.LeakyReLU(), nn.ELU()), \n",
    "    (nn.ELU(), nn.ReLU(), nn.LeakyReLU())\n",
    "):\n",
    "    for n_hidden_neurons_1 in range(6, 10):\n",
    "        for n_hidden_neurons_2 in range(3, 7):\n",
    "            result = net_testing(hid1, hid2, out, n_in_neurons, n_hidden_neurons_1, n_hidden_neurons_2, n_out_neurons, num_epochs)\n",
    "            results.append((result[0], hid1, hid2, out, n_hidden_neurons_1, n_hidden_neurons_2, result[1]))"
   ]
  },
  {
   "cell_type": "code",
   "execution_count": null,
   "id": "07ad08fc",
   "metadata": {},
   "outputs": [],
   "source": [
    "win1, win2, win3 = sorted(results, key=lambda x: x[0], reverse=False)[: 3]\n",
    "display(win1[:6], win2[:6], win3[:6])"
   ]
  },
  {
   "cell_type": "code",
   "execution_count": null,
   "id": "d9c58e83",
   "metadata": {},
   "outputs": [],
   "source": [
    "# Функция для отображения графика \"Факт-Прогноз\"\n",
    "def show_graph(y_pred):\n",
    "    start = 0\n",
    "    end = 30\n",
    "    \n",
    "    basic_df = y_test[start:end]\n",
    "    nn_df = y_pred[start:end]\n",
    "\n",
    "    plt.figure(figsize=(7, 7))\n",
    "    plt.bar(range(start, end), nn_df.detach().numpy(), color='orange', label='Прогноз')\n",
    "    plt.bar(range(start, end), basic_df, color='blue', width=0.5, label='Факт')\n",
    "\n",
    "    plt.legend()\n",
    "    plt.title('Факт-Прогноз', fontsize=16)\n",
    "    plt.xlabel('Номер звезды в таблице данных', fontsize=14)\n",
    "    plt.ylabel('Температура звезды', fontsize=14)\n",
    "    plt.xticks(fontsize=12)\n",
    "    plt.yticks(fontsize=12)\n",
    "    plt.show()"
   ]
  },
  {
   "cell_type": "markdown",
   "id": "204a45dc",
   "metadata": {},
   "source": [
    "## Создание графика \"Факт-Прогноз\" по полученным результатам нейросети"
   ]
  },
  {
   "cell_type": "code",
   "execution_count": null,
   "id": "e9ae0c04",
   "metadata": {},
   "outputs": [],
   "source": [
    "show_graph(win1[6])"
   ]
  },
  {
   "cell_type": "markdown",
   "id": "8b052ccb",
   "metadata": {},
   "source": [
    "Выберем модель (ELU(alpha=1.0), ReLU(), LeakyReLU(negative_slope=0.01), 9, 4) т.к. она выдаёт лучший результат на тестовой выборке и имеет меньше всего нейронов в скрытых слоях, что уменьшит вероятность переобучения."
   ]
  },
  {
   "cell_type": "markdown",
   "id": "growing-supply",
   "metadata": {},
   "source": [
    "## Улучшение нейронной сети"
   ]
  },
  {
   "cell_type": "code",
   "execution_count": null,
   "id": "acceptable-forwarding",
   "metadata": {},
   "outputs": [],
   "source": [
    "win1, win2, win3 = sorted(results, key=lambda x: x[0], reverse=False)[: 3]\n",
    "display(win1, win2, win3)"
   ]
  },
  {
   "cell_type": "code",
   "execution_count": null,
   "id": "77b11276",
   "metadata": {},
   "outputs": [],
   "source": [
    "def net_result(hid1, hid2, out, n_in_neurons, n_hidden_neurons_1, n_hidden_neurons_2, n_out_neurons, num_epochs):\n",
    "    # optimizer = torch.optim.Adam(net.parameters(), lr=1e-3)\n",
    "\n",
    "    loss = nn.MSELoss()\n",
    "    net = nn.Sequential(\n",
    "        nn.Linear(n_in_neurons, n_hidden_neurons_1),\n",
    "        nn.BatchNorm1d(n_hidden_neurons_1),\n",
    "        hid1,\n",
    "        nn.Linear(n_hidden_neurons_1, n_hidden_neurons_2),\n",
    "        nn.BatchNorm1d(n_hidden_neurons_2),\n",
    "        hid2,\n",
    "        nn.Linear(n_hidden_neurons_2, n_out_neurons), \n",
    "        # nn.BatchNorm1d(n_out_neurons),\n",
    "        out)\n",
    "    # Инициализация весов нейросети\n",
    "    # net.apply(init_weights)\n",
    "\n",
    "    optimizer = torch.optim.Adam(net.parameters(), lr=1e-3)\n",
    "    for epoch in range(num_epochs):\n",
    "        optimizer.zero_grad()\n",
    "\n",
    "        preds = net.forward(X_train).flatten()\n",
    "        \n",
    "        loss_value = loss(preds, y_train)\n",
    "#         l1_lambda = 0.0005\n",
    "#         l1_norm = sum(p.abs().sum() for p in net.parameters())\n",
    "#         l2_lambda = 0.001\n",
    "#         l2_norm = sum(p.pow(2.0).sum() for p in net.parameters())\n",
    "#         loss_value = loss_value + l1_lambda * l1_norm + l2_lambda * l2_norm\n",
    "\n",
    "        loss_value.backward()\n",
    "\n",
    "        optimizer.step()\n",
    "        if epoch % 200 == 0 or epoch == num_epochs - 1:\n",
    "            net.eval()\n",
    "    test_preds = net.forward(X_test).flatten()\n",
    "    print(f'1-й слой: {hid1}, 2-й слой {hid2}, выход {out}')\n",
    "    print(f'1-й слой: {n_hidden_neurons_1} нейронов, 2-й слой {n_hidden_neurons_2} нейронов')\n",
    "    result = torch.sqrt(loss(test_preds, y_test)).item()\n",
    "    print('RMSE =', result, '\\n')\n",
    "    return result, test_preds"
   ]
  },
  {
   "cell_type": "code",
   "execution_count": null,
   "id": "73ef91ee",
   "metadata": {},
   "outputs": [],
   "source": [
    "result = net_result(nn.LeakyReLU(), nn.LeakyReLU(), nn.LeakyReLU(), n_in_neurons, 8, 5, n_out_neurons, 12001)"
   ]
  },
  {
   "cell_type": "markdown",
   "id": "accurate-infrastructure",
   "metadata": {},
   "source": [
    "## Выводы"
   ]
  }
 ],
 "metadata": {
  "ExecuteTimeLog": [
   {
    "duration": 391,
    "start_time": "2023-10-12T16:51:51.536Z"
   },
   {
    "duration": 75,
    "start_time": "2023-10-12T16:51:52.512Z"
   },
   {
    "duration": 16,
    "start_time": "2023-10-12T16:52:01.829Z"
   },
   {
    "duration": 9,
    "start_time": "2023-10-12T16:52:16.887Z"
   },
   {
    "duration": 32,
    "start_time": "2023-10-12T16:52:28.507Z"
   },
   {
    "duration": 70,
    "start_time": "2023-10-12T16:58:54.211Z"
   },
   {
    "duration": 424,
    "start_time": "2023-10-12T16:58:58.498Z"
   },
   {
    "duration": 186,
    "start_time": "2023-10-12T16:59:00.227Z"
   },
   {
    "duration": 169,
    "start_time": "2023-10-12T17:00:40.907Z"
   },
   {
    "duration": 165,
    "start_time": "2023-10-12T17:01:08.093Z"
   },
   {
    "duration": 147,
    "start_time": "2023-10-12T17:02:18.086Z"
   },
   {
    "duration": 245,
    "start_time": "2023-10-12T17:02:30.999Z"
   },
   {
    "duration": 224,
    "start_time": "2023-10-12T17:02:56.270Z"
   },
   {
    "duration": 113,
    "start_time": "2023-10-12T17:21:13.231Z"
   },
   {
    "duration": 46,
    "start_time": "2023-10-13T09:20:06.128Z"
   },
   {
    "duration": 832,
    "start_time": "2023-10-13T09:20:10.233Z"
   },
   {
    "duration": 96,
    "start_time": "2023-10-13T09:20:11.319Z"
   },
   {
    "duration": 14,
    "start_time": "2023-10-13T09:20:12.875Z"
   },
   {
    "duration": 25,
    "start_time": "2023-10-13T09:20:14.354Z"
   },
   {
    "duration": 12,
    "start_time": "2023-10-13T09:20:15.683Z"
   },
   {
    "duration": 5,
    "start_time": "2023-10-13T09:23:01.219Z"
   },
   {
    "duration": 205,
    "start_time": "2023-10-13T09:23:06.224Z"
   },
   {
    "duration": 190,
    "start_time": "2023-10-13T09:23:39.949Z"
   },
   {
    "duration": 156,
    "start_time": "2023-10-13T09:28:12.833Z"
   },
   {
    "duration": 127,
    "start_time": "2023-10-13T09:28:18.256Z"
   },
   {
    "duration": 198,
    "start_time": "2023-10-13T09:28:25.589Z"
   },
   {
    "duration": 155,
    "start_time": "2023-10-13T09:28:32.463Z"
   },
   {
    "duration": 142,
    "start_time": "2023-10-13T09:28:36.519Z"
   },
   {
    "duration": 126,
    "start_time": "2023-10-13T09:28:41.365Z"
   },
   {
    "duration": 172,
    "start_time": "2023-10-13T10:44:03.175Z"
   },
   {
    "duration": 217,
    "start_time": "2023-10-13T10:44:23.890Z"
   },
   {
    "duration": 1368,
    "start_time": "2023-10-13T10:44:29.876Z"
   },
   {
    "duration": 1353,
    "start_time": "2023-10-13T10:44:39.652Z"
   },
   {
    "duration": 98,
    "start_time": "2023-10-13T10:48:42.139Z"
   },
   {
    "duration": 218,
    "start_time": "2023-10-13T10:49:40.385Z"
   },
   {
    "duration": 221,
    "start_time": "2023-10-13T10:53:41.415Z"
   },
   {
    "duration": 206,
    "start_time": "2023-10-13T10:53:47.775Z"
   },
   {
    "duration": 138,
    "start_time": "2023-10-13T10:54:06.260Z"
   },
   {
    "duration": 228,
    "start_time": "2023-10-13T10:54:17.095Z"
   },
   {
    "duration": 190,
    "start_time": "2023-10-13T10:59:35.257Z"
   },
   {
    "duration": 105,
    "start_time": "2023-10-13T11:00:13.889Z"
   },
   {
    "duration": 300,
    "start_time": "2023-10-13T11:01:22.730Z"
   },
   {
    "duration": 309,
    "start_time": "2023-10-13T11:02:06.257Z"
   },
   {
    "duration": 275,
    "start_time": "2023-10-13T11:02:14.127Z"
   },
   {
    "duration": 278,
    "start_time": "2023-10-13T11:02:38.403Z"
   },
   {
    "duration": 308,
    "start_time": "2023-10-13T11:02:44.022Z"
   },
   {
    "duration": 286,
    "start_time": "2023-10-13T11:02:47.258Z"
   },
   {
    "duration": 146,
    "start_time": "2023-10-13T11:04:47.072Z"
   },
   {
    "duration": 171,
    "start_time": "2023-10-13T11:05:30.551Z"
   },
   {
    "duration": 281,
    "start_time": "2023-10-13T14:04:11.916Z"
   },
   {
    "duration": 8,
    "start_time": "2023-10-16T07:27:28.507Z"
   },
   {
    "duration": 193,
    "start_time": "2023-10-16T07:42:07.130Z"
   },
   {
    "duration": 2,
    "start_time": "2023-10-16T07:44:04.191Z"
   },
   {
    "duration": 3,
    "start_time": "2023-10-16T07:47:09.403Z"
   },
   {
    "duration": 100,
    "start_time": "2023-10-16T07:47:09.408Z"
   },
   {
    "duration": 32,
    "start_time": "2023-10-16T07:47:09.510Z"
   },
   {
    "duration": 49,
    "start_time": "2023-10-16T07:47:09.544Z"
   },
   {
    "duration": 98,
    "start_time": "2023-10-16T07:47:09.596Z"
   },
   {
    "duration": 41,
    "start_time": "2023-10-16T07:47:09.695Z"
   },
   {
    "duration": 271,
    "start_time": "2023-10-16T07:47:09.737Z"
   },
   {
    "duration": 162,
    "start_time": "2023-10-16T07:47:10.009Z"
   },
   {
    "duration": 212,
    "start_time": "2023-10-16T07:47:10.173Z"
   },
   {
    "duration": 81,
    "start_time": "2023-10-16T07:47:10.387Z"
   },
   {
    "duration": 0,
    "start_time": "2023-10-16T07:47:10.470Z"
   },
   {
    "duration": 0,
    "start_time": "2023-10-16T07:47:10.471Z"
   },
   {
    "duration": 0,
    "start_time": "2023-10-16T07:47:10.473Z"
   },
   {
    "duration": 0,
    "start_time": "2023-10-16T07:47:10.474Z"
   },
   {
    "duration": 167,
    "start_time": "2023-10-16T07:47:24.833Z"
   },
   {
    "duration": 92,
    "start_time": "2023-10-16T07:47:25.002Z"
   },
   {
    "duration": 0,
    "start_time": "2023-10-16T07:47:25.096Z"
   },
   {
    "duration": 0,
    "start_time": "2023-10-16T07:47:25.097Z"
   },
   {
    "duration": 0,
    "start_time": "2023-10-16T07:47:25.098Z"
   },
   {
    "duration": 155,
    "start_time": "2023-10-16T07:47:34.229Z"
   },
   {
    "duration": 10,
    "start_time": "2023-10-16T07:47:34.386Z"
   },
   {
    "duration": 0,
    "start_time": "2023-10-16T07:47:34.397Z"
   },
   {
    "duration": 10,
    "start_time": "2023-10-16T07:48:16.090Z"
   },
   {
    "duration": 289,
    "start_time": "2023-10-16T07:48:19.321Z"
   },
   {
    "duration": 5,
    "start_time": "2023-10-16T07:48:48.924Z"
   },
   {
    "duration": 10,
    "start_time": "2023-10-16T07:51:51.025Z"
   },
   {
    "duration": 275,
    "start_time": "2023-10-16T07:52:25.032Z"
   },
   {
    "duration": 1400,
    "start_time": "2023-10-16T07:52:39.263Z"
   },
   {
    "duration": 5,
    "start_time": "2023-10-16T07:53:44.511Z"
   },
   {
    "duration": 281,
    "start_time": "2023-10-16T07:53:52.067Z"
   },
   {
    "duration": 7,
    "start_time": "2023-10-16T07:54:17.508Z"
   },
   {
    "duration": 505,
    "start_time": "2023-10-16T07:54:21.299Z"
   },
   {
    "duration": 3,
    "start_time": "2023-10-16T07:55:29.401Z"
   },
   {
    "duration": 71,
    "start_time": "2023-10-16T07:55:29.405Z"
   },
   {
    "duration": 62,
    "start_time": "2023-10-16T07:55:29.478Z"
   },
   {
    "duration": 49,
    "start_time": "2023-10-16T07:55:29.542Z"
   },
   {
    "duration": 27,
    "start_time": "2023-10-16T07:55:29.594Z"
   },
   {
    "duration": 36,
    "start_time": "2023-10-16T07:55:29.623Z"
   },
   {
    "duration": 213,
    "start_time": "2023-10-16T07:55:29.660Z"
   },
   {
    "duration": 177,
    "start_time": "2023-10-16T07:55:29.875Z"
   },
   {
    "duration": 191,
    "start_time": "2023-10-16T07:55:30.054Z"
   },
   {
    "duration": 307,
    "start_time": "2023-10-16T07:55:30.247Z"
   },
   {
    "duration": 191,
    "start_time": "2023-10-16T07:55:30.556Z"
   },
   {
    "duration": 5,
    "start_time": "2023-10-16T07:55:30.750Z"
   },
   {
    "duration": 411,
    "start_time": "2023-10-16T07:55:30.758Z"
   },
   {
    "duration": 4,
    "start_time": "2023-10-16T07:55:31.171Z"
   },
   {
    "duration": 42,
    "start_time": "2023-10-16T07:55:31.177Z"
   },
   {
    "duration": 100,
    "start_time": "2023-10-16T07:55:31.221Z"
   },
   {
    "duration": 198,
    "start_time": "2023-10-16T07:55:38.442Z"
   },
   {
    "duration": 3,
    "start_time": "2023-10-16T07:59:42.068Z"
   },
   {
    "duration": 85,
    "start_time": "2023-10-16T07:59:42.073Z"
   },
   {
    "duration": 52,
    "start_time": "2023-10-16T07:59:42.160Z"
   },
   {
    "duration": 36,
    "start_time": "2023-10-16T07:59:42.213Z"
   },
   {
    "duration": 11,
    "start_time": "2023-10-16T07:59:42.251Z"
   },
   {
    "duration": 49,
    "start_time": "2023-10-16T07:59:42.264Z"
   },
   {
    "duration": 187,
    "start_time": "2023-10-16T07:59:42.315Z"
   },
   {
    "duration": 160,
    "start_time": "2023-10-16T07:59:42.504Z"
   },
   {
    "duration": 165,
    "start_time": "2023-10-16T07:59:42.666Z"
   },
   {
    "duration": 168,
    "start_time": "2023-10-16T07:59:42.833Z"
   },
   {
    "duration": 164,
    "start_time": "2023-10-16T07:59:43.003Z"
   },
   {
    "duration": 5,
    "start_time": "2023-10-16T07:59:43.168Z"
   },
   {
    "duration": 327,
    "start_time": "2023-10-16T07:59:43.175Z"
   },
   {
    "duration": 2,
    "start_time": "2023-10-16T07:59:43.504Z"
   },
   {
    "duration": 524,
    "start_time": "2023-10-16T07:59:43.508Z"
   },
   {
    "duration": 1,
    "start_time": "2023-10-16T07:59:44.033Z"
   },
   {
    "duration": 10,
    "start_time": "2023-10-16T08:00:29.556Z"
   },
   {
    "duration": 157,
    "start_time": "2023-10-16T08:00:31.607Z"
   },
   {
    "duration": 100,
    "start_time": "2023-10-16T08:01:13.168Z"
   },
   {
    "duration": 143,
    "start_time": "2023-10-16T08:01:14.558Z"
   },
   {
    "duration": 22,
    "start_time": "2023-10-16T08:01:35.919Z"
   },
   {
    "duration": 150,
    "start_time": "2023-10-16T08:01:37.513Z"
   },
   {
    "duration": 8,
    "start_time": "2023-10-16T08:02:03.305Z"
   },
   {
    "duration": 7,
    "start_time": "2023-10-16T08:02:27.273Z"
   },
   {
    "duration": 3378,
    "start_time": "2023-10-16T08:02:39.421Z"
   },
   {
    "duration": 498,
    "start_time": "2023-10-16T08:02:45.894Z"
   },
   {
    "duration": 42,
    "start_time": "2023-10-16T08:02:50.817Z"
   },
   {
    "duration": 698,
    "start_time": "2023-10-16T08:02:56.907Z"
   },
   {
    "duration": 13,
    "start_time": "2023-10-16T09:42:00.437Z"
   },
   {
    "duration": 5,
    "start_time": "2023-10-16T09:51:42.645Z"
   },
   {
    "duration": 625,
    "start_time": "2023-10-16T10:07:34.359Z"
   },
   {
    "duration": 14,
    "start_time": "2023-10-16T10:07:34.986Z"
   },
   {
    "duration": 108,
    "start_time": "2023-10-16T10:07:35.001Z"
   },
   {
    "duration": 282,
    "start_time": "2023-10-16T10:07:35.111Z"
   },
   {
    "duration": 162,
    "start_time": "2023-10-16T10:07:35.395Z"
   },
   {
    "duration": 0,
    "start_time": "2023-10-16T10:07:35.558Z"
   },
   {
    "duration": 0,
    "start_time": "2023-10-16T10:07:35.560Z"
   },
   {
    "duration": 0,
    "start_time": "2023-10-16T10:07:35.561Z"
   },
   {
    "duration": 0,
    "start_time": "2023-10-16T10:07:35.562Z"
   },
   {
    "duration": 0,
    "start_time": "2023-10-16T10:07:35.563Z"
   },
   {
    "duration": 0,
    "start_time": "2023-10-16T10:07:35.564Z"
   },
   {
    "duration": 0,
    "start_time": "2023-10-16T10:07:35.565Z"
   },
   {
    "duration": 0,
    "start_time": "2023-10-16T10:07:35.566Z"
   },
   {
    "duration": 325,
    "start_time": "2023-10-16T10:09:37.862Z"
   },
   {
    "duration": 4,
    "start_time": "2023-10-16T10:09:42.620Z"
   },
   {
    "duration": 488,
    "start_time": "2023-10-16T10:11:35.641Z"
   },
   {
    "duration": 3,
    "start_time": "2023-10-16T10:11:44.980Z"
   },
   {
    "duration": 46,
    "start_time": "2023-10-16T10:11:44.986Z"
   },
   {
    "duration": 0,
    "start_time": "2023-10-16T10:11:45.034Z"
   },
   {
    "duration": 0,
    "start_time": "2023-10-16T10:11:45.035Z"
   },
   {
    "duration": 0,
    "start_time": "2023-10-16T10:11:45.037Z"
   },
   {
    "duration": 0,
    "start_time": "2023-10-16T10:11:45.038Z"
   },
   {
    "duration": 0,
    "start_time": "2023-10-16T10:11:45.040Z"
   },
   {
    "duration": 0,
    "start_time": "2023-10-16T10:11:45.041Z"
   },
   {
    "duration": 0,
    "start_time": "2023-10-16T10:11:45.042Z"
   },
   {
    "duration": 0,
    "start_time": "2023-10-16T10:11:45.043Z"
   },
   {
    "duration": 3,
    "start_time": "2023-10-16T10:11:55.656Z"
   },
   {
    "duration": 4,
    "start_time": "2023-10-16T10:12:00.552Z"
   },
   {
    "duration": 6,
    "start_time": "2023-10-16T10:12:03.287Z"
   },
   {
    "duration": 13,
    "start_time": "2023-10-16T10:12:03.296Z"
   },
   {
    "duration": 0,
    "start_time": "2023-10-16T10:12:03.311Z"
   },
   {
    "duration": 0,
    "start_time": "2023-10-16T10:12:03.313Z"
   },
   {
    "duration": 0,
    "start_time": "2023-10-16T10:12:03.315Z"
   },
   {
    "duration": 0,
    "start_time": "2023-10-16T10:12:03.317Z"
   },
   {
    "duration": 0,
    "start_time": "2023-10-16T10:12:03.318Z"
   },
   {
    "duration": 0,
    "start_time": "2023-10-16T10:12:03.320Z"
   },
   {
    "duration": 0,
    "start_time": "2023-10-16T10:12:03.322Z"
   },
   {
    "duration": 5,
    "start_time": "2023-10-16T10:12:12.240Z"
   },
   {
    "duration": 19,
    "start_time": "2023-10-16T10:12:12.247Z"
   },
   {
    "duration": 31,
    "start_time": "2023-10-16T10:12:12.269Z"
   },
   {
    "duration": 0,
    "start_time": "2023-10-16T10:12:12.302Z"
   },
   {
    "duration": 0,
    "start_time": "2023-10-16T10:12:12.303Z"
   },
   {
    "duration": 0,
    "start_time": "2023-10-16T10:12:12.304Z"
   },
   {
    "duration": 0,
    "start_time": "2023-10-16T10:12:12.305Z"
   },
   {
    "duration": 0,
    "start_time": "2023-10-16T10:12:12.306Z"
   },
   {
    "duration": 0,
    "start_time": "2023-10-16T10:12:12.307Z"
   },
   {
    "duration": 3,
    "start_time": "2023-10-16T10:12:19.827Z"
   },
   {
    "duration": 10,
    "start_time": "2023-10-16T10:12:21.657Z"
   },
   {
    "duration": 14,
    "start_time": "2023-10-16T10:12:37.107Z"
   },
   {
    "duration": 3,
    "start_time": "2023-10-16T10:12:47.508Z"
   },
   {
    "duration": 7,
    "start_time": "2023-10-16T10:12:49.928Z"
   },
   {
    "duration": 6,
    "start_time": "2023-10-16T10:12:54.635Z"
   },
   {
    "duration": 38,
    "start_time": "2023-10-16T10:12:54.643Z"
   },
   {
    "duration": 0,
    "start_time": "2023-10-16T10:12:54.682Z"
   },
   {
    "duration": 0,
    "start_time": "2023-10-16T10:12:54.684Z"
   },
   {
    "duration": 0,
    "start_time": "2023-10-16T10:12:54.685Z"
   },
   {
    "duration": 0,
    "start_time": "2023-10-16T10:12:54.686Z"
   },
   {
    "duration": 0,
    "start_time": "2023-10-16T10:12:54.687Z"
   },
   {
    "duration": 5,
    "start_time": "2023-10-16T10:13:06.381Z"
   },
   {
    "duration": 56,
    "start_time": "2023-10-16T10:13:06.388Z"
   },
   {
    "duration": 0,
    "start_time": "2023-10-16T10:13:06.445Z"
   },
   {
    "duration": 0,
    "start_time": "2023-10-16T10:13:06.446Z"
   },
   {
    "duration": 0,
    "start_time": "2023-10-16T10:13:06.447Z"
   },
   {
    "duration": 0,
    "start_time": "2023-10-16T10:13:06.448Z"
   },
   {
    "duration": 0,
    "start_time": "2023-10-16T10:13:06.449Z"
   },
   {
    "duration": 7,
    "start_time": "2023-10-16T10:13:14.441Z"
   },
   {
    "duration": 7,
    "start_time": "2023-10-16T10:13:21.144Z"
   },
   {
    "duration": 84,
    "start_time": "2023-10-16T10:13:21.152Z"
   },
   {
    "duration": 0,
    "start_time": "2023-10-16T10:13:21.238Z"
   },
   {
    "duration": 0,
    "start_time": "2023-10-16T10:13:21.239Z"
   },
   {
    "duration": 0,
    "start_time": "2023-10-16T10:13:21.240Z"
   },
   {
    "duration": 0,
    "start_time": "2023-10-16T10:13:21.241Z"
   },
   {
    "duration": 2451,
    "start_time": "2023-10-16T10:14:44.568Z"
   },
   {
    "duration": 4,
    "start_time": "2023-10-16T10:14:47.021Z"
   },
   {
    "duration": 58,
    "start_time": "2023-10-16T10:14:47.026Z"
   },
   {
    "duration": 71,
    "start_time": "2023-10-16T10:14:47.085Z"
   },
   {
    "duration": 11,
    "start_time": "2023-10-16T10:14:47.158Z"
   },
   {
    "duration": 28,
    "start_time": "2023-10-16T10:14:47.170Z"
   },
   {
    "duration": 11,
    "start_time": "2023-10-16T10:14:47.200Z"
   },
   {
    "duration": 63,
    "start_time": "2023-10-16T10:14:47.213Z"
   },
   {
    "duration": 207,
    "start_time": "2023-10-16T10:14:47.278Z"
   },
   {
    "duration": 269,
    "start_time": "2023-10-16T10:14:47.487Z"
   },
   {
    "duration": 172,
    "start_time": "2023-10-16T10:14:47.758Z"
   },
   {
    "duration": 176,
    "start_time": "2023-10-16T10:14:47.932Z"
   },
   {
    "duration": 165,
    "start_time": "2023-10-16T10:14:48.110Z"
   },
   {
    "duration": 5,
    "start_time": "2023-10-16T10:14:48.279Z"
   },
   {
    "duration": 294,
    "start_time": "2023-10-16T10:14:48.286Z"
   },
   {
    "duration": 2,
    "start_time": "2023-10-16T10:14:48.582Z"
   },
   {
    "duration": 15,
    "start_time": "2023-10-16T10:14:48.586Z"
   },
   {
    "duration": 154,
    "start_time": "2023-10-16T10:14:48.603Z"
   },
   {
    "duration": 723,
    "start_time": "2023-10-16T10:14:48.759Z"
   },
   {
    "duration": 14,
    "start_time": "2023-10-16T10:14:49.484Z"
   },
   {
    "duration": 75,
    "start_time": "2023-10-16T10:14:49.499Z"
   },
   {
    "duration": 31,
    "start_time": "2023-10-16T10:14:49.576Z"
   },
   {
    "duration": 28,
    "start_time": "2023-10-16T10:14:49.608Z"
   },
   {
    "duration": 38,
    "start_time": "2023-10-16T10:14:49.637Z"
   },
   {
    "duration": 117,
    "start_time": "2023-10-16T10:14:49.677Z"
   },
   {
    "duration": 93,
    "start_time": "2023-10-16T10:14:49.796Z"
   },
   {
    "duration": 85,
    "start_time": "2023-10-16T10:14:49.890Z"
   },
   {
    "duration": 213,
    "start_time": "2023-10-16T10:14:49.976Z"
   },
   {
    "duration": 0,
    "start_time": "2023-10-16T10:14:50.191Z"
   },
   {
    "duration": 0,
    "start_time": "2023-10-16T10:14:50.193Z"
   },
   {
    "duration": 0,
    "start_time": "2023-10-16T10:14:50.195Z"
   },
   {
    "duration": 3,
    "start_time": "2023-10-16T10:14:59.008Z"
   },
   {
    "duration": 5,
    "start_time": "2023-10-16T10:15:12.252Z"
   },
   {
    "duration": 4,
    "start_time": "2023-10-16T10:15:14.650Z"
   },
   {
    "duration": 22,
    "start_time": "2023-10-16T10:15:16.133Z"
   },
   {
    "duration": 11,
    "start_time": "2023-10-16T10:15:37.230Z"
   },
   {
    "duration": 16,
    "start_time": "2023-10-16T10:16:59.432Z"
   },
   {
    "duration": 7,
    "start_time": "2023-10-16T10:17:12.442Z"
   },
   {
    "duration": 10,
    "start_time": "2023-10-16T10:17:15.246Z"
   },
   {
    "duration": 10,
    "start_time": "2023-10-16T10:17:29.063Z"
   },
   {
    "duration": 3,
    "start_time": "2023-10-16T10:17:42.409Z"
   },
   {
    "duration": 321,
    "start_time": "2023-10-16T10:17:44.619Z"
   },
   {
    "duration": 11,
    "start_time": "2023-10-16T10:23:31.303Z"
   },
   {
    "duration": 3,
    "start_time": "2023-10-16T10:23:34.453Z"
   },
   {
    "duration": 12,
    "start_time": "2023-10-16T10:23:38.426Z"
   },
   {
    "duration": 382,
    "start_time": "2023-10-16T10:24:56.851Z"
   },
   {
    "duration": 4,
    "start_time": "2023-10-16T10:25:10.750Z"
   },
   {
    "duration": 3249,
    "start_time": "2023-10-16T10:25:12.080Z"
   },
   {
    "duration": 3,
    "start_time": "2023-10-16T10:25:23.736Z"
   },
   {
    "duration": 33584,
    "start_time": "2023-10-16T10:25:25.046Z"
   },
   {
    "duration": 4,
    "start_time": "2023-10-16T10:26:23.233Z"
   },
   {
    "duration": 3,
    "start_time": "2023-10-16T10:26:25.073Z"
   },
   {
    "duration": 27442,
    "start_time": "2023-10-16T10:26:26.999Z"
   },
   {
    "duration": 4,
    "start_time": "2023-10-16T10:27:14.260Z"
   },
   {
    "duration": 3,
    "start_time": "2023-10-16T10:27:15.390Z"
   },
   {
    "duration": 27754,
    "start_time": "2023-10-16T10:27:17.080Z"
   },
   {
    "duration": 11,
    "start_time": "2023-10-16T13:33:31.267Z"
   },
   {
    "duration": 0,
    "start_time": "2023-10-16T13:33:31.280Z"
   },
   {
    "duration": 91285,
    "start_time": "2023-10-16T13:33:43.253Z"
   },
   {
    "duration": 2331,
    "start_time": "2023-10-16T13:35:42.337Z"
   },
   {
    "duration": 4,
    "start_time": "2023-10-16T13:35:44.670Z"
   },
   {
    "duration": 21,
    "start_time": "2023-10-16T13:35:44.676Z"
   },
   {
    "duration": 51,
    "start_time": "2023-10-16T13:35:44.699Z"
   },
   {
    "duration": 186,
    "start_time": "2023-10-16T13:35:44.752Z"
   },
   {
    "duration": 60,
    "start_time": "2023-10-16T13:35:44.941Z"
   },
   {
    "duration": 174,
    "start_time": "2023-10-16T13:35:45.002Z"
   },
   {
    "duration": 30,
    "start_time": "2023-10-16T13:35:45.177Z"
   },
   {
    "duration": 214,
    "start_time": "2023-10-16T13:35:45.209Z"
   },
   {
    "duration": 184,
    "start_time": "2023-10-16T13:35:45.426Z"
   },
   {
    "duration": 212,
    "start_time": "2023-10-16T13:35:45.612Z"
   },
   {
    "duration": 253,
    "start_time": "2023-10-16T13:35:45.828Z"
   },
   {
    "duration": 268,
    "start_time": "2023-10-16T13:35:46.084Z"
   },
   {
    "duration": 5,
    "start_time": "2023-10-16T13:35:46.354Z"
   },
   {
    "duration": 350,
    "start_time": "2023-10-16T13:35:46.360Z"
   },
   {
    "duration": 4,
    "start_time": "2023-10-16T13:35:46.711Z"
   },
   {
    "duration": 151,
    "start_time": "2023-10-16T13:35:46.716Z"
   },
   {
    "duration": 195,
    "start_time": "2023-10-16T13:35:46.868Z"
   },
   {
    "duration": 750,
    "start_time": "2023-10-16T13:35:47.064Z"
   },
   {
    "duration": 21,
    "start_time": "2023-10-16T13:35:47.816Z"
   },
   {
    "duration": 7,
    "start_time": "2023-10-16T13:35:47.838Z"
   },
   {
    "duration": 9,
    "start_time": "2023-10-16T13:35:47.847Z"
   },
   {
    "duration": 10,
    "start_time": "2023-10-16T13:35:47.858Z"
   },
   {
    "duration": 14,
    "start_time": "2023-10-16T13:35:47.870Z"
   },
   {
    "duration": 22,
    "start_time": "2023-10-16T13:35:47.886Z"
   },
   {
    "duration": 30,
    "start_time": "2023-10-16T13:35:47.910Z"
   },
   {
    "duration": 11,
    "start_time": "2023-10-16T13:35:47.943Z"
   },
   {
    "duration": 11,
    "start_time": "2023-10-16T13:35:47.957Z"
   },
   {
    "duration": 17,
    "start_time": "2023-10-16T13:35:47.969Z"
   },
   {
    "duration": 14,
    "start_time": "2023-10-16T13:35:47.988Z"
   },
   {
    "duration": 16,
    "start_time": "2023-10-16T13:35:48.003Z"
   },
   {
    "duration": 17,
    "start_time": "2023-10-16T13:35:48.020Z"
   },
   {
    "duration": 7,
    "start_time": "2023-10-16T13:35:48.040Z"
   },
   {
    "duration": 58320,
    "start_time": "2023-10-16T13:36:22.523Z"
   },
   {
    "duration": 115902,
    "start_time": "2023-10-16T13:37:54.439Z"
   },
   {
    "duration": 5,
    "start_time": "2023-10-16T13:40:46.733Z"
   },
   {
    "duration": 36532,
    "start_time": "2023-10-16T13:40:52.710Z"
   },
   {
    "duration": 20553,
    "start_time": "2023-10-16T13:41:39.796Z"
   },
   {
    "duration": 2476,
    "start_time": "2023-10-16T13:42:41.112Z"
   },
   {
    "duration": 4,
    "start_time": "2023-10-16T13:42:43.591Z"
   },
   {
    "duration": 29,
    "start_time": "2023-10-16T13:42:43.597Z"
   },
   {
    "duration": 87,
    "start_time": "2023-10-16T13:42:43.630Z"
   },
   {
    "duration": 17,
    "start_time": "2023-10-16T13:42:43.719Z"
   },
   {
    "duration": 61,
    "start_time": "2023-10-16T13:42:43.739Z"
   },
   {
    "duration": 12,
    "start_time": "2023-10-16T13:42:43.802Z"
   },
   {
    "duration": 34,
    "start_time": "2023-10-16T13:42:43.815Z"
   },
   {
    "duration": 198,
    "start_time": "2023-10-16T13:42:43.850Z"
   },
   {
    "duration": 337,
    "start_time": "2023-10-16T13:42:44.051Z"
   },
   {
    "duration": 176,
    "start_time": "2023-10-16T13:42:44.390Z"
   },
   {
    "duration": 164,
    "start_time": "2023-10-16T13:42:44.568Z"
   },
   {
    "duration": 185,
    "start_time": "2023-10-16T13:42:44.734Z"
   },
   {
    "duration": 9,
    "start_time": "2023-10-16T13:42:44.923Z"
   },
   {
    "duration": 372,
    "start_time": "2023-10-16T13:42:44.935Z"
   },
   {
    "duration": 3,
    "start_time": "2023-10-16T13:42:45.309Z"
   },
   {
    "duration": 30,
    "start_time": "2023-10-16T13:42:45.314Z"
   },
   {
    "duration": 177,
    "start_time": "2023-10-16T13:42:45.346Z"
   },
   {
    "duration": 811,
    "start_time": "2023-10-16T13:42:45.526Z"
   },
   {
    "duration": 19,
    "start_time": "2023-10-16T13:42:46.339Z"
   },
   {
    "duration": 24,
    "start_time": "2023-10-16T13:42:46.360Z"
   },
   {
    "duration": 39,
    "start_time": "2023-10-16T13:42:46.386Z"
   },
   {
    "duration": 107,
    "start_time": "2023-10-16T13:42:46.427Z"
   },
   {
    "duration": 101,
    "start_time": "2023-10-16T13:42:46.537Z"
   },
   {
    "duration": 16,
    "start_time": "2023-10-16T13:42:46.640Z"
   },
   {
    "duration": 59,
    "start_time": "2023-10-16T13:42:46.657Z"
   },
   {
    "duration": 35,
    "start_time": "2023-10-16T13:42:46.718Z"
   },
   {
    "duration": 23,
    "start_time": "2023-10-16T13:42:46.756Z"
   },
   {
    "duration": 32,
    "start_time": "2023-10-16T13:42:46.781Z"
   },
   {
    "duration": 31,
    "start_time": "2023-10-16T13:42:46.814Z"
   },
   {
    "duration": 31,
    "start_time": "2023-10-16T13:42:46.849Z"
   },
   {
    "duration": 54,
    "start_time": "2023-10-16T13:42:46.881Z"
   },
   {
    "duration": 29,
    "start_time": "2023-10-16T13:42:46.937Z"
   },
   {
    "duration": 29264,
    "start_time": "2023-10-16T13:42:46.967Z"
   },
   {
    "duration": 5,
    "start_time": "2023-10-16T13:43:46.711Z"
   },
   {
    "duration": 3,
    "start_time": "2023-10-16T13:43:57.173Z"
   },
   {
    "duration": 21610,
    "start_time": "2023-10-16T13:44:10.134Z"
   },
   {
    "duration": 42492,
    "start_time": "2023-10-16T13:44:59.153Z"
   },
   {
    "duration": 80,
    "start_time": "2023-10-16T13:46:30.937Z"
   },
   {
    "duration": 40624,
    "start_time": "2023-10-16T13:46:31.020Z"
   },
   {
    "duration": 2570,
    "start_time": "2023-10-16T13:54:26.702Z"
   },
   {
    "duration": 2187,
    "start_time": "2023-10-16T13:54:29.275Z"
   },
   {
    "duration": 2,
    "start_time": "2023-10-16T13:54:31.465Z"
   },
   {
    "duration": 390,
    "start_time": "2023-10-16T13:54:31.470Z"
   },
   {
    "duration": 402,
    "start_time": "2023-10-16T13:54:31.862Z"
   },
   {
    "duration": 456,
    "start_time": "2023-10-16T13:54:32.265Z"
   },
   {
    "duration": 437,
    "start_time": "2023-10-16T13:54:32.723Z"
   },
   {
    "duration": 196,
    "start_time": "2023-10-16T13:54:33.162Z"
   },
   {
    "duration": 581,
    "start_time": "2023-10-16T13:54:33.360Z"
   },
   {
    "duration": 278,
    "start_time": "2023-10-16T13:54:33.944Z"
   },
   {
    "duration": 428,
    "start_time": "2023-10-16T13:54:34.224Z"
   },
   {
    "duration": 216,
    "start_time": "2023-10-16T13:54:34.654Z"
   },
   {
    "duration": 176,
    "start_time": "2023-10-16T13:54:34.872Z"
   },
   {
    "duration": 61,
    "start_time": "2023-10-16T13:54:35.050Z"
   },
   {
    "duration": 594,
    "start_time": "2023-10-16T13:54:35.114Z"
   },
   {
    "duration": 4,
    "start_time": "2023-10-16T13:54:35.709Z"
   },
   {
    "duration": 49,
    "start_time": "2023-10-16T13:54:35.729Z"
   },
   {
    "duration": 410,
    "start_time": "2023-10-16T13:54:35.781Z"
   },
   {
    "duration": 756,
    "start_time": "2023-10-16T13:54:36.192Z"
   },
   {
    "duration": 15,
    "start_time": "2023-10-16T13:54:36.950Z"
   },
   {
    "duration": 209,
    "start_time": "2023-10-16T13:54:36.967Z"
   },
   {
    "duration": 157,
    "start_time": "2023-10-16T13:54:37.178Z"
   },
   {
    "duration": 95,
    "start_time": "2023-10-16T13:54:37.337Z"
   },
   {
    "duration": 294,
    "start_time": "2023-10-16T13:54:37.435Z"
   },
   {
    "duration": 179,
    "start_time": "2023-10-16T13:54:37.732Z"
   },
   {
    "duration": 47,
    "start_time": "2023-10-16T13:54:37.913Z"
   },
   {
    "duration": 67,
    "start_time": "2023-10-16T13:54:37.962Z"
   },
   {
    "duration": 26,
    "start_time": "2023-10-16T13:54:38.033Z"
   },
   {
    "duration": 14,
    "start_time": "2023-10-16T13:54:38.061Z"
   },
   {
    "duration": 16,
    "start_time": "2023-10-16T13:54:38.076Z"
   },
   {
    "duration": 20,
    "start_time": "2023-10-16T13:54:38.095Z"
   },
   {
    "duration": 167,
    "start_time": "2023-10-16T13:54:38.117Z"
   },
   {
    "duration": 0,
    "start_time": "2023-10-16T13:54:38.285Z"
   },
   {
    "duration": 0,
    "start_time": "2023-10-16T13:54:38.287Z"
   },
   {
    "duration": 0,
    "start_time": "2023-10-16T13:54:38.288Z"
   },
   {
    "duration": 2518,
    "start_time": "2023-10-16T13:55:02.573Z"
   },
   {
    "duration": 4,
    "start_time": "2023-10-16T13:55:05.093Z"
   },
   {
    "duration": 93,
    "start_time": "2023-10-16T13:55:05.099Z"
   },
   {
    "duration": 55,
    "start_time": "2023-10-16T13:55:05.194Z"
   },
   {
    "duration": 12,
    "start_time": "2023-10-16T13:55:05.251Z"
   },
   {
    "duration": 44,
    "start_time": "2023-10-16T13:55:05.264Z"
   },
   {
    "duration": 32,
    "start_time": "2023-10-16T13:55:05.309Z"
   },
   {
    "duration": 25,
    "start_time": "2023-10-16T13:55:05.344Z"
   },
   {
    "duration": 249,
    "start_time": "2023-10-16T13:55:05.371Z"
   },
   {
    "duration": 212,
    "start_time": "2023-10-16T13:55:05.623Z"
   },
   {
    "duration": 238,
    "start_time": "2023-10-16T13:55:05.838Z"
   },
   {
    "duration": 352,
    "start_time": "2023-10-16T13:55:06.079Z"
   },
   {
    "duration": 182,
    "start_time": "2023-10-16T13:55:06.433Z"
   },
   {
    "duration": 10,
    "start_time": "2023-10-16T13:55:06.616Z"
   },
   {
    "duration": 339,
    "start_time": "2023-10-16T13:55:06.628Z"
   },
   {
    "duration": 3,
    "start_time": "2023-10-16T13:55:06.969Z"
   },
   {
    "duration": 182,
    "start_time": "2023-10-16T13:55:06.973Z"
   },
   {
    "duration": 223,
    "start_time": "2023-10-16T13:55:07.157Z"
   },
   {
    "duration": 717,
    "start_time": "2023-10-16T13:55:07.382Z"
   },
   {
    "duration": 35,
    "start_time": "2023-10-16T13:55:08.101Z"
   },
   {
    "duration": 173,
    "start_time": "2023-10-16T13:55:08.138Z"
   },
   {
    "duration": 303,
    "start_time": "2023-10-16T13:55:08.313Z"
   },
   {
    "duration": 178,
    "start_time": "2023-10-16T13:55:08.619Z"
   },
   {
    "duration": 11,
    "start_time": "2023-10-16T13:55:08.798Z"
   },
   {
    "duration": 63,
    "start_time": "2023-10-16T13:55:08.811Z"
   },
   {
    "duration": 16,
    "start_time": "2023-10-16T13:55:08.876Z"
   },
   {
    "duration": 107,
    "start_time": "2023-10-16T13:55:08.894Z"
   },
   {
    "duration": 51,
    "start_time": "2023-10-16T13:55:09.004Z"
   },
   {
    "duration": 27,
    "start_time": "2023-10-16T13:55:09.056Z"
   },
   {
    "duration": 23,
    "start_time": "2023-10-16T13:55:09.085Z"
   },
   {
    "duration": 29,
    "start_time": "2023-10-16T13:55:09.110Z"
   },
   {
    "duration": 44,
    "start_time": "2023-10-16T13:55:09.141Z"
   },
   {
    "duration": 0,
    "start_time": "2023-10-16T13:55:09.186Z"
   },
   {
    "duration": 0,
    "start_time": "2023-10-16T13:55:09.187Z"
   },
   {
    "duration": 0,
    "start_time": "2023-10-16T13:55:09.188Z"
   },
   {
    "duration": 3,
    "start_time": "2023-10-16T13:55:19.761Z"
   },
   {
    "duration": 85,
    "start_time": "2023-10-16T13:55:19.767Z"
   },
   {
    "duration": 160,
    "start_time": "2023-10-16T13:55:19.854Z"
   },
   {
    "duration": 114,
    "start_time": "2023-10-16T13:55:20.016Z"
   },
   {
    "duration": 1309609,
    "start_time": "2023-10-16T13:55:20.133Z"
   },
   {
    "duration": 33555,
    "start_time": "2023-10-16T14:18:55.975Z"
   },
   {
    "duration": 32995,
    "start_time": "2023-10-16T14:19:29.533Z"
   },
   {
    "duration": 196432,
    "start_time": "2023-10-16T14:21:41.617Z"
   },
   {
    "duration": 0,
    "start_time": "2023-10-16T14:24:58.054Z"
   },
   {
    "duration": 2350,
    "start_time": "2023-10-16T14:25:15.233Z"
   },
   {
    "duration": 1819,
    "start_time": "2023-10-16T14:25:17.585Z"
   },
   {
    "duration": 3,
    "start_time": "2023-10-16T14:25:19.405Z"
   },
   {
    "duration": 78,
    "start_time": "2023-10-16T14:25:19.409Z"
   },
   {
    "duration": 14,
    "start_time": "2023-10-16T14:25:19.489Z"
   },
   {
    "duration": 26,
    "start_time": "2023-10-16T14:25:19.504Z"
   },
   {
    "duration": 14,
    "start_time": "2023-10-16T14:25:19.532Z"
   },
   {
    "duration": 18,
    "start_time": "2023-10-16T14:25:19.548Z"
   },
   {
    "duration": 211,
    "start_time": "2023-10-16T14:25:19.568Z"
   },
   {
    "duration": 191,
    "start_time": "2023-10-16T14:25:19.781Z"
   },
   {
    "duration": 193,
    "start_time": "2023-10-16T14:25:19.974Z"
   },
   {
    "duration": 191,
    "start_time": "2023-10-16T14:25:20.168Z"
   },
   {
    "duration": 193,
    "start_time": "2023-10-16T14:25:20.361Z"
   },
   {
    "duration": 5,
    "start_time": "2023-10-16T14:25:20.557Z"
   },
   {
    "duration": 342,
    "start_time": "2023-10-16T14:25:20.564Z"
   },
   {
    "duration": 3,
    "start_time": "2023-10-16T14:25:20.908Z"
   },
   {
    "duration": 32,
    "start_time": "2023-10-16T14:25:20.912Z"
   },
   {
    "duration": 168,
    "start_time": "2023-10-16T14:25:20.947Z"
   },
   {
    "duration": 686,
    "start_time": "2023-10-16T14:25:21.117Z"
   },
   {
    "duration": 22,
    "start_time": "2023-10-16T14:25:21.804Z"
   },
   {
    "duration": 25,
    "start_time": "2023-10-16T14:25:21.828Z"
   },
   {
    "duration": 10,
    "start_time": "2023-10-16T14:25:21.854Z"
   },
   {
    "duration": 25,
    "start_time": "2023-10-16T14:25:21.865Z"
   },
   {
    "duration": 10,
    "start_time": "2023-10-16T14:25:21.892Z"
   },
   {
    "duration": 11,
    "start_time": "2023-10-16T14:25:21.904Z"
   },
   {
    "duration": 28,
    "start_time": "2023-10-16T14:25:21.916Z"
   },
   {
    "duration": 15,
    "start_time": "2023-10-16T14:25:21.946Z"
   },
   {
    "duration": 14,
    "start_time": "2023-10-16T14:25:21.963Z"
   },
   {
    "duration": 33,
    "start_time": "2023-10-16T14:25:21.978Z"
   },
   {
    "duration": 26,
    "start_time": "2023-10-16T14:25:22.012Z"
   },
   {
    "duration": 19,
    "start_time": "2023-10-16T14:25:22.040Z"
   },
   {
    "duration": 12,
    "start_time": "2023-10-16T14:25:22.061Z"
   },
   {
    "duration": 19,
    "start_time": "2023-10-16T14:25:22.075Z"
   },
   {
    "duration": 32,
    "start_time": "2023-10-16T14:25:22.095Z"
   },
   {
    "duration": 2434796,
    "start_time": "2023-10-16T14:25:22.129Z"
   },
   {
    "duration": 161,
    "start_time": "2023-10-16T15:05:56.927Z"
   },
   {
    "duration": 0,
    "start_time": "2023-10-16T15:05:57.089Z"
   },
   {
    "duration": 0,
    "start_time": "2023-10-16T15:05:57.091Z"
   },
   {
    "duration": 10,
    "start_time": "2023-10-16T15:13:27.866Z"
   },
   {
    "duration": 15,
    "start_time": "2023-10-16T15:14:11.071Z"
   },
   {
    "duration": 10,
    "start_time": "2023-10-16T15:14:24.609Z"
   },
   {
    "duration": 7,
    "start_time": "2023-10-16T15:14:31.233Z"
   },
   {
    "duration": 6,
    "start_time": "2023-10-16T15:14:37.209Z"
   },
   {
    "duration": 49,
    "start_time": "2024-01-16T11:38:28.154Z"
   },
   {
    "duration": 3603,
    "start_time": "2024-01-16T11:38:41.027Z"
   },
   {
    "duration": 2208,
    "start_time": "2024-01-16T11:38:44.632Z"
   },
   {
    "duration": 3,
    "start_time": "2024-01-16T11:38:46.842Z"
   },
   {
    "duration": 77,
    "start_time": "2024-01-16T11:38:46.847Z"
   },
   {
    "duration": 16,
    "start_time": "2024-01-16T11:38:46.927Z"
   },
   {
    "duration": 27,
    "start_time": "2024-01-16T11:38:46.944Z"
   },
   {
    "duration": 12,
    "start_time": "2024-01-16T11:38:46.973Z"
   },
   {
    "duration": 7,
    "start_time": "2024-01-16T11:38:46.987Z"
   },
   {
    "duration": 248,
    "start_time": "2024-01-16T11:38:46.996Z"
   },
   {
    "duration": 166,
    "start_time": "2024-01-16T11:38:47.246Z"
   },
   {
    "duration": 187,
    "start_time": "2024-01-16T11:38:47.413Z"
   },
   {
    "duration": 179,
    "start_time": "2024-01-16T11:38:47.601Z"
   },
   {
    "duration": 193,
    "start_time": "2024-01-16T11:38:47.781Z"
   },
   {
    "duration": 6,
    "start_time": "2024-01-16T11:38:47.977Z"
   },
   {
    "duration": 314,
    "start_time": "2024-01-16T11:38:47.985Z"
   },
   {
    "duration": 4,
    "start_time": "2024-01-16T11:38:48.300Z"
   },
   {
    "duration": 16,
    "start_time": "2024-01-16T11:38:48.305Z"
   },
   {
    "duration": 170,
    "start_time": "2024-01-16T11:38:48.322Z"
   },
   {
    "duration": 745,
    "start_time": "2024-01-16T11:38:48.494Z"
   },
   {
    "duration": 24,
    "start_time": "2024-01-16T11:38:49.241Z"
   },
   {
    "duration": 5,
    "start_time": "2024-01-16T11:38:49.267Z"
   },
   {
    "duration": 12,
    "start_time": "2024-01-16T11:38:49.275Z"
   },
   {
    "duration": 7,
    "start_time": "2024-01-16T11:38:49.289Z"
   },
   {
    "duration": 5,
    "start_time": "2024-01-16T11:38:49.298Z"
   },
   {
    "duration": 8,
    "start_time": "2024-01-16T11:38:49.305Z"
   },
   {
    "duration": 8,
    "start_time": "2024-01-16T11:38:49.314Z"
   },
   {
    "duration": 35,
    "start_time": "2024-01-16T11:38:49.323Z"
   },
   {
    "duration": 8,
    "start_time": "2024-01-16T11:38:49.360Z"
   },
   {
    "duration": 9,
    "start_time": "2024-01-16T11:38:49.370Z"
   },
   {
    "duration": 8,
    "start_time": "2024-01-16T11:38:49.380Z"
   },
   {
    "duration": 7,
    "start_time": "2024-01-16T11:38:49.390Z"
   },
   {
    "duration": 16,
    "start_time": "2024-01-16T11:38:49.399Z"
   },
   {
    "duration": 6,
    "start_time": "2024-01-16T11:38:49.417Z"
   },
   {
    "duration": 2290235,
    "start_time": "2024-01-16T11:38:49.425Z"
   },
   {
    "duration": 8,
    "start_time": "2024-01-16T12:16:59.661Z"
   },
   {
    "duration": 32,
    "start_time": "2024-01-16T12:16:59.670Z"
   },
   {
    "duration": 2548,
    "start_time": "2024-01-16T13:08:37.692Z"
   },
   {
    "duration": 2043,
    "start_time": "2024-01-16T13:08:40.242Z"
   },
   {
    "duration": 3,
    "start_time": "2024-01-16T13:08:42.287Z"
   },
   {
    "duration": 45,
    "start_time": "2024-01-16T13:08:42.291Z"
   },
   {
    "duration": 20,
    "start_time": "2024-01-16T13:08:42.338Z"
   },
   {
    "duration": 28,
    "start_time": "2024-01-16T13:08:42.360Z"
   },
   {
    "duration": 11,
    "start_time": "2024-01-16T13:08:42.389Z"
   },
   {
    "duration": 5,
    "start_time": "2024-01-16T13:08:42.402Z"
   },
   {
    "duration": 255,
    "start_time": "2024-01-16T13:08:42.409Z"
   },
   {
    "duration": 164,
    "start_time": "2024-01-16T13:08:42.665Z"
   },
   {
    "duration": 183,
    "start_time": "2024-01-16T13:08:42.831Z"
   },
   {
    "duration": 189,
    "start_time": "2024-01-16T13:08:43.016Z"
   },
   {
    "duration": 176,
    "start_time": "2024-01-16T13:08:43.206Z"
   },
   {
    "duration": 6,
    "start_time": "2024-01-16T13:08:43.385Z"
   },
   {
    "duration": 271,
    "start_time": "2024-01-16T13:08:43.392Z"
   },
   {
    "duration": 0,
    "start_time": "2024-01-16T13:08:43.665Z"
   },
   {
    "duration": 0,
    "start_time": "2024-01-16T13:08:43.666Z"
   },
   {
    "duration": 0,
    "start_time": "2024-01-16T13:08:43.667Z"
   },
   {
    "duration": 0,
    "start_time": "2024-01-16T13:08:43.669Z"
   },
   {
    "duration": 0,
    "start_time": "2024-01-16T13:08:43.669Z"
   },
   {
    "duration": 0,
    "start_time": "2024-01-16T13:08:43.670Z"
   },
   {
    "duration": 0,
    "start_time": "2024-01-16T13:08:43.671Z"
   },
   {
    "duration": 0,
    "start_time": "2024-01-16T13:08:43.672Z"
   },
   {
    "duration": 0,
    "start_time": "2024-01-16T13:08:43.673Z"
   },
   {
    "duration": 0,
    "start_time": "2024-01-16T13:08:43.674Z"
   },
   {
    "duration": 0,
    "start_time": "2024-01-16T13:08:43.675Z"
   },
   {
    "duration": 0,
    "start_time": "2024-01-16T13:08:43.676Z"
   },
   {
    "duration": 0,
    "start_time": "2024-01-16T13:08:43.678Z"
   },
   {
    "duration": 0,
    "start_time": "2024-01-16T13:08:43.679Z"
   },
   {
    "duration": 0,
    "start_time": "2024-01-16T13:08:43.680Z"
   },
   {
    "duration": 0,
    "start_time": "2024-01-16T13:08:43.681Z"
   },
   {
    "duration": 0,
    "start_time": "2024-01-16T13:08:43.683Z"
   },
   {
    "duration": 0,
    "start_time": "2024-01-16T13:08:43.684Z"
   },
   {
    "duration": 0,
    "start_time": "2024-01-16T13:08:43.685Z"
   },
   {
    "duration": 0,
    "start_time": "2024-01-16T13:08:43.686Z"
   },
   {
    "duration": 0,
    "start_time": "2024-01-16T13:08:43.687Z"
   },
   {
    "duration": 2749,
    "start_time": "2024-01-16T13:08:54.405Z"
   },
   {
    "duration": 2064,
    "start_time": "2024-01-16T13:08:57.157Z"
   },
   {
    "duration": 3,
    "start_time": "2024-01-16T13:08:59.222Z"
   },
   {
    "duration": 56,
    "start_time": "2024-01-16T13:08:59.227Z"
   },
   {
    "duration": 16,
    "start_time": "2024-01-16T13:08:59.284Z"
   },
   {
    "duration": 33,
    "start_time": "2024-01-16T13:08:59.301Z"
   },
   {
    "duration": 23,
    "start_time": "2024-01-16T13:08:59.336Z"
   },
   {
    "duration": 31,
    "start_time": "2024-01-16T13:08:59.361Z"
   },
   {
    "duration": 210,
    "start_time": "2024-01-16T13:08:59.394Z"
   },
   {
    "duration": 166,
    "start_time": "2024-01-16T13:08:59.607Z"
   },
   {
    "duration": 184,
    "start_time": "2024-01-16T13:08:59.775Z"
   },
   {
    "duration": 174,
    "start_time": "2024-01-16T13:08:59.960Z"
   },
   {
    "duration": 174,
    "start_time": "2024-01-16T13:09:00.136Z"
   },
   {
    "duration": 5,
    "start_time": "2024-01-16T13:09:00.312Z"
   },
   {
    "duration": 362,
    "start_time": "2024-01-16T13:09:00.320Z"
   },
   {
    "duration": 4,
    "start_time": "2024-01-16T13:09:00.684Z"
   },
   {
    "duration": 46,
    "start_time": "2024-01-16T13:09:00.689Z"
   },
   {
    "duration": 159,
    "start_time": "2024-01-16T13:09:00.736Z"
   },
   {
    "duration": 664,
    "start_time": "2024-01-16T13:09:00.897Z"
   },
   {
    "duration": 15,
    "start_time": "2024-01-16T13:09:01.563Z"
   },
   {
    "duration": 104,
    "start_time": "2024-01-16T13:09:01.580Z"
   },
   {
    "duration": 181,
    "start_time": "2024-01-16T13:09:01.685Z"
   },
   {
    "duration": 46,
    "start_time": "2024-01-16T13:09:01.867Z"
   },
   {
    "duration": 31,
    "start_time": "2024-01-16T13:09:01.914Z"
   },
   {
    "duration": 31,
    "start_time": "2024-01-16T13:09:01.947Z"
   },
   {
    "duration": 67,
    "start_time": "2024-01-16T13:09:01.980Z"
   },
   {
    "duration": 25,
    "start_time": "2024-01-16T13:09:02.049Z"
   },
   {
    "duration": 20,
    "start_time": "2024-01-16T13:09:02.078Z"
   },
   {
    "duration": 32,
    "start_time": "2024-01-16T13:09:02.100Z"
   },
   {
    "duration": 19,
    "start_time": "2024-01-16T13:09:02.134Z"
   },
   {
    "duration": 66,
    "start_time": "2024-01-16T13:09:02.155Z"
   },
   {
    "duration": 88,
    "start_time": "2024-01-16T13:09:02.223Z"
   },
   {
    "duration": 16,
    "start_time": "2024-01-16T13:09:02.313Z"
   },
   {
    "duration": 156,
    "start_time": "2024-01-16T13:09:02.330Z"
   },
   {
    "duration": 0,
    "start_time": "2024-01-16T13:09:02.488Z"
   },
   {
    "duration": 0,
    "start_time": "2024-01-16T13:09:02.489Z"
   },
   {
    "duration": 8,
    "start_time": "2024-01-16T13:09:55.289Z"
   },
   {
    "duration": 3351504,
    "start_time": "2024-01-16T13:10:01.863Z"
   },
   {
    "duration": 7,
    "start_time": "2024-01-16T14:05:53.369Z"
   },
   {
    "duration": 2611,
    "start_time": "2024-01-16T14:10:22.143Z"
   },
   {
    "duration": 2005,
    "start_time": "2024-01-16T14:10:24.756Z"
   },
   {
    "duration": 3,
    "start_time": "2024-01-16T14:10:26.763Z"
   },
   {
    "duration": 33,
    "start_time": "2024-01-16T14:10:26.768Z"
   },
   {
    "duration": 16,
    "start_time": "2024-01-16T14:10:26.803Z"
   },
   {
    "duration": 43,
    "start_time": "2024-01-16T14:10:26.821Z"
   },
   {
    "duration": 14,
    "start_time": "2024-01-16T14:10:26.866Z"
   },
   {
    "duration": 14,
    "start_time": "2024-01-16T14:10:26.881Z"
   },
   {
    "duration": 242,
    "start_time": "2024-01-16T14:10:26.898Z"
   },
   {
    "duration": 205,
    "start_time": "2024-01-16T14:10:27.142Z"
   },
   {
    "duration": 186,
    "start_time": "2024-01-16T14:10:27.348Z"
   },
   {
    "duration": 201,
    "start_time": "2024-01-16T14:10:27.535Z"
   },
   {
    "duration": 187,
    "start_time": "2024-01-16T14:10:27.738Z"
   },
   {
    "duration": 6,
    "start_time": "2024-01-16T14:10:27.928Z"
   },
   {
    "duration": 327,
    "start_time": "2024-01-16T14:10:27.935Z"
   },
   {
    "duration": 3,
    "start_time": "2024-01-16T14:10:28.264Z"
   },
   {
    "duration": 112,
    "start_time": "2024-01-16T14:10:28.269Z"
   },
   {
    "duration": 340,
    "start_time": "2024-01-16T14:10:28.383Z"
   },
   {
    "duration": 709,
    "start_time": "2024-01-16T14:10:28.725Z"
   },
   {
    "duration": 24,
    "start_time": "2024-01-16T14:10:29.436Z"
   },
   {
    "duration": 6,
    "start_time": "2024-01-16T14:10:29.462Z"
   },
   {
    "duration": 12,
    "start_time": "2024-01-16T14:10:29.469Z"
   },
   {
    "duration": 7,
    "start_time": "2024-01-16T14:10:29.483Z"
   },
   {
    "duration": 4,
    "start_time": "2024-01-16T14:10:29.491Z"
   },
   {
    "duration": 13,
    "start_time": "2024-01-16T14:10:29.497Z"
   },
   {
    "duration": 7,
    "start_time": "2024-01-16T14:10:29.512Z"
   },
   {
    "duration": 7,
    "start_time": "2024-01-16T14:10:29.521Z"
   },
   {
    "duration": 31,
    "start_time": "2024-01-16T14:10:29.529Z"
   },
   {
    "duration": 8,
    "start_time": "2024-01-16T14:10:29.561Z"
   },
   {
    "duration": 7,
    "start_time": "2024-01-16T14:10:29.571Z"
   },
   {
    "duration": 6,
    "start_time": "2024-01-16T14:10:29.580Z"
   },
   {
    "duration": 6,
    "start_time": "2024-01-16T14:10:29.588Z"
   },
   {
    "duration": 12,
    "start_time": "2024-01-16T14:10:29.595Z"
   },
   {
    "duration": 3295052,
    "start_time": "2024-01-16T14:10:29.609Z"
   },
   {
    "duration": 7,
    "start_time": "2024-01-16T15:05:24.663Z"
   },
   {
    "duration": 5,
    "start_time": "2024-01-16T15:05:24.672Z"
   },
   {
    "duration": 267,
    "start_time": "2024-01-16T15:05:24.678Z"
   },
   {
    "duration": 18,
    "start_time": "2024-01-16T15:05:24.947Z"
   },
   {
    "duration": 322,
    "start_time": "2024-01-16T15:09:23.742Z"
   },
   {
    "duration": 233,
    "start_time": "2024-01-16T15:09:30.517Z"
   },
   {
    "duration": 2639,
    "start_time": "2024-01-18T08:35:14.904Z"
   },
   {
    "duration": 2037,
    "start_time": "2024-01-18T08:35:17.546Z"
   },
   {
    "duration": 3,
    "start_time": "2024-01-18T08:35:19.587Z"
   },
   {
    "duration": 70,
    "start_time": "2024-01-18T08:35:19.592Z"
   },
   {
    "duration": 15,
    "start_time": "2024-01-18T08:35:19.664Z"
   },
   {
    "duration": 27,
    "start_time": "2024-01-18T08:35:19.681Z"
   },
   {
    "duration": 11,
    "start_time": "2024-01-18T08:35:19.710Z"
   },
   {
    "duration": 5,
    "start_time": "2024-01-18T08:35:19.723Z"
   },
   {
    "duration": 254,
    "start_time": "2024-01-18T08:35:19.730Z"
   },
   {
    "duration": 167,
    "start_time": "2024-01-18T08:35:19.986Z"
   },
   {
    "duration": 192,
    "start_time": "2024-01-18T08:35:20.159Z"
   },
   {
    "duration": 185,
    "start_time": "2024-01-18T08:35:20.353Z"
   },
   {
    "duration": 185,
    "start_time": "2024-01-18T08:35:20.541Z"
   },
   {
    "duration": 5,
    "start_time": "2024-01-18T08:35:20.728Z"
   },
   {
    "duration": 332,
    "start_time": "2024-01-18T08:35:20.735Z"
   },
   {
    "duration": 3,
    "start_time": "2024-01-18T08:35:21.069Z"
   },
   {
    "duration": 20,
    "start_time": "2024-01-18T08:35:21.073Z"
   },
   {
    "duration": 159,
    "start_time": "2024-01-18T08:35:21.095Z"
   },
   {
    "duration": 686,
    "start_time": "2024-01-18T08:35:21.256Z"
   },
   {
    "duration": 22,
    "start_time": "2024-01-18T08:35:21.944Z"
   },
   {
    "duration": 5,
    "start_time": "2024-01-18T08:35:21.968Z"
   },
   {
    "duration": 3,
    "start_time": "2024-01-18T08:35:21.974Z"
   },
   {
    "duration": 5,
    "start_time": "2024-01-18T08:35:21.979Z"
   },
   {
    "duration": 7,
    "start_time": "2024-01-18T08:35:21.986Z"
   },
   {
    "duration": 7,
    "start_time": "2024-01-18T08:35:21.995Z"
   },
   {
    "duration": 7,
    "start_time": "2024-01-18T08:35:22.003Z"
   },
   {
    "duration": 7,
    "start_time": "2024-01-18T08:35:22.012Z"
   },
   {
    "duration": 5,
    "start_time": "2024-01-18T08:35:22.021Z"
   },
   {
    "duration": 8,
    "start_time": "2024-01-18T08:35:22.059Z"
   },
   {
    "duration": 7,
    "start_time": "2024-01-18T08:35:22.068Z"
   },
   {
    "duration": 13,
    "start_time": "2024-01-18T08:35:22.077Z"
   },
   {
    "duration": 6,
    "start_time": "2024-01-18T08:35:22.091Z"
   },
   {
    "duration": 7,
    "start_time": "2024-01-18T08:35:22.099Z"
   },
   {
    "duration": 174238,
    "start_time": "2024-01-18T08:35:22.108Z"
   },
   {
    "duration": 0,
    "start_time": "2024-01-18T08:38:16.359Z"
   },
   {
    "duration": 0,
    "start_time": "2024-01-18T08:38:16.360Z"
   },
   {
    "duration": 0,
    "start_time": "2024-01-18T08:38:16.362Z"
   },
   {
    "duration": 0,
    "start_time": "2024-01-18T08:38:16.363Z"
   },
   {
    "duration": 2612,
    "start_time": "2024-01-18T08:38:20.290Z"
   },
   {
    "duration": 1930,
    "start_time": "2024-01-18T08:38:22.904Z"
   },
   {
    "duration": 3,
    "start_time": "2024-01-18T08:38:24.837Z"
   },
   {
    "duration": 34,
    "start_time": "2024-01-18T08:38:24.842Z"
   },
   {
    "duration": 16,
    "start_time": "2024-01-18T08:38:24.877Z"
   },
   {
    "duration": 40,
    "start_time": "2024-01-18T08:38:24.895Z"
   },
   {
    "duration": 13,
    "start_time": "2024-01-18T08:38:24.937Z"
   },
   {
    "duration": 7,
    "start_time": "2024-01-18T08:38:24.952Z"
   },
   {
    "duration": 243,
    "start_time": "2024-01-18T08:38:24.961Z"
   },
   {
    "duration": 170,
    "start_time": "2024-01-18T08:38:25.208Z"
   },
   {
    "duration": 197,
    "start_time": "2024-01-18T08:38:25.380Z"
   },
   {
    "duration": 186,
    "start_time": "2024-01-18T08:38:25.579Z"
   },
   {
    "duration": 179,
    "start_time": "2024-01-18T08:38:25.767Z"
   },
   {
    "duration": 10,
    "start_time": "2024-01-18T08:38:25.948Z"
   },
   {
    "duration": 346,
    "start_time": "2024-01-18T08:38:25.960Z"
   },
   {
    "duration": 3,
    "start_time": "2024-01-18T08:38:26.308Z"
   },
   {
    "duration": 31,
    "start_time": "2024-01-18T08:38:26.313Z"
   },
   {
    "duration": 153,
    "start_time": "2024-01-18T08:38:26.346Z"
   },
   {
    "duration": 695,
    "start_time": "2024-01-18T08:38:26.501Z"
   },
   {
    "duration": 18,
    "start_time": "2024-01-18T08:38:27.199Z"
   },
   {
    "duration": 6,
    "start_time": "2024-01-18T08:38:27.219Z"
   },
   {
    "duration": 11,
    "start_time": "2024-01-18T08:38:27.227Z"
   },
   {
    "duration": 18,
    "start_time": "2024-01-18T08:38:27.240Z"
   },
   {
    "duration": 3,
    "start_time": "2024-01-18T08:38:27.260Z"
   },
   {
    "duration": 11,
    "start_time": "2024-01-18T08:38:27.265Z"
   },
   {
    "duration": 15,
    "start_time": "2024-01-18T08:38:27.278Z"
   },
   {
    "duration": 10,
    "start_time": "2024-01-18T08:38:27.295Z"
   },
   {
    "duration": 4,
    "start_time": "2024-01-18T08:38:27.308Z"
   },
   {
    "duration": 10,
    "start_time": "2024-01-18T08:38:27.314Z"
   },
   {
    "duration": 33,
    "start_time": "2024-01-18T08:38:27.326Z"
   },
   {
    "duration": 3,
    "start_time": "2024-01-18T08:38:27.361Z"
   },
   {
    "duration": 18,
    "start_time": "2024-01-18T08:38:27.365Z"
   },
   {
    "duration": 22,
    "start_time": "2024-01-18T08:38:27.385Z"
   },
   {
    "duration": 1273164,
    "start_time": "2024-01-18T08:38:27.408Z"
   },
   {
    "duration": 8,
    "start_time": "2024-01-18T08:59:40.574Z"
   },
   {
    "duration": 8,
    "start_time": "2024-01-18T08:59:40.584Z"
   },
   {
    "duration": 298,
    "start_time": "2024-01-18T08:59:40.595Z"
   },
   {
    "duration": 10,
    "start_time": "2024-01-18T08:59:40.894Z"
   },
   {
    "duration": 2599,
    "start_time": "2024-01-18T10:06:48.866Z"
   },
   {
    "duration": 1989,
    "start_time": "2024-01-18T10:06:51.468Z"
   },
   {
    "duration": 3,
    "start_time": "2024-01-18T10:06:53.459Z"
   },
   {
    "duration": 41,
    "start_time": "2024-01-18T10:06:53.464Z"
   },
   {
    "duration": 17,
    "start_time": "2024-01-18T10:06:53.508Z"
   },
   {
    "duration": 27,
    "start_time": "2024-01-18T10:06:53.527Z"
   },
   {
    "duration": 12,
    "start_time": "2024-01-18T10:06:53.556Z"
   },
   {
    "duration": 8,
    "start_time": "2024-01-18T10:06:53.570Z"
   },
   {
    "duration": 251,
    "start_time": "2024-01-18T10:06:53.580Z"
   },
   {
    "duration": 166,
    "start_time": "2024-01-18T10:06:53.834Z"
   },
   {
    "duration": 193,
    "start_time": "2024-01-18T10:06:54.002Z"
   },
   {
    "duration": 183,
    "start_time": "2024-01-18T10:06:54.197Z"
   },
   {
    "duration": 186,
    "start_time": "2024-01-18T10:06:54.382Z"
   },
   {
    "duration": 6,
    "start_time": "2024-01-18T10:06:54.569Z"
   },
   {
    "duration": 320,
    "start_time": "2024-01-18T10:06:54.576Z"
   },
   {
    "duration": 3,
    "start_time": "2024-01-18T10:06:54.898Z"
   },
   {
    "duration": 30,
    "start_time": "2024-01-18T10:06:54.902Z"
   },
   {
    "duration": 167,
    "start_time": "2024-01-18T10:06:54.933Z"
   },
   {
    "duration": 676,
    "start_time": "2024-01-18T10:06:55.102Z"
   },
   {
    "duration": 15,
    "start_time": "2024-01-18T10:06:55.779Z"
   },
   {
    "duration": 21,
    "start_time": "2024-01-18T10:06:55.795Z"
   },
   {
    "duration": 14,
    "start_time": "2024-01-18T10:06:55.818Z"
   },
   {
    "duration": 14,
    "start_time": "2024-01-18T10:06:55.834Z"
   },
   {
    "duration": 19,
    "start_time": "2024-01-18T10:06:55.849Z"
   },
   {
    "duration": 30,
    "start_time": "2024-01-18T10:06:55.870Z"
   },
   {
    "duration": 21,
    "start_time": "2024-01-18T10:06:55.902Z"
   },
   {
    "duration": 22,
    "start_time": "2024-01-18T10:06:55.925Z"
   },
   {
    "duration": 22,
    "start_time": "2024-01-18T10:06:55.950Z"
   },
   {
    "duration": 22,
    "start_time": "2024-01-18T10:06:55.973Z"
   },
   {
    "duration": 41,
    "start_time": "2024-01-18T10:06:55.997Z"
   },
   {
    "duration": 29,
    "start_time": "2024-01-18T10:06:56.039Z"
   },
   {
    "duration": 13,
    "start_time": "2024-01-18T10:06:56.070Z"
   },
   {
    "duration": 23,
    "start_time": "2024-01-18T10:06:56.085Z"
   },
   {
    "duration": 2856,
    "start_time": "2024-01-18T10:21:03.948Z"
   },
   {
    "duration": 1934,
    "start_time": "2024-01-18T10:21:06.807Z"
   },
   {
    "duration": 3,
    "start_time": "2024-01-18T10:21:08.743Z"
   },
   {
    "duration": 42,
    "start_time": "2024-01-18T10:21:08.748Z"
   },
   {
    "duration": 16,
    "start_time": "2024-01-18T10:21:08.792Z"
   },
   {
    "duration": 25,
    "start_time": "2024-01-18T10:21:08.810Z"
   },
   {
    "duration": 11,
    "start_time": "2024-01-18T10:21:08.836Z"
   },
   {
    "duration": 43,
    "start_time": "2024-01-18T10:21:08.849Z"
   },
   {
    "duration": 239,
    "start_time": "2024-01-18T10:21:08.893Z"
   },
   {
    "duration": 172,
    "start_time": "2024-01-18T10:21:09.134Z"
   },
   {
    "duration": 185,
    "start_time": "2024-01-18T10:21:09.308Z"
   },
   {
    "duration": 187,
    "start_time": "2024-01-18T10:21:09.495Z"
   },
   {
    "duration": 174,
    "start_time": "2024-01-18T10:21:09.683Z"
   },
   {
    "duration": 5,
    "start_time": "2024-01-18T10:21:09.860Z"
   },
   {
    "duration": 302,
    "start_time": "2024-01-18T10:21:09.867Z"
   },
   {
    "duration": 3,
    "start_time": "2024-01-18T10:21:10.171Z"
   },
   {
    "duration": 23,
    "start_time": "2024-01-18T10:21:10.175Z"
   },
   {
    "duration": 151,
    "start_time": "2024-01-18T10:21:10.199Z"
   },
   {
    "duration": 680,
    "start_time": "2024-01-18T10:21:10.351Z"
   },
   {
    "duration": 15,
    "start_time": "2024-01-18T10:21:11.032Z"
   },
   {
    "duration": 5,
    "start_time": "2024-01-18T10:21:11.058Z"
   },
   {
    "duration": 15,
    "start_time": "2024-01-18T10:21:11.064Z"
   },
   {
    "duration": 34,
    "start_time": "2024-01-18T10:21:11.081Z"
   },
   {
    "duration": 34,
    "start_time": "2024-01-18T10:21:11.117Z"
   },
   {
    "duration": 43,
    "start_time": "2024-01-18T10:21:11.153Z"
   },
   {
    "duration": 7,
    "start_time": "2024-01-18T10:21:11.198Z"
   },
   {
    "duration": 12,
    "start_time": "2024-01-18T10:21:11.206Z"
   },
   {
    "duration": 15,
    "start_time": "2024-01-18T10:21:11.220Z"
   },
   {
    "duration": 12,
    "start_time": "2024-01-18T10:21:11.236Z"
   },
   {
    "duration": 9,
    "start_time": "2024-01-18T10:21:11.250Z"
   },
   {
    "duration": 9,
    "start_time": "2024-01-18T10:21:11.261Z"
   },
   {
    "duration": 22,
    "start_time": "2024-01-18T10:21:11.272Z"
   },
   {
    "duration": 8,
    "start_time": "2024-01-18T10:21:11.296Z"
   },
   {
    "duration": 2535453,
    "start_time": "2024-01-18T10:21:11.306Z"
   },
   {
    "duration": 6,
    "start_time": "2024-01-18T11:03:26.761Z"
   },
   {
    "duration": 10,
    "start_time": "2024-01-18T11:03:26.769Z"
   },
   {
    "duration": 274,
    "start_time": "2024-01-18T11:03:26.780Z"
   },
   {
    "duration": 12,
    "start_time": "2024-01-18T11:03:27.058Z"
   },
   {
    "duration": 336,
    "start_time": "2024-01-18T11:04:01.222Z"
   },
   {
    "duration": 230,
    "start_time": "2024-01-18T11:04:26.347Z"
   },
   {
    "duration": 228,
    "start_time": "2024-01-18T11:04:32.280Z"
   },
   {
    "duration": 252,
    "start_time": "2024-01-18T11:04:38.163Z"
   },
   {
    "duration": 232,
    "start_time": "2024-01-18T11:04:45.254Z"
   },
   {
    "duration": 6,
    "start_time": "2024-01-18T11:04:59.919Z"
   },
   {
    "duration": 250,
    "start_time": "2024-01-18T11:05:01.489Z"
   },
   {
    "duration": 260,
    "start_time": "2024-01-18T11:05:14.459Z"
   },
   {
    "duration": 270,
    "start_time": "2024-01-18T11:05:24.104Z"
   },
   {
    "duration": 251,
    "start_time": "2024-01-18T11:05:29.360Z"
   },
   {
    "duration": 265,
    "start_time": "2024-01-18T11:05:33.283Z"
   },
   {
    "duration": 2675,
    "start_time": "2024-01-18T11:24:35.328Z"
   },
   {
    "duration": 1990,
    "start_time": "2024-01-18T11:24:38.006Z"
   },
   {
    "duration": 3,
    "start_time": "2024-01-18T11:24:39.997Z"
   },
   {
    "duration": 46,
    "start_time": "2024-01-18T11:24:40.003Z"
   },
   {
    "duration": 15,
    "start_time": "2024-01-18T11:24:40.051Z"
   },
   {
    "duration": 25,
    "start_time": "2024-01-18T11:24:40.068Z"
   },
   {
    "duration": 14,
    "start_time": "2024-01-18T11:24:40.095Z"
   },
   {
    "duration": 12,
    "start_time": "2024-01-18T11:24:40.111Z"
   },
   {
    "duration": 259,
    "start_time": "2024-01-18T11:24:40.125Z"
   },
   {
    "duration": 172,
    "start_time": "2024-01-18T11:24:40.386Z"
   },
   {
    "duration": 212,
    "start_time": "2024-01-18T11:24:40.560Z"
   },
   {
    "duration": 202,
    "start_time": "2024-01-18T11:24:40.773Z"
   },
   {
    "duration": 191,
    "start_time": "2024-01-18T11:24:40.977Z"
   },
   {
    "duration": 6,
    "start_time": "2024-01-18T11:24:41.170Z"
   },
   {
    "duration": 348,
    "start_time": "2024-01-18T11:24:41.178Z"
   },
   {
    "duration": 4,
    "start_time": "2024-01-18T11:24:41.528Z"
   },
   {
    "duration": 37,
    "start_time": "2024-01-18T11:24:41.534Z"
   },
   {
    "duration": 44,
    "start_time": "2024-01-18T11:24:41.573Z"
   },
   {
    "duration": 188,
    "start_time": "2024-01-18T11:24:41.619Z"
   },
   {
    "duration": 737,
    "start_time": "2024-01-18T11:24:41.809Z"
   },
   {
    "duration": 20,
    "start_time": "2024-01-18T11:24:42.548Z"
   },
   {
    "duration": 8,
    "start_time": "2024-01-18T11:24:42.570Z"
   },
   {
    "duration": 4,
    "start_time": "2024-01-18T11:24:42.580Z"
   },
   {
    "duration": 11,
    "start_time": "2024-01-18T11:24:42.586Z"
   },
   {
    "duration": 3,
    "start_time": "2024-01-18T11:24:42.600Z"
   },
   {
    "duration": 7,
    "start_time": "2024-01-18T11:24:42.605Z"
   },
   {
    "duration": 45,
    "start_time": "2024-01-18T11:24:42.614Z"
   },
   {
    "duration": 7,
    "start_time": "2024-01-18T11:24:42.663Z"
   },
   {
    "duration": 14,
    "start_time": "2024-01-18T11:24:42.673Z"
   },
   {
    "duration": 9,
    "start_time": "2024-01-18T11:24:42.689Z"
   },
   {
    "duration": 11,
    "start_time": "2024-01-18T11:24:42.700Z"
   },
   {
    "duration": 19,
    "start_time": "2024-01-18T11:24:42.713Z"
   },
   {
    "duration": 12,
    "start_time": "2024-01-18T11:24:42.734Z"
   },
   {
    "duration": 15,
    "start_time": "2024-01-18T11:24:42.747Z"
   },
   {
    "duration": 2336067,
    "start_time": "2024-01-18T11:24:42.764Z"
   },
   {
    "duration": 0,
    "start_time": "2024-01-18T12:03:38.833Z"
   },
   {
    "duration": 0,
    "start_time": "2024-01-18T12:03:38.834Z"
   },
   {
    "duration": 0,
    "start_time": "2024-01-18T12:03:38.835Z"
   },
   {
    "duration": 0,
    "start_time": "2024-01-18T12:03:38.836Z"
   },
   {
    "duration": 2868,
    "start_time": "2024-01-18T12:04:27.840Z"
   },
   {
    "duration": 5,
    "start_time": "2024-01-18T12:04:30.712Z"
   },
   {
    "duration": 57,
    "start_time": "2024-01-18T12:04:30.718Z"
   },
   {
    "duration": 56,
    "start_time": "2024-01-18T12:04:30.777Z"
   },
   {
    "duration": 41,
    "start_time": "2024-01-18T12:04:30.835Z"
   },
   {
    "duration": 115,
    "start_time": "2024-01-18T12:04:30.887Z"
   },
   {
    "duration": 168,
    "start_time": "2024-01-18T12:04:31.004Z"
   },
   {
    "duration": 40,
    "start_time": "2024-01-18T12:04:31.174Z"
   },
   {
    "duration": 315,
    "start_time": "2024-01-18T12:04:31.216Z"
   },
   {
    "duration": 195,
    "start_time": "2024-01-18T12:04:31.533Z"
   },
   {
    "duration": 370,
    "start_time": "2024-01-18T12:04:31.730Z"
   },
   {
    "duration": 222,
    "start_time": "2024-01-18T12:04:32.103Z"
   },
   {
    "duration": 215,
    "start_time": "2024-01-18T12:04:32.327Z"
   },
   {
    "duration": 5,
    "start_time": "2024-01-18T12:04:32.544Z"
   },
   {
    "duration": 344,
    "start_time": "2024-01-18T12:04:32.560Z"
   },
   {
    "duration": 3,
    "start_time": "2024-01-18T12:04:32.906Z"
   },
   {
    "duration": 26,
    "start_time": "2024-01-18T12:04:32.911Z"
   },
   {
    "duration": 59,
    "start_time": "2024-01-18T12:04:32.940Z"
   },
   {
    "duration": 9,
    "start_time": "2024-01-18T12:05:01.963Z"
   },
   {
    "duration": 7,
    "start_time": "2024-01-18T12:05:12.883Z"
   },
   {
    "duration": 233,
    "start_time": "2024-01-18T12:05:36.535Z"
   },
   {
    "duration": 100,
    "start_time": "2024-01-18T12:08:17.493Z"
   },
   {
    "duration": 135,
    "start_time": "2024-01-18T12:09:34.372Z"
   },
   {
    "duration": 156,
    "start_time": "2024-01-18T12:09:36.484Z"
   },
   {
    "duration": 155,
    "start_time": "2024-01-18T12:09:38.620Z"
   },
   {
    "duration": 133,
    "start_time": "2024-01-18T12:09:40.865Z"
   },
   {
    "duration": 121,
    "start_time": "2024-01-18T12:09:43.170Z"
   },
   {
    "duration": 130,
    "start_time": "2024-01-18T12:09:45.555Z"
   },
   {
    "duration": 2677,
    "start_time": "2024-01-18T12:14:27.212Z"
   },
   {
    "duration": 2094,
    "start_time": "2024-01-18T12:14:29.891Z"
   },
   {
    "duration": 3,
    "start_time": "2024-01-18T12:14:31.987Z"
   },
   {
    "duration": 50,
    "start_time": "2024-01-18T12:14:31.992Z"
   },
   {
    "duration": 29,
    "start_time": "2024-01-18T12:14:32.044Z"
   },
   {
    "duration": 32,
    "start_time": "2024-01-18T12:14:32.076Z"
   },
   {
    "duration": 28,
    "start_time": "2024-01-18T12:14:32.110Z"
   },
   {
    "duration": 34,
    "start_time": "2024-01-18T12:14:32.139Z"
   },
   {
    "duration": 245,
    "start_time": "2024-01-18T12:14:32.175Z"
   },
   {
    "duration": 182,
    "start_time": "2024-01-18T12:14:32.423Z"
   },
   {
    "duration": 226,
    "start_time": "2024-01-18T12:14:32.606Z"
   },
   {
    "duration": 189,
    "start_time": "2024-01-18T12:14:32.834Z"
   },
   {
    "duration": 186,
    "start_time": "2024-01-18T12:14:33.025Z"
   },
   {
    "duration": 5,
    "start_time": "2024-01-18T12:14:33.213Z"
   },
   {
    "duration": 315,
    "start_time": "2024-01-18T12:14:33.219Z"
   },
   {
    "duration": 3,
    "start_time": "2024-01-18T12:14:33.535Z"
   },
   {
    "duration": 8,
    "start_time": "2024-01-18T12:14:33.540Z"
   },
   {
    "duration": 17,
    "start_time": "2024-01-18T12:14:33.558Z"
   },
   {
    "duration": 100,
    "start_time": "2024-01-18T12:14:33.577Z"
   },
   {
    "duration": 139,
    "start_time": "2024-01-18T12:14:33.679Z"
   },
   {
    "duration": 178,
    "start_time": "2024-01-18T12:14:33.820Z"
   },
   {
    "duration": 174,
    "start_time": "2024-01-18T12:14:34.000Z"
   },
   {
    "duration": 129,
    "start_time": "2024-01-18T12:14:34.176Z"
   },
   {
    "duration": 130,
    "start_time": "2024-01-18T12:14:34.308Z"
   },
   {
    "duration": 232,
    "start_time": "2024-01-18T12:14:34.440Z"
   },
   {
    "duration": 3,
    "start_time": "2024-01-18T12:14:34.674Z"
   },
   {
    "duration": 246,
    "start_time": "2024-01-18T12:14:34.679Z"
   },
   {
    "duration": 709,
    "start_time": "2024-01-18T12:14:34.930Z"
   },
   {
    "duration": 33,
    "start_time": "2024-01-18T12:14:35.641Z"
   },
   {
    "duration": 6,
    "start_time": "2024-01-18T12:14:35.676Z"
   },
   {
    "duration": 12,
    "start_time": "2024-01-18T12:14:35.683Z"
   },
   {
    "duration": 10,
    "start_time": "2024-01-18T12:14:35.697Z"
   },
   {
    "duration": 6,
    "start_time": "2024-01-18T12:14:35.708Z"
   },
   {
    "duration": 11,
    "start_time": "2024-01-18T12:14:35.716Z"
   },
   {
    "duration": 8,
    "start_time": "2024-01-18T12:14:35.728Z"
   },
   {
    "duration": 12,
    "start_time": "2024-01-18T12:14:35.737Z"
   },
   {
    "duration": 22,
    "start_time": "2024-01-18T12:14:35.750Z"
   },
   {
    "duration": 8,
    "start_time": "2024-01-18T12:14:35.774Z"
   },
   {
    "duration": 12,
    "start_time": "2024-01-18T12:14:35.784Z"
   },
   {
    "duration": 11,
    "start_time": "2024-01-18T12:14:35.797Z"
   },
   {
    "duration": 29,
    "start_time": "2024-01-18T12:14:35.810Z"
   },
   {
    "duration": 10,
    "start_time": "2024-01-18T12:14:35.840Z"
   },
   {
    "duration": 3528,
    "start_time": "2024-01-18T12:14:35.852Z"
   },
   {
    "duration": 0,
    "start_time": "2024-01-18T12:14:39.382Z"
   },
   {
    "duration": 0,
    "start_time": "2024-01-18T12:14:39.384Z"
   },
   {
    "duration": 0,
    "start_time": "2024-01-18T12:14:39.385Z"
   },
   {
    "duration": 0,
    "start_time": "2024-01-18T12:14:39.387Z"
   },
   {
    "duration": 2731,
    "start_time": "2024-01-18T12:14:54.806Z"
   },
   {
    "duration": 2063,
    "start_time": "2024-01-18T12:14:57.539Z"
   },
   {
    "duration": 3,
    "start_time": "2024-01-18T12:14:59.604Z"
   },
   {
    "duration": 39,
    "start_time": "2024-01-18T12:14:59.609Z"
   },
   {
    "duration": 25,
    "start_time": "2024-01-18T12:14:59.650Z"
   },
   {
    "duration": 24,
    "start_time": "2024-01-18T12:14:59.677Z"
   },
   {
    "duration": 12,
    "start_time": "2024-01-18T12:14:59.702Z"
   },
   {
    "duration": 5,
    "start_time": "2024-01-18T12:14:59.716Z"
   },
   {
    "duration": 261,
    "start_time": "2024-01-18T12:14:59.723Z"
   },
   {
    "duration": 180,
    "start_time": "2024-01-18T12:14:59.985Z"
   },
   {
    "duration": 194,
    "start_time": "2024-01-18T12:15:00.172Z"
   },
   {
    "duration": 192,
    "start_time": "2024-01-18T12:15:00.372Z"
   },
   {
    "duration": 187,
    "start_time": "2024-01-18T12:15:00.566Z"
   },
   {
    "duration": 15,
    "start_time": "2024-01-18T12:15:00.760Z"
   },
   {
    "duration": 363,
    "start_time": "2024-01-18T12:15:00.777Z"
   },
   {
    "duration": 4,
    "start_time": "2024-01-18T12:15:01.141Z"
   },
   {
    "duration": 18,
    "start_time": "2024-01-18T12:15:01.162Z"
   },
   {
    "duration": 28,
    "start_time": "2024-01-18T12:15:01.182Z"
   },
   {
    "duration": 127,
    "start_time": "2024-01-18T12:15:01.212Z"
   },
   {
    "duration": 145,
    "start_time": "2024-01-18T12:15:01.341Z"
   },
   {
    "duration": 164,
    "start_time": "2024-01-18T12:15:01.488Z"
   },
   {
    "duration": 168,
    "start_time": "2024-01-18T12:15:01.658Z"
   },
   {
    "duration": 125,
    "start_time": "2024-01-18T12:15:01.828Z"
   },
   {
    "duration": 126,
    "start_time": "2024-01-18T12:15:01.958Z"
   },
   {
    "duration": 227,
    "start_time": "2024-01-18T12:15:02.085Z"
   },
   {
    "duration": 3,
    "start_time": "2024-01-18T12:15:02.314Z"
   },
   {
    "duration": 255,
    "start_time": "2024-01-18T12:15:02.319Z"
   },
   {
    "duration": 704,
    "start_time": "2024-01-18T12:15:02.576Z"
   },
   {
    "duration": 16,
    "start_time": "2024-01-18T12:15:03.282Z"
   },
   {
    "duration": 31,
    "start_time": "2024-01-18T12:15:03.300Z"
   },
   {
    "duration": 19,
    "start_time": "2024-01-18T12:15:03.333Z"
   },
   {
    "duration": 37,
    "start_time": "2024-01-18T12:15:03.354Z"
   },
   {
    "duration": 38,
    "start_time": "2024-01-18T12:15:03.393Z"
   },
   {
    "duration": 9,
    "start_time": "2024-01-18T12:15:03.433Z"
   },
   {
    "duration": 42,
    "start_time": "2024-01-18T12:15:03.443Z"
   },
   {
    "duration": 32,
    "start_time": "2024-01-18T12:15:03.486Z"
   },
   {
    "duration": 69,
    "start_time": "2024-01-18T12:15:03.520Z"
   },
   {
    "duration": 38,
    "start_time": "2024-01-18T12:15:03.590Z"
   },
   {
    "duration": 10,
    "start_time": "2024-01-18T12:15:03.630Z"
   },
   {
    "duration": 6,
    "start_time": "2024-01-18T12:15:03.642Z"
   },
   {
    "duration": 11,
    "start_time": "2024-01-18T12:15:03.651Z"
   },
   {
    "duration": 12,
    "start_time": "2024-01-18T12:15:03.663Z"
   },
   {
    "duration": 2830204,
    "start_time": "2024-01-18T12:15:03.677Z"
   },
   {
    "duration": 79,
    "start_time": "2024-01-18T13:02:13.883Z"
   },
   {
    "duration": 7,
    "start_time": "2024-01-18T13:02:13.965Z"
   },
   {
    "duration": 263,
    "start_time": "2024-01-18T13:02:13.974Z"
   },
   {
    "duration": 34,
    "start_time": "2024-01-18T13:02:14.238Z"
   },
   {
    "duration": 247,
    "start_time": "2024-01-18T13:19:27.605Z"
   },
   {
    "duration": 274,
    "start_time": "2024-01-18T13:19:31.972Z"
   },
   {
    "duration": 256,
    "start_time": "2024-01-18T13:19:47.126Z"
   },
   {
    "duration": 122,
    "start_time": "2024-01-18T13:25:02.643Z"
   },
   {
    "duration": 7,
    "start_time": "2024-01-18T13:25:23.168Z"
   },
   {
    "duration": 140,
    "start_time": "2024-01-18T13:26:46.586Z"
   },
   {
    "duration": 31113,
    "start_time": "2024-01-18T13:27:00.961Z"
   },
   {
    "duration": 17,
    "start_time": "2024-01-18T13:28:12.210Z"
   },
   {
    "duration": 16,
    "start_time": "2024-01-18T13:29:13.408Z"
   },
   {
    "duration": 7,
    "start_time": "2024-01-18T13:29:18.848Z"
   },
   {
    "duration": 16,
    "start_time": "2024-01-18T13:29:20.332Z"
   },
   {
    "duration": 6,
    "start_time": "2024-01-18T13:29:41.554Z"
   },
   {
    "duration": 48747,
    "start_time": "2024-01-18T13:29:43.932Z"
   },
   {
    "duration": 48446,
    "start_time": "2024-01-18T13:32:25.629Z"
   },
   {
    "duration": 6,
    "start_time": "2024-01-18T13:33:14.077Z"
   },
   {
    "duration": 9,
    "start_time": "2024-01-18T13:47:45.773Z"
   },
   {
    "duration": 183,
    "start_time": "2024-01-18T13:47:51.533Z"
   },
   {
    "duration": 19563,
    "start_time": "2024-01-18T13:49:36.952Z"
   },
   {
    "duration": 2628,
    "start_time": "2024-01-18T13:50:09.393Z"
   },
   {
    "duration": 4,
    "start_time": "2024-01-18T13:50:12.023Z"
   },
   {
    "duration": 20,
    "start_time": "2024-01-18T13:50:12.029Z"
   },
   {
    "duration": 55,
    "start_time": "2024-01-18T13:50:12.050Z"
   },
   {
    "duration": 12,
    "start_time": "2024-01-18T13:50:12.108Z"
   },
   {
    "duration": 44,
    "start_time": "2024-01-18T13:50:12.121Z"
   },
   {
    "duration": 32,
    "start_time": "2024-01-18T13:50:12.167Z"
   },
   {
    "duration": 15,
    "start_time": "2024-01-18T13:50:12.200Z"
   },
   {
    "duration": 189,
    "start_time": "2024-01-18T13:50:12.217Z"
   },
   {
    "duration": 174,
    "start_time": "2024-01-18T13:50:12.408Z"
   },
   {
    "duration": 183,
    "start_time": "2024-01-18T13:50:12.584Z"
   },
   {
    "duration": 181,
    "start_time": "2024-01-18T13:50:12.769Z"
   },
   {
    "duration": 175,
    "start_time": "2024-01-18T13:50:12.952Z"
   },
   {
    "duration": 6,
    "start_time": "2024-01-18T13:50:13.130Z"
   },
   {
    "duration": 310,
    "start_time": "2024-01-18T13:50:13.137Z"
   },
   {
    "duration": 3,
    "start_time": "2024-01-18T13:50:13.449Z"
   },
   {
    "duration": 71,
    "start_time": "2024-01-18T13:50:13.454Z"
   },
   {
    "duration": 68,
    "start_time": "2024-01-18T13:50:13.527Z"
   },
   {
    "duration": 114,
    "start_time": "2024-01-18T13:50:13.597Z"
   },
   {
    "duration": 134,
    "start_time": "2024-01-18T13:50:13.713Z"
   },
   {
    "duration": 163,
    "start_time": "2024-01-18T13:50:13.849Z"
   },
   {
    "duration": 158,
    "start_time": "2024-01-18T13:50:14.014Z"
   },
   {
    "duration": 124,
    "start_time": "2024-01-18T13:50:14.173Z"
   },
   {
    "duration": 122,
    "start_time": "2024-01-18T13:50:14.299Z"
   },
   {
    "duration": 229,
    "start_time": "2024-01-18T13:50:14.423Z"
   },
   {
    "duration": 10,
    "start_time": "2024-01-18T13:50:14.653Z"
   },
   {
    "duration": 9,
    "start_time": "2024-01-18T13:50:14.665Z"
   },
   {
    "duration": 186,
    "start_time": "2024-01-18T13:50:14.675Z"
   },
   {
    "duration": 20092,
    "start_time": "2024-01-18T13:50:14.862Z"
   },
   {
    "duration": 5,
    "start_time": "2024-01-18T13:52:02.004Z"
   },
   {
    "duration": 166,
    "start_time": "2024-01-18T13:52:04.724Z"
   },
   {
    "duration": 19683,
    "start_time": "2024-01-18T13:52:09.534Z"
   },
   {
    "duration": 2716,
    "start_time": "2024-01-18T13:52:53.153Z"
   },
   {
    "duration": 2005,
    "start_time": "2024-01-18T13:52:55.872Z"
   },
   {
    "duration": 3,
    "start_time": "2024-01-18T13:52:57.879Z"
   },
   {
    "duration": 42,
    "start_time": "2024-01-18T13:52:57.884Z"
   },
   {
    "duration": 14,
    "start_time": "2024-01-18T13:52:57.929Z"
   },
   {
    "duration": 30,
    "start_time": "2024-01-18T13:52:57.945Z"
   },
   {
    "duration": 10,
    "start_time": "2024-01-18T13:52:57.977Z"
   },
   {
    "duration": 17,
    "start_time": "2024-01-18T13:52:57.988Z"
   },
   {
    "duration": 217,
    "start_time": "2024-01-18T13:52:58.007Z"
   },
   {
    "duration": 165,
    "start_time": "2024-01-18T13:52:58.226Z"
   },
   {
    "duration": 204,
    "start_time": "2024-01-18T13:52:58.392Z"
   },
   {
    "duration": 173,
    "start_time": "2024-01-18T13:52:58.598Z"
   },
   {
    "duration": 185,
    "start_time": "2024-01-18T13:52:58.773Z"
   },
   {
    "duration": 6,
    "start_time": "2024-01-18T13:52:58.962Z"
   },
   {
    "duration": 329,
    "start_time": "2024-01-18T13:52:58.970Z"
   },
   {
    "duration": 4,
    "start_time": "2024-01-18T13:52:59.301Z"
   },
   {
    "duration": 8,
    "start_time": "2024-01-18T13:52:59.307Z"
   },
   {
    "duration": 12,
    "start_time": "2024-01-18T13:52:59.316Z"
   },
   {
    "duration": 117,
    "start_time": "2024-01-18T13:52:59.330Z"
   },
   {
    "duration": 140,
    "start_time": "2024-01-18T13:52:59.449Z"
   },
   {
    "duration": 168,
    "start_time": "2024-01-18T13:52:59.590Z"
   },
   {
    "duration": 155,
    "start_time": "2024-01-18T13:52:59.760Z"
   },
   {
    "duration": 130,
    "start_time": "2024-01-18T13:52:59.917Z"
   },
   {
    "duration": 124,
    "start_time": "2024-01-18T13:53:00.049Z"
   },
   {
    "duration": 215,
    "start_time": "2024-01-18T13:53:00.175Z"
   },
   {
    "duration": 19,
    "start_time": "2024-01-18T13:53:00.391Z"
   },
   {
    "duration": 74,
    "start_time": "2024-01-18T13:53:00.412Z"
   },
   {
    "duration": 203,
    "start_time": "2024-01-18T13:53:00.488Z"
   },
   {
    "duration": 20040,
    "start_time": "2024-01-18T13:53:00.693Z"
   },
   {
    "duration": 2751,
    "start_time": "2024-01-18T13:54:10.791Z"
   },
   {
    "duration": 6,
    "start_time": "2024-01-18T13:54:13.545Z"
   },
   {
    "duration": 23,
    "start_time": "2024-01-18T13:54:13.553Z"
   },
   {
    "duration": 32,
    "start_time": "2024-01-18T13:54:13.577Z"
   },
   {
    "duration": 12,
    "start_time": "2024-01-18T13:54:13.612Z"
   },
   {
    "duration": 37,
    "start_time": "2024-01-18T13:54:13.626Z"
   },
   {
    "duration": 12,
    "start_time": "2024-01-18T13:54:13.665Z"
   },
   {
    "duration": 13,
    "start_time": "2024-01-18T13:54:13.679Z"
   },
   {
    "duration": 198,
    "start_time": "2024-01-18T13:54:13.693Z"
   },
   {
    "duration": 170,
    "start_time": "2024-01-18T13:54:13.892Z"
   },
   {
    "duration": 186,
    "start_time": "2024-01-18T13:54:14.064Z"
   },
   {
    "duration": 180,
    "start_time": "2024-01-18T13:54:14.252Z"
   },
   {
    "duration": 190,
    "start_time": "2024-01-18T13:54:14.433Z"
   },
   {
    "duration": 5,
    "start_time": "2024-01-18T13:54:14.626Z"
   },
   {
    "duration": 325,
    "start_time": "2024-01-18T13:54:14.633Z"
   },
   {
    "duration": 3,
    "start_time": "2024-01-18T13:54:14.961Z"
   },
   {
    "duration": 9,
    "start_time": "2024-01-18T13:54:14.966Z"
   },
   {
    "duration": 67,
    "start_time": "2024-01-18T13:54:14.977Z"
   },
   {
    "duration": 166,
    "start_time": "2024-01-18T13:54:15.046Z"
   },
   {
    "duration": 133,
    "start_time": "2024-01-18T13:54:15.214Z"
   },
   {
    "duration": 163,
    "start_time": "2024-01-18T13:54:15.348Z"
   },
   {
    "duration": 272,
    "start_time": "2024-01-18T13:54:15.513Z"
   },
   {
    "duration": 134,
    "start_time": "2024-01-18T13:54:15.787Z"
   },
   {
    "duration": 124,
    "start_time": "2024-01-18T13:54:15.923Z"
   },
   {
    "duration": 119,
    "start_time": "2024-01-18T13:54:16.049Z"
   },
   {
    "duration": 2,
    "start_time": "2024-01-18T13:54:16.170Z"
   },
   {
    "duration": 5,
    "start_time": "2024-01-18T13:54:16.173Z"
   },
   {
    "duration": 223,
    "start_time": "2024-01-18T13:54:16.180Z"
   },
   {
    "duration": 777,
    "start_time": "2024-01-18T13:54:16.405Z"
   },
   {
    "duration": 2585,
    "start_time": "2024-01-18T13:56:53.622Z"
   },
   {
    "duration": 2013,
    "start_time": "2024-01-18T13:56:56.210Z"
   },
   {
    "duration": 3,
    "start_time": "2024-01-18T13:56:58.225Z"
   },
   {
    "duration": 30,
    "start_time": "2024-01-18T13:56:58.229Z"
   },
   {
    "duration": 14,
    "start_time": "2024-01-18T13:56:58.262Z"
   },
   {
    "duration": 24,
    "start_time": "2024-01-18T13:56:58.278Z"
   },
   {
    "duration": 10,
    "start_time": "2024-01-18T13:56:58.303Z"
   },
   {
    "duration": 7,
    "start_time": "2024-01-18T13:56:58.315Z"
   },
   {
    "duration": 249,
    "start_time": "2024-01-18T13:56:58.323Z"
   },
   {
    "duration": 164,
    "start_time": "2024-01-18T13:56:58.573Z"
   },
   {
    "duration": 188,
    "start_time": "2024-01-18T13:56:58.738Z"
   },
   {
    "duration": 199,
    "start_time": "2024-01-18T13:56:58.927Z"
   },
   {
    "duration": 187,
    "start_time": "2024-01-18T13:56:59.128Z"
   },
   {
    "duration": 6,
    "start_time": "2024-01-18T13:56:59.318Z"
   },
   {
    "duration": 317,
    "start_time": "2024-01-18T13:56:59.326Z"
   },
   {
    "duration": 3,
    "start_time": "2024-01-18T13:56:59.645Z"
   },
   {
    "duration": 5,
    "start_time": "2024-01-18T13:56:59.658Z"
   },
   {
    "duration": 7,
    "start_time": "2024-01-18T13:56:59.665Z"
   },
   {
    "duration": 117,
    "start_time": "2024-01-18T13:56:59.673Z"
   },
   {
    "duration": 137,
    "start_time": "2024-01-18T13:56:59.792Z"
   },
   {
    "duration": 162,
    "start_time": "2024-01-18T13:56:59.930Z"
   },
   {
    "duration": 176,
    "start_time": "2024-01-18T13:57:00.094Z"
   },
   {
    "duration": 129,
    "start_time": "2024-01-18T13:57:00.272Z"
   },
   {
    "duration": 123,
    "start_time": "2024-01-18T13:57:00.403Z"
   },
   {
    "duration": 224,
    "start_time": "2024-01-18T13:57:00.528Z"
   },
   {
    "duration": 12,
    "start_time": "2024-01-18T13:57:00.754Z"
   },
   {
    "duration": 40,
    "start_time": "2024-01-18T13:57:00.767Z"
   },
   {
    "duration": 225,
    "start_time": "2024-01-18T13:57:00.809Z"
   },
   {
    "duration": 19984,
    "start_time": "2024-01-18T13:57:01.036Z"
   },
   {
    "duration": 12,
    "start_time": "2024-01-18T13:57:21.021Z"
   },
   {
    "duration": 31,
    "start_time": "2024-01-18T13:57:21.035Z"
   },
   {
    "duration": 18,
    "start_time": "2024-01-18T13:57:21.068Z"
   },
   {
    "duration": 26,
    "start_time": "2024-01-18T13:57:21.087Z"
   },
   {
    "duration": 40,
    "start_time": "2024-01-18T13:57:21.115Z"
   },
   {
    "duration": 182,
    "start_time": "2024-01-18T13:57:21.157Z"
   },
   {
    "duration": 0,
    "start_time": "2024-01-18T13:57:21.342Z"
   },
   {
    "duration": 0,
    "start_time": "2024-01-18T13:57:21.343Z"
   },
   {
    "duration": 0,
    "start_time": "2024-01-18T13:57:21.345Z"
   },
   {
    "duration": 0,
    "start_time": "2024-01-18T13:57:21.346Z"
   },
   {
    "duration": 0,
    "start_time": "2024-01-18T13:57:21.359Z"
   },
   {
    "duration": 0,
    "start_time": "2024-01-18T13:57:21.361Z"
   },
   {
    "duration": 0,
    "start_time": "2024-01-18T13:57:21.363Z"
   },
   {
    "duration": 0,
    "start_time": "2024-01-18T13:57:21.364Z"
   },
   {
    "duration": 0,
    "start_time": "2024-01-18T13:57:21.366Z"
   },
   {
    "duration": 0,
    "start_time": "2024-01-18T13:57:21.367Z"
   },
   {
    "duration": 0,
    "start_time": "2024-01-18T13:57:21.369Z"
   },
   {
    "duration": 0,
    "start_time": "2024-01-18T13:57:21.370Z"
   },
   {
    "duration": 0,
    "start_time": "2024-01-18T13:57:21.372Z"
   },
   {
    "duration": 0,
    "start_time": "2024-01-18T13:57:21.373Z"
   },
   {
    "duration": 0,
    "start_time": "2024-01-18T13:57:21.375Z"
   },
   {
    "duration": 7,
    "start_time": "2024-01-18T14:02:03.223Z"
   },
   {
    "duration": 2564,
    "start_time": "2024-01-18T14:02:19.781Z"
   },
   {
    "duration": 1992,
    "start_time": "2024-01-18T14:02:22.348Z"
   },
   {
    "duration": 2,
    "start_time": "2024-01-18T14:02:24.342Z"
   },
   {
    "duration": 32,
    "start_time": "2024-01-18T14:02:24.346Z"
   },
   {
    "duration": 16,
    "start_time": "2024-01-18T14:02:24.379Z"
   },
   {
    "duration": 39,
    "start_time": "2024-01-18T14:02:24.397Z"
   },
   {
    "duration": 11,
    "start_time": "2024-01-18T14:02:24.438Z"
   },
   {
    "duration": 25,
    "start_time": "2024-01-18T14:02:24.451Z"
   },
   {
    "duration": 259,
    "start_time": "2024-01-18T14:02:24.478Z"
   },
   {
    "duration": 165,
    "start_time": "2024-01-18T14:02:24.740Z"
   },
   {
    "duration": 188,
    "start_time": "2024-01-18T14:02:24.907Z"
   },
   {
    "duration": 188,
    "start_time": "2024-01-18T14:02:25.098Z"
   },
   {
    "duration": 188,
    "start_time": "2024-01-18T14:02:25.288Z"
   },
   {
    "duration": 7,
    "start_time": "2024-01-18T14:02:25.478Z"
   },
   {
    "duration": 324,
    "start_time": "2024-01-18T14:02:25.487Z"
   },
   {
    "duration": 3,
    "start_time": "2024-01-18T14:02:25.813Z"
   },
   {
    "duration": 20,
    "start_time": "2024-01-18T14:02:25.818Z"
   },
   {
    "duration": 7,
    "start_time": "2024-01-18T14:02:25.840Z"
   },
   {
    "duration": 98,
    "start_time": "2024-01-18T14:02:25.848Z"
   },
   {
    "duration": 129,
    "start_time": "2024-01-18T14:02:25.948Z"
   },
   {
    "duration": 154,
    "start_time": "2024-01-18T14:02:26.079Z"
   },
   {
    "duration": 156,
    "start_time": "2024-01-18T14:02:26.235Z"
   },
   {
    "duration": 123,
    "start_time": "2024-01-18T14:02:26.393Z"
   },
   {
    "duration": 123,
    "start_time": "2024-01-18T14:02:26.518Z"
   },
   {
    "duration": 207,
    "start_time": "2024-01-18T14:02:26.642Z"
   },
   {
    "duration": 2539,
    "start_time": "2024-01-18T14:02:26.858Z"
   },
   {
    "duration": 0,
    "start_time": "2024-01-18T14:02:29.400Z"
   },
   {
    "duration": 0,
    "start_time": "2024-01-18T14:02:29.401Z"
   },
   {
    "duration": 0,
    "start_time": "2024-01-18T14:02:29.402Z"
   },
   {
    "duration": 0,
    "start_time": "2024-01-18T14:02:29.403Z"
   },
   {
    "duration": 0,
    "start_time": "2024-01-18T14:02:29.404Z"
   },
   {
    "duration": 0,
    "start_time": "2024-01-18T14:02:29.405Z"
   },
   {
    "duration": 0,
    "start_time": "2024-01-18T14:02:29.406Z"
   },
   {
    "duration": 0,
    "start_time": "2024-01-18T14:02:29.407Z"
   },
   {
    "duration": 0,
    "start_time": "2024-01-18T14:02:29.408Z"
   },
   {
    "duration": 0,
    "start_time": "2024-01-18T14:02:29.409Z"
   },
   {
    "duration": 0,
    "start_time": "2024-01-18T14:02:29.410Z"
   },
   {
    "duration": 0,
    "start_time": "2024-01-18T14:02:29.411Z"
   },
   {
    "duration": 0,
    "start_time": "2024-01-18T14:02:29.412Z"
   },
   {
    "duration": 0,
    "start_time": "2024-01-18T14:02:29.413Z"
   },
   {
    "duration": 0,
    "start_time": "2024-01-18T14:02:29.414Z"
   },
   {
    "duration": 0,
    "start_time": "2024-01-18T14:02:29.415Z"
   },
   {
    "duration": 0,
    "start_time": "2024-01-18T14:02:29.416Z"
   },
   {
    "duration": 0,
    "start_time": "2024-01-18T14:02:29.418Z"
   },
   {
    "duration": 0,
    "start_time": "2024-01-18T14:02:29.419Z"
   },
   {
    "duration": 0,
    "start_time": "2024-01-18T14:02:29.420Z"
   },
   {
    "duration": 0,
    "start_time": "2024-01-18T14:02:29.421Z"
   },
   {
    "duration": 0,
    "start_time": "2024-01-18T14:02:29.422Z"
   },
   {
    "duration": 0,
    "start_time": "2024-01-18T14:02:29.423Z"
   },
   {
    "duration": 0,
    "start_time": "2024-01-18T14:02:29.424Z"
   },
   {
    "duration": 6,
    "start_time": "2024-01-18T14:02:46.479Z"
   },
   {
    "duration": 6,
    "start_time": "2024-01-18T14:02:50.633Z"
   },
   {
    "duration": 8,
    "start_time": "2024-01-18T14:02:50.641Z"
   },
   {
    "duration": 182,
    "start_time": "2024-01-18T14:02:50.651Z"
   },
   {
    "duration": 697,
    "start_time": "2024-01-18T14:02:50.834Z"
   },
   {
    "duration": 14,
    "start_time": "2024-01-18T14:02:51.533Z"
   },
   {
    "duration": 5,
    "start_time": "2024-01-18T14:02:51.559Z"
   },
   {
    "duration": 16,
    "start_time": "2024-01-18T14:02:51.566Z"
   },
   {
    "duration": 19,
    "start_time": "2024-01-18T14:02:51.584Z"
   },
   {
    "duration": 4,
    "start_time": "2024-01-18T14:02:51.605Z"
   },
   {
    "duration": 8,
    "start_time": "2024-01-18T14:02:51.611Z"
   },
   {
    "duration": 10,
    "start_time": "2024-01-18T14:02:51.620Z"
   },
   {
    "duration": 11,
    "start_time": "2024-01-18T14:02:51.631Z"
   },
   {
    "duration": 44,
    "start_time": "2024-01-18T14:02:51.646Z"
   },
   {
    "duration": 22,
    "start_time": "2024-01-18T14:02:51.692Z"
   },
   {
    "duration": 21,
    "start_time": "2024-01-18T14:02:51.715Z"
   },
   {
    "duration": 16,
    "start_time": "2024-01-18T14:02:51.738Z"
   },
   {
    "duration": 26,
    "start_time": "2024-01-18T14:02:51.756Z"
   },
   {
    "duration": 8,
    "start_time": "2024-01-18T14:02:51.784Z"
   },
   {
    "duration": 3961668,
    "start_time": "2024-01-18T14:02:51.794Z"
   },
   {
    "duration": 8,
    "start_time": "2024-01-18T15:08:53.464Z"
   },
   {
    "duration": 14,
    "start_time": "2024-01-18T15:08:53.473Z"
   },
   {
    "duration": 280,
    "start_time": "2024-01-18T15:08:53.489Z"
   },
   {
    "duration": 11,
    "start_time": "2024-01-18T15:08:53.770Z"
   },
   {
    "duration": 8,
    "start_time": "2024-01-18T15:08:53.784Z"
   },
   {
    "duration": 62073,
    "start_time": "2024-01-18T15:08:53.794Z"
   },
   {
    "duration": 256,
    "start_time": "2024-01-18T15:10:02.325Z"
   },
   {
    "duration": 252,
    "start_time": "2024-01-18T15:10:14.991Z"
   },
   {
    "duration": 39113,
    "start_time": "2024-01-18T15:10:43.160Z"
   },
   {
    "duration": 60711,
    "start_time": "2024-01-18T15:11:44.068Z"
   },
   {
    "duration": 6,
    "start_time": "2024-01-18T15:13:03.271Z"
   },
   {
    "duration": 27052,
    "start_time": "2024-01-18T15:13:04.506Z"
   },
   {
    "duration": 27133,
    "start_time": "2024-01-18T15:17:29.436Z"
   },
   {
    "duration": 28806,
    "start_time": "2024-01-18T15:19:19.769Z"
   },
   {
    "duration": 2618,
    "start_time": "2024-01-18T21:53:46.563Z"
   },
   {
    "duration": 1952,
    "start_time": "2024-01-18T21:53:49.184Z"
   },
   {
    "duration": 3,
    "start_time": "2024-01-18T21:53:51.138Z"
   },
   {
    "duration": 29,
    "start_time": "2024-01-18T21:53:51.144Z"
   },
   {
    "duration": 15,
    "start_time": "2024-01-18T21:53:51.175Z"
   },
   {
    "duration": 24,
    "start_time": "2024-01-18T21:53:51.192Z"
   },
   {
    "duration": 12,
    "start_time": "2024-01-18T21:53:51.218Z"
   },
   {
    "duration": 29,
    "start_time": "2024-01-18T21:53:51.232Z"
   },
   {
    "duration": 216,
    "start_time": "2024-01-18T21:53:51.263Z"
   },
   {
    "duration": 185,
    "start_time": "2024-01-18T21:53:51.482Z"
   },
   {
    "duration": 184,
    "start_time": "2024-01-18T21:53:51.669Z"
   },
   {
    "duration": 183,
    "start_time": "2024-01-18T21:53:51.858Z"
   },
   {
    "duration": 198,
    "start_time": "2024-01-18T21:53:52.043Z"
   },
   {
    "duration": 6,
    "start_time": "2024-01-18T21:53:52.243Z"
   },
   {
    "duration": 314,
    "start_time": "2024-01-18T21:53:52.251Z"
   },
   {
    "duration": 3,
    "start_time": "2024-01-18T21:53:52.567Z"
   },
   {
    "duration": 7,
    "start_time": "2024-01-18T21:53:52.571Z"
   },
   {
    "duration": 13,
    "start_time": "2024-01-18T21:53:52.579Z"
   },
   {
    "duration": 113,
    "start_time": "2024-01-18T21:53:52.593Z"
   },
   {
    "duration": 135,
    "start_time": "2024-01-18T21:53:52.707Z"
   },
   {
    "duration": 156,
    "start_time": "2024-01-18T21:53:52.844Z"
   },
   {
    "duration": 169,
    "start_time": "2024-01-18T21:53:53.002Z"
   },
   {
    "duration": 121,
    "start_time": "2024-01-18T21:53:53.173Z"
   },
   {
    "duration": 123,
    "start_time": "2024-01-18T21:53:53.296Z"
   },
   {
    "duration": 220,
    "start_time": "2024-01-18T21:53:53.421Z"
   },
   {
    "duration": 7,
    "start_time": "2024-01-18T21:53:53.643Z"
   },
   {
    "duration": 3,
    "start_time": "2024-01-18T21:53:53.659Z"
   },
   {
    "duration": 179,
    "start_time": "2024-01-18T21:53:53.665Z"
   },
   {
    "duration": 683,
    "start_time": "2024-01-18T21:53:53.846Z"
   },
   {
    "duration": 14,
    "start_time": "2024-01-18T21:53:54.531Z"
   },
   {
    "duration": 5,
    "start_time": "2024-01-18T21:53:54.558Z"
   },
   {
    "duration": 11,
    "start_time": "2024-01-18T21:53:54.564Z"
   },
   {
    "duration": 6,
    "start_time": "2024-01-18T21:53:54.577Z"
   },
   {
    "duration": 11,
    "start_time": "2024-01-18T21:53:54.585Z"
   },
   {
    "duration": 7,
    "start_time": "2024-01-18T21:53:54.597Z"
   },
   {
    "duration": 9,
    "start_time": "2024-01-18T21:53:54.606Z"
   },
   {
    "duration": 7,
    "start_time": "2024-01-18T21:53:54.617Z"
   },
   {
    "duration": 40,
    "start_time": "2024-01-18T21:53:54.625Z"
   },
   {
    "duration": 8,
    "start_time": "2024-01-18T21:53:54.667Z"
   },
   {
    "duration": 9,
    "start_time": "2024-01-18T21:53:54.676Z"
   },
   {
    "duration": 4,
    "start_time": "2024-01-18T21:53:54.686Z"
   },
   {
    "duration": 5,
    "start_time": "2024-01-18T21:53:54.692Z"
   },
   {
    "duration": 8,
    "start_time": "2024-01-18T21:53:54.699Z"
   },
   {
    "duration": 0,
    "start_time": "2024-01-18T22:00:43.571Z"
   },
   {
    "duration": 0,
    "start_time": "2024-01-18T22:00:43.572Z"
   },
   {
    "duration": 0,
    "start_time": "2024-01-18T22:00:43.573Z"
   },
   {
    "duration": 0,
    "start_time": "2024-01-18T22:00:43.574Z"
   },
   {
    "duration": 0,
    "start_time": "2024-01-18T22:00:43.575Z"
   },
   {
    "duration": 0,
    "start_time": "2024-01-18T22:00:43.576Z"
   },
   {
    "duration": 0,
    "start_time": "2024-01-18T22:00:43.577Z"
   },
   {
    "duration": 0,
    "start_time": "2024-01-18T22:00:43.578Z"
   },
   {
    "duration": 2642,
    "start_time": "2024-01-18T22:01:43.739Z"
   },
   {
    "duration": 2030,
    "start_time": "2024-01-18T22:01:46.383Z"
   },
   {
    "duration": 3,
    "start_time": "2024-01-18T22:01:48.414Z"
   },
   {
    "duration": 30,
    "start_time": "2024-01-18T22:01:48.419Z"
   },
   {
    "duration": 31,
    "start_time": "2024-01-18T22:01:48.451Z"
   },
   {
    "duration": 29,
    "start_time": "2024-01-18T22:01:48.484Z"
   },
   {
    "duration": 11,
    "start_time": "2024-01-18T22:01:48.515Z"
   },
   {
    "duration": 24,
    "start_time": "2024-01-18T22:01:48.528Z"
   },
   {
    "duration": 236,
    "start_time": "2024-01-18T22:01:48.554Z"
   },
   {
    "duration": 188,
    "start_time": "2024-01-18T22:01:48.793Z"
   },
   {
    "duration": 216,
    "start_time": "2024-01-18T22:01:48.983Z"
   },
   {
    "duration": 206,
    "start_time": "2024-01-18T22:01:49.201Z"
   },
   {
    "duration": 196,
    "start_time": "2024-01-18T22:01:49.409Z"
   },
   {
    "duration": 5,
    "start_time": "2024-01-18T22:01:49.607Z"
   },
   {
    "duration": 329,
    "start_time": "2024-01-18T22:01:49.613Z"
   },
   {
    "duration": 3,
    "start_time": "2024-01-18T22:01:49.944Z"
   },
   {
    "duration": 18,
    "start_time": "2024-01-18T22:01:49.959Z"
   },
   {
    "duration": 19,
    "start_time": "2024-01-18T22:01:49.979Z"
   },
   {
    "duration": 129,
    "start_time": "2024-01-18T22:01:49.999Z"
   },
   {
    "duration": 134,
    "start_time": "2024-01-18T22:01:50.129Z"
   },
   {
    "duration": 157,
    "start_time": "2024-01-18T22:01:50.264Z"
   },
   {
    "duration": 177,
    "start_time": "2024-01-18T22:01:50.422Z"
   },
   {
    "duration": 128,
    "start_time": "2024-01-18T22:01:50.601Z"
   },
   {
    "duration": 124,
    "start_time": "2024-01-18T22:01:50.730Z"
   },
   {
    "duration": 213,
    "start_time": "2024-01-18T22:01:50.859Z"
   },
   {
    "duration": 6,
    "start_time": "2024-01-18T22:01:51.073Z"
   },
   {
    "duration": 30,
    "start_time": "2024-01-18T22:01:51.081Z"
   },
   {
    "duration": 184,
    "start_time": "2024-01-18T22:01:51.115Z"
   },
   {
    "duration": 662,
    "start_time": "2024-01-18T22:01:51.300Z"
   },
   {
    "duration": 15,
    "start_time": "2024-01-18T22:01:51.964Z"
   },
   {
    "duration": 6,
    "start_time": "2024-01-18T22:01:51.980Z"
   },
   {
    "duration": 5,
    "start_time": "2024-01-18T22:01:51.988Z"
   },
   {
    "duration": 31,
    "start_time": "2024-01-18T22:01:51.995Z"
   },
   {
    "duration": 11,
    "start_time": "2024-01-18T22:01:52.027Z"
   },
   {
    "duration": 20,
    "start_time": "2024-01-18T22:01:52.039Z"
   },
   {
    "duration": 12,
    "start_time": "2024-01-18T22:01:52.060Z"
   },
   {
    "duration": 36,
    "start_time": "2024-01-18T22:01:52.073Z"
   },
   {
    "duration": 16,
    "start_time": "2024-01-18T22:01:52.111Z"
   },
   {
    "duration": 14,
    "start_time": "2024-01-18T22:01:52.129Z"
   },
   {
    "duration": 14,
    "start_time": "2024-01-18T22:01:52.144Z"
   },
   {
    "duration": 33,
    "start_time": "2024-01-18T22:01:52.160Z"
   },
   {
    "duration": 26,
    "start_time": "2024-01-18T22:01:52.195Z"
   },
   {
    "duration": 13,
    "start_time": "2024-01-18T22:01:52.223Z"
   }
  ],
  "kernelspec": {
   "display_name": "Python 3 (ipykernel)",
   "language": "python",
   "name": "python3"
  },
  "language_info": {
   "codemirror_mode": {
    "name": "ipython",
    "version": 3
   },
   "file_extension": ".py",
   "mimetype": "text/x-python",
   "name": "python",
   "nbconvert_exporter": "python",
   "pygments_lexer": "ipython3",
   "version": "3.9.5"
  },
  "toc": {
   "base_numbering": 1,
   "nav_menu": {},
   "number_sections": false,
   "sideBar": true,
   "skip_h1_title": false,
   "title_cell": "Table of Contents",
   "title_sidebar": "Contents",
   "toc_cell": false,
   "toc_position": {},
   "toc_section_display": true,
   "toc_window_display": false
  },
  "varInspector": {
   "cols": {
    "lenName": 16,
    "lenType": 16,
    "lenVar": 40
   },
   "kernels_config": {
    "python": {
     "delete_cmd_postfix": "",
     "delete_cmd_prefix": "del ",
     "library": "var_list.py",
     "varRefreshCmd": "print(var_dic_list())"
    },
    "r": {
     "delete_cmd_postfix": ") ",
     "delete_cmd_prefix": "rm(",
     "library": "var_list.r",
     "varRefreshCmd": "cat(var_dic_list()) "
    }
   },
   "types_to_exclude": [
    "module",
    "function",
    "builtin_function_or_method",
    "instance",
    "_Feature"
   ],
   "window_display": false
  }
 },
 "nbformat": 4,
 "nbformat_minor": 5
}
